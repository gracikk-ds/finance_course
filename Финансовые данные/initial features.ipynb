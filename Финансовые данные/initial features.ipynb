{
 "cells": [
  {
   "cell_type": "code",
   "execution_count": 1,
   "metadata": {
    "ExecuteTime": {
     "end_time": "2020-04-26T05:29:50.388483Z",
     "start_time": "2020-04-26T05:29:47.337646Z"
    }
   },
   "outputs": [
    {
     "name": "stdout",
     "output_type": "stream",
     "text": [
      "Populating the interactive namespace from numpy and matplotlib\n"
     ]
    }
   ],
   "source": [
    "import pandas as pd\n",
    "import numpy as np\n",
    "import scipy as sc\n",
    "\n",
    "\n",
    "import warnings \n",
    "warnings.filterwarnings('ignore')\n",
    "\n",
    "\n",
    "import matplotlib.pyplot as plt\n",
    "import seaborn as sns\n",
    "from pylab import rcParams\n",
    "rcParams['figure.figsize'] = 8, 5\n",
    "%pylab inline\n",
    "\n",
    "import datetime\n",
    "import dateutil.relativedelta\n",
    "\n",
    "import urllib"
   ]
  },
  {
   "cell_type": "code",
   "execution_count": 2,
   "metadata": {
    "ExecuteTime": {
     "end_time": "2020-04-26T05:29:50.400452Z",
     "start_time": "2020-04-26T05:29:50.390481Z"
    }
   },
   "outputs": [],
   "source": [
    "Liabilities = ['DataDate', 'company','Sector',\n",
    "                  'STD', 'LTD', 'other_liabilities',\n",
    "                  'acc_payable','int_exp', 'liabilities_total']\n",
    "\n",
    "Equity = ['DataDate', 'GVKey','Iid','Sector',\n",
    "             'equity', 'Retained Earnings', 'stockholders_equity',\n",
    "             'tangible_equity','book_value_per_share', \n",
    "             'Invested_capital', 'preference_stock' ]\n",
    "\n",
    "Assets = ['DataDate', 'GVKey','Iid','Sector',\n",
    "             'cur_assets', 'total_assets','cash', \n",
    "             'intangible_assets', 'inventories', 'acc_receivables']\n",
    "\n",
    "PL = ['DataDate', 'GVKey','Iid','Sector',\n",
    "         'sales', 'COGS', 'amort','Other_exp', 'ebit', \n",
    "         'interests_paid_net','tax', 'deferred_taxes', \n",
    "         'deferred_taxes_fed','deferred_taxes_foreign', 'income_taxes' ]\n",
    "\n",
    "CF = ['DataDate', 'GVKey','Iid','Sector',\n",
    "         'capex', 'dividends', 'op_act_net_CF', \n",
    "         'op_inc_after_dep', 'op_in_before_dep']\n",
    "\n",
    "other = ['DataDate', 'GVKey','Iid','Sector',\n",
    "            'employees', 'minority_interests', \n",
    "            'noncontrolling_interests', 'marketable_sec', \n",
    "            'working_cap', 'mii', 'Implied Option Expense']\n",
    "\n",
    "Coef_tab = ['DataDate', 'GVKey','Iid','Sector',\n",
    "               'EarningsYld', 'EpsGrowth1Yr', 'GrossMargin', \n",
    "               'OperatingMargin','PriceBook', 'ROA', 'ROE', \n",
    "               'SalesGrowth1Yr', 'SalesGrowth5Yr', 'SalesYld' ]"
   ]
  },
  {
   "cell_type": "code",
   "execution_count": 3,
   "metadata": {
    "ExecuteTime": {
     "end_time": "2020-04-26T05:30:09.195187Z",
     "start_time": "2020-04-26T05:29:50.403444Z"
    }
   },
   "outputs": [],
   "source": [
    "dd = pd.read_excel('New_Market_Data.xlsx')\n",
    "dd.drop(columns = ['Unnamed: 0'], inplace = True)"
   ]
  },
  {
   "cell_type": "code",
   "execution_count": 4,
   "metadata": {
    "ExecuteTime": {
     "end_time": "2020-04-26T05:30:16.120665Z",
     "start_time": "2020-04-26T05:30:09.197182Z"
    }
   },
   "outputs": [],
   "source": [
    "df = pd.read_excel('New_Fundamental_Data.xlsx')\n",
    "df.drop(columns = ['Unnamed: 0'], inplace = True)\n",
    "df.drop_duplicates(inplace=True)"
   ]
  },
  {
   "cell_type": "code",
   "execution_count": 5,
   "metadata": {
    "ExecuteTime": {
     "end_time": "2020-04-26T05:30:16.146597Z",
     "start_time": "2020-04-26T05:30:16.122660Z"
    }
   },
   "outputs": [],
   "source": [
    "l = df[['company', 'Sector', 'DataDate']]\n",
    "index = l[l.duplicated(keep = False)].index\n",
    "df.drop(index, inplace = True)"
   ]
  },
  {
   "cell_type": "code",
   "execution_count": 13,
   "metadata": {
    "ExecuteTime": {
     "end_time": "2020-04-24T07:18:15.880724Z",
     "start_time": "2020-04-24T07:18:15.869719Z"
    }
   },
   "outputs": [],
   "source": [
    "df = df.iloc[:-7,:]"
   ]
  },
  {
   "cell_type": "code",
   "execution_count": 6,
   "metadata": {
    "ExecuteTime": {
     "end_time": "2020-04-26T05:30:42.864233Z",
     "start_time": "2020-04-26T05:30:16.149589Z"
    }
   },
   "outputs": [],
   "source": [
    "wacc = pd.read_excel('wacc.xlsx')\n",
    "\n",
    "# Считаем Доли долга и Доли собственного капитала\n",
    "DE = pd.read_excel('DE.xlsx')\n",
    "D = DE[['Date_1', 'gvkey', 'D']]\n",
    "D = D.rename(columns = {'Date_1': 'Date'})\n",
    "E = DE[['Date_2', 'gvkey.1', 'MkVal']]\n",
    "E = E.rename(columns = {'Date_2': 'Date', 'gvkey.1': 'gvkey'})\n",
    "DE = D.merge(E)\n",
    "DE['dD'] = DE['D']/ (DE['MkVal'] + DE['D'])\n",
    "DE['dE'] = DE['MkVal']/ (DE['MkVal'] + DE['D'])\n",
    "DE = DE.rename(columns = {'Date': 'Year', 'gvkey': 'FIRM'})\n",
    "DE = DE.assign(Year=DE.Year.dt.year)\n",
    "DE.drop_duplicates(inplace=True)\n",
    "DE.dropna(inplace=True)\n",
    "\n",
    "naming = pd.read_excel('my_excel_file.xlsx')\n",
    "\n",
    "list = []\n",
    "for element in DE['FIRM']:\n",
    "    if element in np.array(naming['GVKey']):\n",
    "        list.append(1)\n",
    "    else:\n",
    "        list.append(0)\n",
    "\n",
    "DE['indexing'] = list\n",
    "DE = DE[DE.indexing == 1]\n",
    "\n",
    "DE['company'] = 'new_name'\n",
    "DE['label'] = 'new_label'\n",
    "for element in np.array(naming['GVKey']):\n",
    "    DE['company'][DE['FIRM'] == element] = np.array(naming['Company'][naming['GVKey'] == element])[0]\n",
    "    DE['label'][DE['FIRM'] == element] = np.array(naming['Label'][naming['GVKey'] == element])[0]\n",
    "\n",
    "wacc = pd.merge(wacc, DE, how = 'left')\n",
    "wacc.drop_duplicates(inplace = True)\n",
    "wacc['dD'] = wacc.groupby('company')['dD'].fillna(method='ffill')\n",
    "wacc['dE'] = wacc.groupby('company')['dE'].fillna(method='ffill')\n",
    "\n",
    "wacc['dD'] = wacc.groupby('company')['dD'].fillna(method='bfill')\n",
    "wacc['dE'] = wacc.groupby('company')['dE'].fillna(method='bfill')\n",
    "\n",
    "tax = df[['DataDate', 'label','income_taxes', 'ebit']]\n",
    "tax.dropna(inplace = True)\n",
    "tax['dtax'] = tax['income_taxes']/ tax['ebit']\n",
    "tax = tax.rename(columns = {'DataDate' : 'Year'})\n",
    "tax = tax.assign(Year=tax.Year.dt.year)\n",
    "wacc = pd.merge(wacc, tax, how = 'left')\n",
    "wacc['income_taxes'] = wacc.groupby('company')['income_taxes'].fillna(method='ffill')\n",
    "wacc['income_taxes'] = wacc.groupby('company')['income_taxes'].fillna(method='bfill')\n",
    "\n",
    "wacc = wacc[['Year', 'company', 'label','Re', 'dE', 'Rd', 'dD','dtax', 'beta', 'ERP', 'Rf', 'spread',   'D', 'MkVal' ]]\n",
    "\n",
    "wacc['wacc'] = wacc['dD'] * wacc['Rd'] * (1-wacc['dtax'])  + wacc['dE'] * wacc['Re']"
   ]
  },
  {
   "cell_type": "code",
   "execution_count": 14,
   "metadata": {
    "ExecuteTime": {
     "end_time": "2020-04-26T05:30:44.490804Z",
     "start_time": "2020-04-26T05:30:42.866138Z"
    }
   },
   "outputs": [],
   "source": [
    "div = df[['DataDate', 'company', 'dividends', 'total_assets']]\n",
    "\n",
    "div['DataDate+1m'] = [element + dateutil.relativedelta.relativedelta(months=1) for element in div['DataDate']]\n",
    "div['DataDate+1m+1d'] = [element + dateutil.relativedelta.relativedelta(day=31) for element in div['DataDate+1m']]\n",
    "\n",
    "div['DataDate-1y'] = [element - dateutil.relativedelta.relativedelta(months=12) for element in div['DataDate']]\n",
    "div['DataDate-1ym'] = [element - dateutil.relativedelta.relativedelta(months=11) for element in div['DataDate']]\n",
    "div['DataDate-1ym+1d'] = [element + dateutil.relativedelta.relativedelta(day=31) for element in div['DataDate-1ym']]\n",
    "div.dropna(inplace = True)\n",
    "\n",
    "MK = dd[['DataDate', 'company', 'MK']]\n",
    "MK['DataDate+1m'] = MK['DataDate']\n",
    "MK['DataDate+1m+1d'] = MK['DataDate']\n",
    "MK['DataDate-1y'] = MK['DataDate']\n",
    "MK['DataDate-1ym'] = MK['DataDate']\n",
    "MK['DataDate-1ym+1d'] = MK['DataDate']\n",
    "\n",
    "tsr = pd.merge(div, MK[['DataDate', 'company', 'MK']], how = 'left', on = ['DataDate', 'company'])\n",
    "tsr = pd.merge(tsr, MK[['DataDate+1m', 'company', 'MK']], how = 'left', on = ['DataDate+1m', 'company'])\n",
    "tsr = pd.merge(tsr, MK[['DataDate+1m+1d', 'company', 'MK']], how = 'left', on = ['DataDate+1m+1d', 'company'])\n",
    "tsr = pd.merge(tsr, MK[['DataDate-1y', 'company', 'MK']], how = 'left', on = ['DataDate-1y', 'company'])\n",
    "tsr = pd.merge(tsr, MK[['DataDate-1ym', 'company', 'MK']], how = 'left', on = ['DataDate-1ym', 'company'])\n",
    "tsr = pd.merge(tsr, MK[['DataDate-1ym+1d', 'company', 'MK']], how = 'left', on = ['DataDate-1ym+1d', 'company'])\n",
    "\n",
    "tsr.columns = ['DataDate', 'company', 'dividends', 'total_assets', 'DataDate+1m',\n",
    "       'DataDate+1m+1d', 'DataDate-1y', 'DataDate-1ym', 'DataDate-1ym+1d',\n",
    "       'MK_now', 'MK_now+1m', 'MK_now+1m+1d','MK_-1y', 'MK_-1ym', 'MK_-1ym+1d' ]\n",
    "\n",
    "tsr.MK_now = tsr.MK_now.fillna('abu')\n",
    "tsr.MK_now = tsr.MK_now.where(tsr.MK_now != 'abu', tsr['MK_now+1m'])\n",
    "tsr.MK_now = tsr.MK_now.fillna('abu')\n",
    "tsr.MK_now = tsr.MK_now.where(tsr.MK_now != 'abu', tsr['MK_now+1m+1d'])\n",
    "\n",
    "tsr['MK_-1y'] = tsr['MK_-1y'].fillna('abu')\n",
    "tsr['MK_-1y'] = tsr['MK_-1y'].where(tsr['MK_-1y'] != 'abu', tsr['MK_-1ym'])\n",
    "tsr['MK_-1y'] = tsr['MK_-1y'].fillna('abu')\n",
    "tsr['MK_-1y'] = tsr['MK_-1y'].where(tsr['MK_-1y']!= 'abu', tsr['MK_-1ym+1d'])\n",
    "\n",
    "\n",
    "tsr.MK_now = tsr.MK_now.astype('float64')\n",
    "tsr['MK_-1y'] = tsr['MK_-1y'].astype('float64')\n",
    "\n",
    "tsr.rename(columns= {'MK_now':'MK', 'MK_-1y':'MK_y'}, inplace = True)\n",
    "\n",
    "tsr['tsr'] = (tsr['dividends'] / tsr['MK_y']) + ((tsr['MK'] - tsr['MK_y'])/ tsr['MK_y'])"
   ]
  },
  {
   "cell_type": "code",
   "execution_count": null,
   "metadata": {},
   "outputs": [],
   "source": []
  },
  {
   "cell_type": "code",
   "execution_count": 15,
   "metadata": {
    "ExecuteTime": {
     "end_time": "2020-04-26T05:37:43.895129Z",
     "start_time": "2020-04-26T05:37:43.787419Z"
    }
   },
   "outputs": [],
   "source": [
    "features_list = ['DataDate', 'company', 'label', 'Sector', 'current_ratio', 'icr', 'std_coef', 'ebit/sales', \n",
    "                 'ROCE', 'eva', 'sales_growth', 'cvadrant', 'NA', 'BV/MV', 'EBITDA/EV', 'Debt/EBITDA', \n",
    "                 'Div/MV', 'Div Payout Ratio', 'TSR']\n",
    "#'K_n', 'SGI',\n",
    "\n",
    "features = df[['DataDate', 'label', 'company', 'Sector', 'cur_assets', 'STD', 'LTD', 'int_exp',\n",
    "               'acc_payable', 'ebit', 'amort', 'total_assets', 'SalesGrowth1Yr', 'SalesYld', \n",
    "              'sales', 'GrossMargin', 'income_taxes', 'Invested_capital', 'dividends', 'ROE', 'net_income' ]]\n",
    "\n",
    "features = pd.merge(features, tsr[['DataDate', 'company','MK', 'MK_y']], how = 'left', on = ['DataDate', 'company'])\n",
    "features['Year'] = pd.DatetimeIndex(features['DataDate']).year\n",
    "\n",
    "features = pd.merge(features, wacc[['Year', 'company', 'wacc']], how = 'left', on = ['Year', 'company'])\n",
    "features = features.drop_duplicates()\n",
    "\n",
    "features['EV'] =  features['MK'] + features['LTD'] + features['STD']\n",
    "features['ebitda'] = features['ebit'] + features['amort']"
   ]
  },
  {
   "cell_type": "code",
   "execution_count": 16,
   "metadata": {
    "ExecuteTime": {
     "end_time": "2020-04-26T05:37:44.192425Z",
     "start_time": "2020-04-26T05:37:44.111553Z"
    }
   },
   "outputs": [],
   "source": [
    "#\n",
    "features['current_ratio'] = features['cur_assets']/(features['STD']+ features['int_exp'] + features['acc_payable'] )\n",
    "features['current_ratio'] = features['current_ratio'].where(features['current_ratio'] < 150, 150)\n",
    "#\n",
    "\n",
    "#\n",
    "features['icr'] = features['ebit']/features['int_exp']\n",
    "features['icr'] = features['icr'].where(features['icr'] != inf, 100)\n",
    "features['icr'] = features['icr'].where(features['icr'] != -inf, 0)\n",
    "features['icr'] = features['icr'].where(features['icr'] < 1500, 1500)\n",
    "#\n",
    "\n",
    "#\n",
    "features['std_coef'] = features['STD']/ (features['LTD'] + features['STD'])\n",
    "#\n",
    "\n",
    "#\n",
    "features['ebit/sales'] = features['ebit'] / features['sales']\n",
    "#\n",
    "\n",
    "#\n",
    "features['ROCE'] = features['ebit'] / (features['total_assets'] - (features['STD'] + features['int_exp'] + features['acc_payable']))\n",
    "#\n",
    "\n",
    "# EVA = (ROIC - WACC) X Invested Capital\n",
    "features['eva'] =  (((features['ebit'] - features['income_taxes']) / \n",
    "                     features['Invested_capital']) - features['wacc']) * features['Invested_capital']\n",
    "#\n",
    "\n",
    "#!!!!!!!!!!!!\n",
    "# features['K_n'] = 0 \n",
    "#!!!!!!!!!!!!\n",
    "\n",
    "#\n",
    "features['sales_growth'] = features['SalesGrowth1Yr']\n",
    "#\n",
    "\n",
    "# !!!!!!!!!!!\n",
    "# features['SGI'] = 0 \n",
    "# !!!!!!!!!!\n",
    "\n",
    "# \n",
    "features['SGR'] =  features['ROE'] * (1 - features['dividends'] / features['net_income'])\n",
    "features['spread_m'] = features['ROCE'] - features['wacc']\n",
    "features['av_SGR'] = features.groupby(['Year', 'Sector'])[\"SGR\"].transform(\"median\")\n",
    "features['av_spread_m'] = features.groupby(['Year', 'Sector'])[\"spread_m\"].transform(\"median\")\n",
    "conditions = [\n",
    "    (features['SGR'] >= features['av_SGR']) & (features['spread_m'] >= features['av_spread_m']),\n",
    "    (features['SGR'] >= features['av_SGR']) & (features['spread_m'] <= features['av_spread_m']),\n",
    "    (features['SGR'] <= features['av_SGR']) & (features['spread_m'] >= features['av_spread_m']),\n",
    "    (features['SGR'] <= features['av_SGR']) & (features['spread_m'] <= features['av_spread_m'])]\n",
    "choices = [1, 3, 2, 4]\n",
    "features['cvadrant'] = np.select(conditions, choices, default=0)\n",
    "#\n",
    "\n",
    "# \n",
    "features['NA'] = features['total_assets'] - (features['LTD'] + features['STD'])\n",
    "#\n",
    "\n",
    "# \n",
    "features['BV/MV'] = features['total_assets'] / features['MK']\n",
    "#\n",
    "\n",
    "# !!!!!!!!!!\n",
    "features['EBITDA/EV'] = features['ebitda'] / features['EV']\n",
    "# !!!!!!!!!!\n",
    "\n",
    "# !!!!!!!!!!\n",
    "features['Debt/EBITDA'] = (features['LTD'] + features['STD']) / features['ebitda']\n",
    "# !!!!!!!!!!\n",
    "\n",
    "# !!!!!!!!!!\n",
    "features['Div/MV'] = features['dividends'] / features['MK']\n",
    "# !!!!!!!!!!\n",
    "\n",
    "# !!!!!!!!!!\n",
    "features['Div Payout Ratio'] = features['dividends'] / features['net_income']\n",
    "features['Div Payout Ratio'] = features['Div Payout Ratio'].where(features['Div Payout Ratio'] != inf, 100)\n",
    "features['Div Payout Ratio'] = features['Div Payout Ratio'].where(features['Div Payout Ratio'] != -inf, 0)\n",
    "features['Div Payout Ratio'] = features['Div Payout Ratio'].where(features['Div Payout Ratio'] < 1500, 1500)\n",
    "# !!!!!!!!!!\n",
    "\n",
    "features['TSR'] = (features['dividends'] / features['MK_y']) + ((features['MK'] - features['MK_y'])/ features['MK_y'])\n",
    "\n",
    "features = features[features_list]"
   ]
  },
  {
   "cell_type": "code",
   "execution_count": 17,
   "metadata": {
    "ExecuteTime": {
     "end_time": "2020-04-26T05:37:44.406764Z",
     "start_time": "2020-04-26T05:37:44.400780Z"
    }
   },
   "outputs": [],
   "source": [
    "features['BV/MV'] = features['BV/MV'].astype('float64')\n",
    "features['TSR'] = features['TSR'].astype('float64')"
   ]
  },
  {
   "cell_type": "code",
   "execution_count": 18,
   "metadata": {
    "ExecuteTime": {
     "end_time": "2020-04-26T05:37:53.008326Z",
     "start_time": "2020-04-26T05:37:44.726909Z"
    }
   },
   "outputs": [],
   "source": [
    "ind = np.array([])\n",
    "for element in features.columns[4:]:\n",
    "    outliers = np.array(features[features.groupby('company')[element].apply(lambda x: np.abs(x - x.median()) > \\\n",
    "                                                             (3 * 1.4826 * x.mad()))].any(axis=1).index)\n",
    "    outliers = [index for index in outliers if index not in ind]\n",
    "    ind =  np.concatenate((outliers, ind), axis=None)\n",
    "\n",
    "features.drop(ind, inplace = True)"
   ]
  },
  {
   "cell_type": "code",
   "execution_count": 22,
   "metadata": {},
   "outputs": [],
   "source": [
    "features.reset_index(drop = True, inplace = True)"
   ]
  },
  {
   "cell_type": "code",
   "execution_count": 23,
   "metadata": {},
   "outputs": [
    {
     "data": {
      "text/plain": [
       "Index(['DataDate', 'company', 'label', 'Sector', 'current_ratio', 'icr',\n",
       "       'std_coef', 'ebit/sales', 'ROCE', 'eva', 'sales_growth', 'cvadrant',\n",
       "       'NA', 'BV/MV', 'EBITDA/EV', 'Debt/EBITDA', 'Div/MV', 'Div Payout Ratio',\n",
       "       'TSR'],\n",
       "      dtype='object')"
      ]
     },
     "execution_count": 23,
     "metadata": {},
     "output_type": "execute_result"
    }
   ],
   "source": [
    "features.columns"
   ]
  },
  {
   "cell_type": "code",
   "execution_count": 29,
   "metadata": {},
   "outputs": [],
   "source": [
    "features[['current_ratio', 'icr','std_coef', 'ebit/sales', 'ROCE', 'eva', 'sales_growth', 'cvadrant',\n",
    "       'NA', 'BV/MV', 'EBITDA/EV', 'Debt/EBITDA', 'Div/MV', 'Div Payout Ratio']].describe().T.to_excel('describe_table_init.xlsx')"
   ]
  },
  {
   "cell_type": "code",
   "execution_count": 39,
   "metadata": {
    "ExecuteTime": {
     "end_time": "2020-04-26T05:37:53.090190Z",
     "start_time": "2020-04-26T05:37:53.010315Z"
    }
   },
   "outputs": [],
   "source": [
    "features['Year'] = features['DataDate'].dt.year\n",
    "sec_features = pd.DataFrame(features.groupby(['Year','Sector'])['current_ratio'].mean()).reset_index()\n",
    "sec_features = sec_features.rename(columns = {'current_ratio':'current_ratio_sec'})\n",
    "for ind in features.columns[5:-1]:\n",
    "    sec_features[ind + '_sec'] = pd.DataFrame(features.groupby(['Year','Sector'])[ind].median()).reset_index().iloc[:, 2]"
   ]
  },
  {
   "cell_type": "code",
   "execution_count": 40,
   "metadata": {
    "ExecuteTime": {
     "end_time": "2020-04-26T05:37:53.110081Z",
     "start_time": "2020-04-26T05:37:53.093096Z"
    }
   },
   "outputs": [],
   "source": [
    "features = pd.merge(features, sec_features, how = 'left', on = ['Year', 'Sector'])\n",
    "features = features.iloc[:-1, :]"
   ]
  },
  {
   "cell_type": "code",
   "execution_count": 41,
   "metadata": {
    "ExecuteTime": {
     "end_time": "2020-04-26T05:37:53.226737Z",
     "start_time": "2020-04-26T05:37:53.112042Z"
    }
   },
   "outputs": [],
   "source": [
    "features_col = ['current_ratio', 'icr', 'std_coef', 'ebit/sales', 'ROCE', 'eva', \n",
    "                'sales_growth', 'cvadrant', 'NA', 'BV/MV', 'EBITDA/EV', 'Debt/EBITDA', \n",
    "                'Div/MV', 'Div Payout Ratio', 'TSR']\n",
    "for feature in features_col:\n",
    "    features[feature + '_sec_rel'] = np.log(features[feature]/features[feature + '_sec'])\n",
    "    features.drop(columns = feature + '_sec', inplace = True)\n"
   ]
  },
  {
   "cell_type": "code",
   "execution_count": 46,
   "metadata": {
    "ExecuteTime": {
     "end_time": "2020-04-26T05:38:21.890114Z",
     "start_time": "2020-04-26T05:38:21.656702Z"
    }
   },
   "outputs": [
    {
     "data": {
      "image/png": "[encoded data removed]",
      "text/plain": [
       "<Figure size 1440x360 with 1 Axes>"
      ]
     },
     "metadata": {
      "needs_background": "light"
     },
     "output_type": "display_data"
    }
   ],
   "source": [
    "features_nan = features\n",
    "features_nan['NAN'] = features_nan.isnull().sum(axis = 1)\n",
    "\n",
    "ax = features_nan.groupby('Year')['NAN'].sum().plot(kind='bar', color='#86bf91', \n",
    "                            zorder=2, figsize = (20,5)) \n",
    "plt.xticks(np.arange(len(features_nan.Year.drop_duplicates())), \n",
    "           features_nan.Year.drop_duplicates(), rotation=90)\n",
    "plt.show()"
   ]
  },
  {
   "cell_type": "code",
   "execution_count": 43,
   "metadata": {
    "ExecuteTime": {
     "end_time": "2020-04-26T05:37:55.879676Z",
     "start_time": "2020-04-26T05:37:55.872662Z"
    }
   },
   "outputs": [],
   "source": [
    "features = features[features.Year < 2018]"
   ]
  },
  {
   "cell_type": "code",
   "execution_count": 47,
   "metadata": {
    "ExecuteTime": {
     "end_time": "2020-04-26T05:38:28.822625Z",
     "start_time": "2020-04-26T05:38:28.737765Z"
    }
   },
   "outputs": [],
   "source": [
    "for feature in features.columns:\n",
    "    features[feature] = features[feature].where(features[feature] != -inf, 0)\n",
    "    features[feature] = features[feature].where(features[feature] != inf, 0)"
   ]
  },
  {
   "cell_type": "code",
   "execution_count": 45,
   "metadata": {
    "ExecuteTime": {
     "end_time": "2020-04-26T05:38:19.729858Z",
     "start_time": "2020-04-26T05:38:19.721878Z"
    }
   },
   "outputs": [],
   "source": [
    "features.drop(columns = ['TSR_sec_rel'], inplace = True)"
   ]
  },
  {
   "cell_type": "code",
   "execution_count": 147,
   "metadata": {},
   "outputs": [],
   "source": [
    "features_stat = features.describe().T[['count', '50%','mean', 'std']].round(2)\n",
    "features_stat\n",
    "features_stat.to_excel('in_features_stat.xlsx')"
   ]
  },
  {
   "cell_type": "code",
   "execution_count": 139,
   "metadata": {},
   "outputs": [
    {
     "data": {
      "image/png": "[encoded data removed]",
      "text/plain": [
       "<Figure size 792x648 with 2 Axes>"
      ]
     },
     "metadata": {},
     "output_type": "display_data"
    }
   ],
   "source": [
    "%config InlineBackend.figure_format = 'png' \n",
    "sns.set(style=\"white\", palette = 'coolwarm')\n",
    "\n",
    "# Compute the correlation matrix\n",
    "corr = features.corr().round(2)\n",
    "\n",
    "# Generate a mask for the upper triangle\n",
    "mask = np.triu(np.ones_like(corr, dtype=np.bool))\n",
    "\n",
    "# Set up the matplotlib figure\n",
    "f, ax = plt.subplots(figsize=(11, 9))\n",
    "\n",
    "# Generate a custom diverging colormap\n",
    "cmap = sns.diverging_palette(220, 10, as_cmap=True)\n",
    "\n",
    "# Draw the heatmap with the mask and correct aspect ratio\n",
    "sns.heatmap(corr, mask=mask, cmap=cmap, center = 0, vmin= -1, vmax = +1,\n",
    "            square=True, linewidths=.5, cbar_kws={\"shrink\": .5}, annot=True)\n",
    "\n",
    "plt.yticks(rotation = 0)\n",
    "plt.xticks(rotation = 90)\n",
    "plt.show()"
   ]
  },
  {
   "cell_type": "code",
   "execution_count": 49,
   "metadata": {
    "ExecuteTime": {
     "end_time": "2020-04-26T05:39:02.517512Z",
     "start_time": "2020-04-26T05:38:58.282750Z"
    }
   },
   "outputs": [],
   "source": [
    "features_zero = features.fillna(0)\n",
    "features_zero.reset_index(inplace = True)\n",
    "features_zero.drop(columns = ['index'], inplace = True)\n",
    "l = features_zero[['company', 'Sector', 'DataDate']]\n",
    "index = l[l.duplicated(keep = False)].index\n",
    "features_zero.reset_index(drop = True, inplace = True)\n",
    "features_zero.drop(index, inplace = True)\n",
    "features.drop(columns = ['Year','cvadrant_sec_rel',  'NAN'] , inplace = True)\n",
    "features_zero.to_excel('features_zero.xlsx')"
   ]
  },
  {
   "cell_type": "code",
   "execution_count": 48,
   "metadata": {
    "ExecuteTime": {
     "end_time": "2020-04-26T05:38:43.954096Z",
     "start_time": "2020-04-26T05:38:43.650881Z"
    }
   },
   "outputs": [
    {
     "data": {
      "text/plain": [
       "<matplotlib.axes._subplots.AxesSubplot at 0x1df32457808>"
      ]
     },
     "execution_count": 48,
     "metadata": {},
     "output_type": "execute_result"
    },
    {
     "data": {
      "image/png": "[encoded data removed]",
      "text/plain": [
       "<Figure size 1800x648 with 1 Axes>"
      ]
     },
     "metadata": {
      "needs_background": "light"
     },
     "output_type": "display_data"
    }
   ],
   "source": [
    "features['Year'] = pd.DatetimeIndex(features['DataDate']).year\n",
    "Z = pd.DataFrame(features.groupby('Year')['company'].count())\n",
    "Z.reset_index(inplace = True)\n",
    "Z = Z[Z.Year > 2000]\n",
    "Z.Year = Z.Year.astype(int64)\n",
    "plt.figure( figsize=(25, 9))\n",
    "plt.title(\"Num of Companies\", fontsize = 25)\n",
    "plt.xlabel('x', fontsize = 20)\n",
    "plt.ylabel('y', fontsize = 20)\n",
    "sns.barplot(x = 'Year', y = 'company', data = Z)"
   ]
  }
 ],
 "metadata": {
  "kernelspec": {
   "display_name": "Python 3",
   "language": "python",
   "name": "python3"
  },
  "language_info": {
   "codemirror_mode": {
    "name": "ipython",
    "version": 3
   },
   "file_extension": ".py",
   "mimetype": "text/x-python",
   "name": "python",
   "nbconvert_exporter": "python",
   "pygments_lexer": "ipython3",
   "version": "3.7.6"
  }
 },
 "nbformat": 4,
 "nbformat_minor": 2
}
