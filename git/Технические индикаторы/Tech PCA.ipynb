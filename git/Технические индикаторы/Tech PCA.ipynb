{
 "cells": [
  {
   "cell_type": "code",
   "execution_count": 1,
   "metadata": {
    "ExecuteTime": {
     "end_time": "2020-04-24T08:18:54.758632Z",
     "start_time": "2020-04-24T08:18:53.222740Z"
    }
   },
   "outputs": [
    {
     "name": "stdout",
     "output_type": "stream",
     "text": [
      "Populating the interactive namespace from numpy and matplotlib\n"
     ]
    }
   ],
   "source": [
    "import pandas as pd\n",
    "import numpy as np\n",
    "import warnings\n",
    "warnings.filterwarnings('ignore')\n",
    "\n",
    "import matplotlib.pyplot as plt\n",
    "import seaborn as sns\n",
    "from pylab import rcParams\n",
    "rcParams['figure.figsize'] = 8, 5\n",
    "%pylab inline\n",
    "import datetime\n",
    "import dateutil.relativedelta"
   ]
  },
  {
   "cell_type": "code",
   "execution_count": 133,
   "metadata": {
    "ExecuteTime": {
     "end_time": "2020-04-24T08:19:52.285777Z",
     "start_time": "2020-04-24T08:18:54.761623Z"
    }
   },
   "outputs": [],
   "source": [
    "#MACD\n",
    "MACD_1 = pd.read_excel('MACD_1_125.xlsx')\n",
    "MACD_2 = pd.read_excel('MACD_126_500.xlsx')\n",
    "MACD = pd.concat([MACD_1,MACD_2])\n",
    "MACD.rename(columns = {'Unnamed: 0': 'DataDate'}, inplace = True)\n",
    "MACD['Year'] = MACD['DataDate'].dt.year\n",
    "MACD['Month'] = MACD['DataDate'].dt.month\n",
    "MACD['Day'] = MACD['DataDate'].dt.day\n",
    "\n",
    "New = MACD.groupby(['Year', 'Month', 'label'])['Day'].apply(lambda x: x.max())\n",
    "New = pd.DataFrame(New)\n",
    "new = New.reset_index()\n",
    "\n",
    "MACD_test = pd.merge(new, MACD, on = ['Year', 'Month', 'Day', 'label' ], how = 'left')\n",
    "MACD_test = MACD_test.drop(columns = 'Day')\n",
    "\n",
    "# MACD_test['DataDate'] = MACD_test['DataDate'] + pd.offsets.MonthEnd(1)\n",
    "# MACD_test = MACD_test.loc[:, ['DataDate', 'label' , 'close_hist_4_36','close_hist_8_36', \n",
    "#                             'close_hist_12_36', 'close_hist_4_24', 'close_hist_8_24', 'close_hist_12_24']]"
   ]
  },
  {
   "cell_type": "code",
   "execution_count": 141,
   "metadata": {
    "ExecuteTime": {
     "end_time": "2020-04-24T08:20:48.063611Z",
     "start_time": "2020-04-24T08:19:52.287773Z"
    }
   },
   "outputs": [],
   "source": [
    "#OBV\n",
    "OBV_1 = pd.read_excel('vol_ind_1_345.xlsx')\n",
    "OBV_2 = pd.read_excel('vol_ind_345_500.xlsx')\n",
    "OBV = pd.concat([OBV_1,OBV_2])\n",
    "OBV.rename(columns = {'Unnamed: 0': 'DataDate'}, inplace = True)\n",
    "OBV['Year'] = OBV['DataDate'].dt.year\n",
    "OBV['Month'] = OBV['DataDate'].dt.month\n",
    "OBV['Day'] = OBV['DataDate'].dt.day\n",
    "\n",
    "New = OBV.groupby(['Year', 'Month', 'label'])['Day'].apply(lambda x: x.max())\n",
    "New = pd.DataFrame(New)\n",
    "new = New.reset_index()\n",
    "OBV_test = pd.merge(new, OBV, on = ['Year', 'Month', 'Day', 'label' ], how = 'left')\n",
    "OBV_test = OBV_test.drop(columns = 'Day')\n",
    "#OBV_test['DataDate'] = OBV_test['DataDate'] + pd.offsets.MonthEnd(1)\n",
    "#OBV_test = OBV_test.loc[:, ['DataDate', 'label' , 'obv_hist_4_36','obv_hist_8_36', \n",
    "#                             'obv_hist_12_36', 'obv_hist_4_24', 'obv_hist_8_24', 'obv_hist_12_24']]"
   ]
  },
  {
   "cell_type": "code",
   "execution_count": 142,
   "metadata": {},
   "outputs": [],
   "source": [
    "#MOM_6\n",
    "MOM_6 = pd.read_excel('MOM_6.xlsx')\n",
    "MOM_6.rename(columns = {'Unnamed: 0': 'DataDate'}, inplace = True)\n",
    "MOM_6['Year'] = MOM_6['DataDate'].dt.year\n",
    "MOM_6['Month'] = MOM_6['DataDate'].dt.month\n",
    "MOM_6['Day'] = MOM_6['DataDate'].dt.day\n",
    "New = MOM_6.groupby(['Year', 'Month', 'label'])['Day'].apply(lambda x: x.max())\n",
    "New = pd.DataFrame(New)\n",
    "new = New.reset_index()\n",
    "MOM_6_test = pd.merge(new, MOM_6, on = ['Year', 'Month', 'Day', 'label' ], how = 'left')\n",
    "MOM_6_test = MOM_6_test.drop(columns = 'Day')\n",
    "#MOM_6_test['DataDate'] = MOM_6_test['DataDate'] + pd.offsets.MonthEnd(1)\n",
    "#MOM_6_test = MOM_6_test.loc[:, ['DataDate', 'label' , 'mom_6']]"
   ]
  },
  {
   "cell_type": "code",
   "execution_count": 143,
   "metadata": {},
   "outputs": [],
   "source": [
    "#MOM_12\n",
    "MOM_12 = pd.read_excel('MOM_12.xlsx')\n",
    "MOM_12.rename(columns = {'Unnamed: 0': 'DataDate'}, inplace = True)\n",
    "MOM_12['Year'] = MOM_12['DataDate'].dt.year\n",
    "MOM_12['Month'] = MOM_12['DataDate'].dt.month\n",
    "MOM_12['Day'] = MOM_12['DataDate'].dt.day\n",
    "\n",
    "New = MOM_12.groupby(['Year', 'Month', 'label'])['Day'].apply(lambda x: x.max())\n",
    "New = pd.DataFrame(New)\n",
    "new = New.reset_index()\n",
    "MOM_12_test = pd.merge(new, MOM_12, on = ['Year', 'Month', 'Day', 'label' ], how = 'left')\n",
    "MOM_12_test = MOM_12_test.drop(columns = 'Day')\n",
    "#MOM_12_test['DataDate'] = MOM_12_test['DataDate'] + pd.offsets.MonthEnd(1)\n",
    "#MOM_12_test = MOM_12_test.loc[:, ['DataDate', 'label' , 'mom_12']]"
   ]
  },
  {
   "cell_type": "code",
   "execution_count": null,
   "metadata": {},
   "outputs": [],
   "source": [
    "OBV_test = OBV_test[OBV_test.label != 'BRK']\n",
    "MACD_test = MACD_test[MACD_test.label != 'BRK']\n",
    "MOM_6 = MOM_6[MOM_6.label != 'BRK']\n",
    "MOM_12 = MOM_12[MOM_12.label != 'BRK']\n",
    "company = company[company.label != 'ARNC']"
   ]
  },
  {
   "cell_type": "code",
   "execution_count": 150,
   "metadata": {},
   "outputs": [],
   "source": [
    "MACD_test.columns = ['Year', 'Month', 'label', 'DataDate', 'MACD_1_12', 'MACD_2_12', 'MACD_3_12',\n",
    "                     'MACD_1_9', 'MACD_2_9', 'MACD_3_9']"
   ]
  },
  {
   "cell_type": "code",
   "execution_count": 154,
   "metadata": {},
   "outputs": [],
   "source": [
    "OBV_test.columns = ['Year', 'Month', 'label', 'DataDate','VOL_1_12', 'VOL_2_12', 'VOL_3_12',\n",
    "                    'VOL_1_9', 'VOL_2_9', 'VOL_3_9']"
   ]
  },
  {
   "cell_type": "code",
   "execution_count": 197,
   "metadata": {},
   "outputs": [],
   "source": [
    "MOM_12_test = MOM_12_test[['Year', 'Month', 'label', 'mom_12']]\n",
    "MOM_6_test = MOM_6_test[['Year', 'Month', 'label', 'mom_6']]\n",
    "MACD_test = MACD_test[['Year', 'Month', 'label', 'MACD_1_12', 'MACD_2_12','MACD_3_12', 'MACD_1_9', 'MACD_2_9', 'MACD_3_9']]\n",
    "OBV_test = OBV_test[['Year', 'Month', 'label','VOL_1_12', 'VOL_2_12', 'VOL_3_12','VOL_1_9', 'VOL_2_9', 'VOL_3_9']]"
   ]
  },
  {
   "cell_type": "code",
   "execution_count": 198,
   "metadata": {
    "ExecuteTime": {
     "end_time": "2020-04-24T08:23:28.170182Z",
     "start_time": "2020-04-24T08:23:26.551506Z"
    }
   },
   "outputs": [],
   "source": [
    "# Подгружаем компании\n",
    "company = pd.read_excel('features_zero.xlsx') \n",
    "company = company.iloc[:-1, 1:4]\n",
    "company['DataDate'] = pd.DatetimeIndex(company['DataDate'])\n",
    "company = company[company.DataDate.dt.year != 2000]"
   ]
  },
  {
   "cell_type": "code",
   "execution_count": 199,
   "metadata": {},
   "outputs": [],
   "source": [
    "company['Year'] = company['DataDate'].dt.year\n",
    "company['Month'] = company['DataDate'].dt.month"
   ]
  },
  {
   "cell_type": "code",
   "execution_count": 200,
   "metadata": {},
   "outputs": [
    {
     "data": {
      "text/plain": [
       "(6502, 5)"
      ]
     },
     "execution_count": 200,
     "metadata": {},
     "output_type": "execute_result"
    }
   ],
   "source": [
    "company.shape"
   ]
  },
  {
   "cell_type": "code",
   "execution_count": 201,
   "metadata": {
    "ExecuteTime": {
     "end_time": "2020-04-24T08:23:36.206714Z",
     "start_time": "2020-04-24T08:23:36.150833Z"
    }
   },
   "outputs": [],
   "source": [
    "# Merge MACD\n",
    "company = pd.merge(company, MACD_test, on = ['Year', 'Month', 'label'], how = 'left' )\n",
    "company.drop_duplicates(inplace = True)"
   ]
  },
  {
   "cell_type": "code",
   "execution_count": 202,
   "metadata": {
    "ExecuteTime": {
     "end_time": "2020-04-24T08:24:36.325900Z",
     "start_time": "2020-04-24T08:24:36.272045Z"
    }
   },
   "outputs": [],
   "source": [
    "# Merge OBV\n",
    "company = pd.merge(company, OBV_test, on = ['Year', 'Month', 'label'], how = 'left' )\n",
    "company.drop_duplicates(inplace = True)\n"
   ]
  },
  {
   "cell_type": "code",
   "execution_count": 203,
   "metadata": {},
   "outputs": [],
   "source": [
    "# Merge MOM_6\n",
    "company = pd.merge(company, MOM_6_test, on = ['Year', 'Month', 'label'], how = 'left' )\n",
    "company.drop_duplicates(inplace = True)\n"
   ]
  },
  {
   "cell_type": "code",
   "execution_count": 204,
   "metadata": {},
   "outputs": [],
   "source": [
    "# Merge MOM_12\n",
    "company = pd.merge(company, MOM_12_test, on =['Year', 'Month', 'label'], how = 'left' )\n",
    "company.drop_duplicates(inplace = True)\n"
   ]
  },
  {
   "cell_type": "code",
   "execution_count": 205,
   "metadata": {},
   "outputs": [
    {
     "data": {
      "text/plain": [
       "(6502, 19)"
      ]
     },
     "execution_count": 205,
     "metadata": {},
     "output_type": "execute_result"
    }
   ],
   "source": [
    "company.shape"
   ]
  },
  {
   "cell_type": "code",
   "execution_count": 208,
   "metadata": {},
   "outputs": [],
   "source": [
    "srv = pd.read_excel('srv.xlsx')\n",
    "srv = srv.iloc[:, 1:]\n",
    "srv.rename(columns = {'year':'Year'}, inplace = True)"
   ]
  },
  {
   "cell_type": "code",
   "execution_count": 209,
   "metadata": {},
   "outputs": [],
   "source": [
    "company = pd.merge(company, srv, how = 'left', on = ['Year', 'label'])\n",
    "company.rename(columns = {'ret':'srv'}, inplace = True)\n"
   ]
  },
  {
   "cell_type": "code",
   "execution_count": 212,
   "metadata": {},
   "outputs": [],
   "source": [
    "company.dropna(inplace = True)"
   ]
  },
  {
   "cell_type": "code",
   "execution_count": 129,
   "metadata": {},
   "outputs": [],
   "source": [
    "company.describe().T.to_excel('describe_table.xlsx')"
   ]
  },
  {
   "cell_type": "code",
   "execution_count": 225,
   "metadata": {},
   "outputs": [
    {
     "data": {
      "text/plain": [
       "(5832, 18)"
      ]
     },
     "execution_count": 225,
     "metadata": {},
     "output_type": "execute_result"
    }
   ],
   "source": [
    "company.shape"
   ]
  },
  {
   "cell_type": "code",
   "execution_count": 216,
   "metadata": {},
   "outputs": [],
   "source": [
    "company.drop(columns = ['Year', 'Month'], inplace = True)"
   ]
  },
  {
   "cell_type": "code",
   "execution_count": 217,
   "metadata": {},
   "outputs": [
    {
     "data": {
      "image/png": "[encoded data removed]",
      "text/plain": [
       "<Figure size 792x648 with 2 Axes>"
      ]
     },
     "metadata": {},
     "output_type": "display_data"
    }
   ],
   "source": [
    "%config InlineBackend.figure_format = 'png' \n",
    "sns.set(style=\"white\")\n",
    "\n",
    "# Compute the correlation matrix\n",
    "corr = round(company.corr(),2)\n",
    "\n",
    "# Generate a mask for the upper triangle\n",
    "mask = np.triu(np.ones_like(corr, dtype=np.bool))\n",
    "\n",
    "# Set up the matplotlib figure\n",
    "f, ax = plt.subplots(figsize=(11, 9))\n",
    "\n",
    "# Generate a custom diverging colormap\n",
    "cmap = sns.diverging_palette(220, 10, as_cmap=True)\n",
    "\n",
    "# Draw the heatmap with the mask and correct aspect ratio\n",
    "sns.heatmap(corr, mask=mask, cmap=cmap, center = 0,\n",
    "            square=True, linewidths=.5, cbar_kws={\"shrink\": .5}, annot=True)\n",
    "\n",
    "plt.yticks(rotation = 0)\n",
    "plt.xticks(rotation = 90)\n",
    "plt.show()"
   ]
  },
  {
   "cell_type": "code",
   "execution_count": 235,
   "metadata": {
    "ExecuteTime": {
     "end_time": "2020-04-24T08:25:22.896439Z",
     "start_time": "2020-04-24T08:25:22.042634Z"
    }
   },
   "outputs": [],
   "source": [
    "# Пойдет утечка, добавит процетов в AUC-ROC в тесте\n",
    "\n",
    "PCA_ind = company.iloc[:, 3:]\n",
    "\n",
    "from sklearn.preprocessing import StandardScaler\n",
    "\n",
    "PCA_ind = StandardScaler().fit_transform(PCA_ind)\n"
   ]
  },
  {
   "cell_type": "code",
   "execution_count": 236,
   "metadata": {
    "ExecuteTime": {
     "end_time": "2020-04-24T08:25:26.161619Z",
     "start_time": "2020-04-24T08:25:25.555240Z"
    }
   },
   "outputs": [
    {
     "data": {
      "image/png": "[encoded data removed]",
      "text/plain": [
       "<Figure size 432x288 with 1 Axes>"
      ]
     },
     "metadata": {},
     "output_type": "display_data"
    },
    {
     "data": {
      "text/plain": [
       "None"
      ]
     },
     "metadata": {},
     "output_type": "display_data"
    },
    {
     "data": {
      "text/html": [
       "<div>\n",
       "<style scoped>\n",
       "    .dataframe tbody tr th:only-of-type {\n",
       "        vertical-align: middle;\n",
       "    }\n",
       "\n",
       "    .dataframe tbody tr th {\n",
       "        vertical-align: top;\n",
       "    }\n",
       "\n",
       "    .dataframe thead th {\n",
       "        text-align: right;\n",
       "    }\n",
       "</style>\n",
       "<table border=\"1\" class=\"dataframe\">\n",
       "  <thead>\n",
       "    <tr style=\"text-align: right;\">\n",
       "      <th></th>\n",
       "      <th>Cumulative Variance Ratio</th>\n",
       "      <th>Explained Variance Ratio</th>\n",
       "    </tr>\n",
       "  </thead>\n",
       "  <tbody>\n",
       "    <tr>\n",
       "      <th>0</th>\n",
       "      <td>0.351232</td>\n",
       "      <td>0.351232</td>\n",
       "    </tr>\n",
       "    <tr>\n",
       "      <th>1</th>\n",
       "      <td>0.612247</td>\n",
       "      <td>0.261015</td>\n",
       "    </tr>\n",
       "    <tr>\n",
       "      <th>2</th>\n",
       "      <td>0.734531</td>\n",
       "      <td>0.122284</td>\n",
       "    </tr>\n",
       "    <tr>\n",
       "      <th>3</th>\n",
       "      <td>0.812404</td>\n",
       "      <td>0.077873</td>\n",
       "    </tr>\n",
       "    <tr>\n",
       "      <th>4</th>\n",
       "      <td>0.879326</td>\n",
       "      <td>0.066923</td>\n",
       "    </tr>\n",
       "    <tr>\n",
       "      <th>5</th>\n",
       "      <td>0.935699</td>\n",
       "      <td>0.056373</td>\n",
       "    </tr>\n",
       "    <tr>\n",
       "      <th>6</th>\n",
       "      <td>0.953887</td>\n",
       "      <td>0.018188</td>\n",
       "    </tr>\n",
       "    <tr>\n",
       "      <th>7</th>\n",
       "      <td>0.970584</td>\n",
       "      <td>0.016697</td>\n",
       "    </tr>\n",
       "    <tr>\n",
       "      <th>8</th>\n",
       "      <td>0.983815</td>\n",
       "      <td>0.013231</td>\n",
       "    </tr>\n",
       "    <tr>\n",
       "      <th>9</th>\n",
       "      <td>0.994621</td>\n",
       "      <td>0.010805</td>\n",
       "    </tr>\n",
       "  </tbody>\n",
       "</table>\n",
       "</div>"
      ],
      "text/plain": [
       "   Cumulative Variance Ratio  Explained Variance Ratio\n",
       "0                   0.351232                  0.351232\n",
       "1                   0.612247                  0.261015\n",
       "2                   0.734531                  0.122284\n",
       "3                   0.812404                  0.077873\n",
       "4                   0.879326                  0.066923\n",
       "5                   0.935699                  0.056373\n",
       "6                   0.953887                  0.018188\n",
       "7                   0.970584                  0.016697\n",
       "8                   0.983815                  0.013231\n",
       "9                   0.994621                  0.010805"
      ]
     },
     "metadata": {},
     "output_type": "display_data"
    }
   ],
   "source": [
    "import matplotlib.pyplot as plt\n",
    "import seaborn as sns\n",
    "from sklearn.decomposition import PCA\n",
    "\n",
    "pca_test = PCA(n_components = PCA_ind.shape[1])\n",
    "pca_test.fit(PCA_ind)\n",
    "\n",
    "sns.set(style='whitegrid')\n",
    "plt.plot(np.cumsum(pca_test.explained_variance_ratio_))\n",
    "plt.xlabel('number of components')\n",
    "plt.ylabel('cumulative explained variance')\n",
    "plt.axvline(linewidth=3, color='r', linestyle = '--', x=5, ymin=0, ymax=1)\n",
    "display(plt.show())\n",
    "\n",
    "evr = pca_test.explained_variance_ratio_\n",
    "cvr = np.cumsum(pca_test.explained_variance_ratio_)\n",
    "pca_df = pd.DataFrame()\n",
    "pca_df['Cumulative Variance Ratio'] = cvr\n",
    "pca_df['Explained Variance Ratio'] = evr\n",
    "display(pca_df.head(10))\n"
   ]
  },
  {
   "cell_type": "code",
   "execution_count": 237,
   "metadata": {
    "ExecuteTime": {
     "end_time": "2020-04-24T08:25:42.491942Z",
     "start_time": "2020-04-24T08:25:42.454045Z"
    }
   },
   "outputs": [],
   "source": [
    "pca = PCA(n_components = 5)\n",
    "pca.fit(PCA_ind)\n",
    "PCA_ind = pca.transform(PCA_ind)\n",
    "PCA_ind = pd.DataFrame(PCA_ind, columns = ['tech_PCA_1', 'tech_PCA_2', 'tech_PCA_3', 'tech_PCA_4', 'tech_PCA_5'])"
   ]
  },
  {
   "cell_type": "code",
   "execution_count": 238,
   "metadata": {},
   "outputs": [
    {
     "data": {
      "text/html": [
       "<div>\n",
       "<style scoped>\n",
       "    .dataframe tbody tr th:only-of-type {\n",
       "        vertical-align: middle;\n",
       "    }\n",
       "\n",
       "    .dataframe tbody tr th {\n",
       "        vertical-align: top;\n",
       "    }\n",
       "\n",
       "    .dataframe thead th {\n",
       "        text-align: right;\n",
       "    }\n",
       "</style>\n",
       "<table border=\"1\" class=\"dataframe\">\n",
       "  <thead>\n",
       "    <tr style=\"text-align: right;\">\n",
       "      <th></th>\n",
       "      <th>tech_PCA_1</th>\n",
       "      <th>tech_PCA_2</th>\n",
       "      <th>tech_PCA_3</th>\n",
       "      <th>tech_PCA_4</th>\n",
       "      <th>tech_PCA_5</th>\n",
       "    </tr>\n",
       "  </thead>\n",
       "  <tbody>\n",
       "    <tr>\n",
       "      <th>0</th>\n",
       "      <td>0.063051</td>\n",
       "      <td>-0.028081</td>\n",
       "      <td>1.006695</td>\n",
       "      <td>-0.248183</td>\n",
       "      <td>1.655906</td>\n",
       "    </tr>\n",
       "    <tr>\n",
       "      <th>1</th>\n",
       "      <td>-0.234830</td>\n",
       "      <td>0.132967</td>\n",
       "      <td>0.064717</td>\n",
       "      <td>-0.108854</td>\n",
       "      <td>-1.245992</td>\n",
       "    </tr>\n",
       "    <tr>\n",
       "      <th>2</th>\n",
       "      <td>2.825728</td>\n",
       "      <td>-2.374857</td>\n",
       "      <td>-4.766763</td>\n",
       "      <td>-2.042551</td>\n",
       "      <td>3.781779</td>\n",
       "    </tr>\n",
       "    <tr>\n",
       "      <th>3</th>\n",
       "      <td>1.126917</td>\n",
       "      <td>-0.460640</td>\n",
       "      <td>-0.119725</td>\n",
       "      <td>0.250979</td>\n",
       "      <td>0.908273</td>\n",
       "    </tr>\n",
       "    <tr>\n",
       "      <th>4</th>\n",
       "      <td>0.266795</td>\n",
       "      <td>-0.378805</td>\n",
       "      <td>-0.199485</td>\n",
       "      <td>0.291915</td>\n",
       "      <td>-0.415649</td>\n",
       "    </tr>\n",
       "    <tr>\n",
       "      <th>...</th>\n",
       "      <td>...</td>\n",
       "      <td>...</td>\n",
       "      <td>...</td>\n",
       "      <td>...</td>\n",
       "      <td>...</td>\n",
       "    </tr>\n",
       "    <tr>\n",
       "      <th>5827</th>\n",
       "      <td>0.984255</td>\n",
       "      <td>-0.394989</td>\n",
       "      <td>-0.072816</td>\n",
       "      <td>-0.635463</td>\n",
       "      <td>-1.015345</td>\n",
       "    </tr>\n",
       "    <tr>\n",
       "      <th>5828</th>\n",
       "      <td>-1.243663</td>\n",
       "      <td>0.937537</td>\n",
       "      <td>0.781771</td>\n",
       "      <td>-1.200956</td>\n",
       "      <td>-0.910406</td>\n",
       "    </tr>\n",
       "    <tr>\n",
       "      <th>5829</th>\n",
       "      <td>-0.197684</td>\n",
       "      <td>-0.040773</td>\n",
       "      <td>-0.466562</td>\n",
       "      <td>0.616326</td>\n",
       "      <td>-0.356516</td>\n",
       "    </tr>\n",
       "    <tr>\n",
       "      <th>5830</th>\n",
       "      <td>-1.159042</td>\n",
       "      <td>0.589268</td>\n",
       "      <td>0.619127</td>\n",
       "      <td>-0.583045</td>\n",
       "      <td>-0.695238</td>\n",
       "    </tr>\n",
       "    <tr>\n",
       "      <th>5831</th>\n",
       "      <td>-2.199683</td>\n",
       "      <td>1.608246</td>\n",
       "      <td>1.744175</td>\n",
       "      <td>-3.761829</td>\n",
       "      <td>-0.908763</td>\n",
       "    </tr>\n",
       "  </tbody>\n",
       "</table>\n",
       "<p>5832 rows × 5 columns</p>\n",
       "</div>"
      ],
      "text/plain": [
       "      tech_PCA_1  tech_PCA_2  tech_PCA_3  tech_PCA_4  tech_PCA_5\n",
       "0       0.063051   -0.028081    1.006695   -0.248183    1.655906\n",
       "1      -0.234830    0.132967    0.064717   -0.108854   -1.245992\n",
       "2       2.825728   -2.374857   -4.766763   -2.042551    3.781779\n",
       "3       1.126917   -0.460640   -0.119725    0.250979    0.908273\n",
       "4       0.266795   -0.378805   -0.199485    0.291915   -0.415649\n",
       "...          ...         ...         ...         ...         ...\n",
       "5827    0.984255   -0.394989   -0.072816   -0.635463   -1.015345\n",
       "5828   -1.243663    0.937537    0.781771   -1.200956   -0.910406\n",
       "5829   -0.197684   -0.040773   -0.466562    0.616326   -0.356516\n",
       "5830   -1.159042    0.589268    0.619127   -0.583045   -0.695238\n",
       "5831   -2.199683    1.608246    1.744175   -3.761829   -0.908763\n",
       "\n",
       "[5832 rows x 5 columns]"
      ]
     },
     "execution_count": 238,
     "metadata": {},
     "output_type": "execute_result"
    }
   ],
   "source": [
    "PCA_ind"
   ]
  },
  {
   "cell_type": "code",
   "execution_count": 239,
   "metadata": {},
   "outputs": [],
   "source": [
    "company.reset_index(drop = True, inplace = True)"
   ]
  },
  {
   "cell_type": "code",
   "execution_count": 240,
   "metadata": {
    "ExecuteTime": {
     "end_time": "2020-04-24T08:25:47.291113Z",
     "start_time": "2020-04-24T08:25:47.285126Z"
    }
   },
   "outputs": [],
   "source": [
    "PCA_ind = pd.concat([company.iloc[:, :3], PCA_ind], axis = 1)"
   ]
  },
  {
   "cell_type": "code",
   "execution_count": 241,
   "metadata": {},
   "outputs": [
    {
     "data": {
      "text/html": [
       "<div>\n",
       "<style scoped>\n",
       "    .dataframe tbody tr th:only-of-type {\n",
       "        vertical-align: middle;\n",
       "    }\n",
       "\n",
       "    .dataframe tbody tr th {\n",
       "        vertical-align: top;\n",
       "    }\n",
       "\n",
       "    .dataframe thead th {\n",
       "        text-align: right;\n",
       "    }\n",
       "</style>\n",
       "<table border=\"1\" class=\"dataframe\">\n",
       "  <thead>\n",
       "    <tr style=\"text-align: right;\">\n",
       "      <th></th>\n",
       "      <th>DataDate</th>\n",
       "      <th>company</th>\n",
       "      <th>label</th>\n",
       "      <th>tech_PCA_1</th>\n",
       "      <th>tech_PCA_2</th>\n",
       "      <th>tech_PCA_3</th>\n",
       "      <th>tech_PCA_4</th>\n",
       "      <th>tech_PCA_5</th>\n",
       "    </tr>\n",
       "  </thead>\n",
       "  <tbody>\n",
       "    <tr>\n",
       "      <th>0</th>\n",
       "      <td>2001-06-30</td>\n",
       "      <td>H&amp;R Block Inc.</td>\n",
       "      <td>HRB</td>\n",
       "      <td>0.063051</td>\n",
       "      <td>-0.028081</td>\n",
       "      <td>1.006695</td>\n",
       "      <td>-0.248183</td>\n",
       "      <td>1.655906</td>\n",
       "    </tr>\n",
       "    <tr>\n",
       "      <th>1</th>\n",
       "      <td>2001-06-30</td>\n",
       "      <td>J.M. Smucker Company</td>\n",
       "      <td>SJM</td>\n",
       "      <td>-0.234830</td>\n",
       "      <td>0.132967</td>\n",
       "      <td>0.064717</td>\n",
       "      <td>-0.108854</td>\n",
       "      <td>-1.245992</td>\n",
       "    </tr>\n",
       "    <tr>\n",
       "      <th>2</th>\n",
       "      <td>2001-06-30</td>\n",
       "      <td>NetApp Inc.</td>\n",
       "      <td>NTAP</td>\n",
       "      <td>2.825728</td>\n",
       "      <td>-2.374857</td>\n",
       "      <td>-4.766763</td>\n",
       "      <td>-2.042551</td>\n",
       "      <td>3.781779</td>\n",
       "    </tr>\n",
       "    <tr>\n",
       "      <th>3</th>\n",
       "      <td>2001-07-31</td>\n",
       "      <td>Cintas Corporation</td>\n",
       "      <td>CTAS</td>\n",
       "      <td>1.126917</td>\n",
       "      <td>-0.460640</td>\n",
       "      <td>-0.119725</td>\n",
       "      <td>0.250979</td>\n",
       "      <td>0.908273</td>\n",
       "    </tr>\n",
       "    <tr>\n",
       "      <th>4</th>\n",
       "      <td>2001-07-31</td>\n",
       "      <td>FedEx Corporation</td>\n",
       "      <td>FDX</td>\n",
       "      <td>0.266795</td>\n",
       "      <td>-0.378805</td>\n",
       "      <td>-0.199485</td>\n",
       "      <td>0.291915</td>\n",
       "      <td>-0.415649</td>\n",
       "    </tr>\n",
       "    <tr>\n",
       "      <th>...</th>\n",
       "      <td>...</td>\n",
       "      <td>...</td>\n",
       "      <td>...</td>\n",
       "      <td>...</td>\n",
       "      <td>...</td>\n",
       "      <td>...</td>\n",
       "      <td>...</td>\n",
       "      <td>...</td>\n",
       "    </tr>\n",
       "    <tr>\n",
       "      <th>5827</th>\n",
       "      <td>2017-12-31</td>\n",
       "      <td>Hormel Foods Corporation</td>\n",
       "      <td>HRL</td>\n",
       "      <td>0.984255</td>\n",
       "      <td>-0.394989</td>\n",
       "      <td>-0.072816</td>\n",
       "      <td>-0.635463</td>\n",
       "      <td>-1.015345</td>\n",
       "    </tr>\n",
       "    <tr>\n",
       "      <th>5828</th>\n",
       "      <td>2017-12-31</td>\n",
       "      <td>Synopsys Inc.</td>\n",
       "      <td>SNPS</td>\n",
       "      <td>-1.243663</td>\n",
       "      <td>0.937537</td>\n",
       "      <td>0.781771</td>\n",
       "      <td>-1.200956</td>\n",
       "      <td>-0.910406</td>\n",
       "    </tr>\n",
       "    <tr>\n",
       "      <th>5829</th>\n",
       "      <td>2017-12-31</td>\n",
       "      <td>Hewlett Packard Enterprise Co.</td>\n",
       "      <td>HPE</td>\n",
       "      <td>-0.197684</td>\n",
       "      <td>-0.040773</td>\n",
       "      <td>-0.466562</td>\n",
       "      <td>0.616326</td>\n",
       "      <td>-0.356516</td>\n",
       "    </tr>\n",
       "    <tr>\n",
       "      <th>5830</th>\n",
       "      <td>2017-12-31</td>\n",
       "      <td>Agilent Technologies Inc.</td>\n",
       "      <td>A</td>\n",
       "      <td>-1.159042</td>\n",
       "      <td>0.589268</td>\n",
       "      <td>0.619127</td>\n",
       "      <td>-0.583045</td>\n",
       "      <td>-0.695238</td>\n",
       "    </tr>\n",
       "    <tr>\n",
       "      <th>5831</th>\n",
       "      <td>2017-12-31</td>\n",
       "      <td>Broadcom Inc.</td>\n",
       "      <td>AVGO</td>\n",
       "      <td>-2.199683</td>\n",
       "      <td>1.608246</td>\n",
       "      <td>1.744175</td>\n",
       "      <td>-3.761829</td>\n",
       "      <td>-0.908763</td>\n",
       "    </tr>\n",
       "  </tbody>\n",
       "</table>\n",
       "<p>5832 rows × 8 columns</p>\n",
       "</div>"
      ],
      "text/plain": [
       "       DataDate                         company label  tech_PCA_1  tech_PCA_2  \\\n",
       "0    2001-06-30                  H&R Block Inc.   HRB    0.063051   -0.028081   \n",
       "1    2001-06-30            J.M. Smucker Company   SJM   -0.234830    0.132967   \n",
       "2    2001-06-30                     NetApp Inc.  NTAP    2.825728   -2.374857   \n",
       "3    2001-07-31              Cintas Corporation  CTAS    1.126917   -0.460640   \n",
       "4    2001-07-31               FedEx Corporation   FDX    0.266795   -0.378805   \n",
       "...         ...                             ...   ...         ...         ...   \n",
       "5827 2017-12-31        Hormel Foods Corporation   HRL    0.984255   -0.394989   \n",
       "5828 2017-12-31                   Synopsys Inc.  SNPS   -1.243663    0.937537   \n",
       "5829 2017-12-31  Hewlett Packard Enterprise Co.   HPE   -0.197684   -0.040773   \n",
       "5830 2017-12-31       Agilent Technologies Inc.     A   -1.159042    0.589268   \n",
       "5831 2017-12-31                   Broadcom Inc.  AVGO   -2.199683    1.608246   \n",
       "\n",
       "      tech_PCA_3  tech_PCA_4  tech_PCA_5  \n",
       "0       1.006695   -0.248183    1.655906  \n",
       "1       0.064717   -0.108854   -1.245992  \n",
       "2      -4.766763   -2.042551    3.781779  \n",
       "3      -0.119725    0.250979    0.908273  \n",
       "4      -0.199485    0.291915   -0.415649  \n",
       "...          ...         ...         ...  \n",
       "5827   -0.072816   -0.635463   -1.015345  \n",
       "5828    0.781771   -1.200956   -0.910406  \n",
       "5829   -0.466562    0.616326   -0.356516  \n",
       "5830    0.619127   -0.583045   -0.695238  \n",
       "5831    1.744175   -3.761829   -0.908763  \n",
       "\n",
       "[5832 rows x 8 columns]"
      ]
     },
     "execution_count": 241,
     "metadata": {},
     "output_type": "execute_result"
    }
   ],
   "source": [
    "PCA_ind"
   ]
  },
  {
   "cell_type": "code",
   "execution_count": 242,
   "metadata": {
    "ExecuteTime": {
     "end_time": "2020-04-24T08:26:39.287175Z",
     "start_time": "2020-04-24T08:26:38.039387Z"
    }
   },
   "outputs": [],
   "source": [
    "PCA_ind.to_excel('PCA_tech.xlsx')"
   ]
  },
  {
   "cell_type": "code",
   "execution_count": null,
   "metadata": {},
   "outputs": [],
   "source": []
  }
 ],
 "metadata": {
  "kernelspec": {
   "display_name": "Python 3",
   "language": "python",
   "name": "python3"
  },
  "language_info": {
   "codemirror_mode": {
    "name": "ipython",
    "version": 3
   },
   "file_extension": ".py",
   "mimetype": "text/x-python",
   "name": "python",
   "nbconvert_exporter": "python",
   "pygments_lexer": "ipython3",
   "version": "3.7.6"
  }
 },
 "nbformat": 4,
 "nbformat_minor": 2
}
