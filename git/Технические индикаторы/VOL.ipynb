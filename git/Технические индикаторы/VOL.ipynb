{
 "cells": [
  {
   "cell_type": "code",
   "execution_count": 5,
   "metadata": {
    "ExecuteTime": {
     "end_time": "2020-04-15T04:36:38.633740Z",
     "start_time": "2020-04-15T04:36:38.592782Z"
    }
   },
   "outputs": [],
   "source": [
    "from alpha_vantage.techindicators import TechIndicators\n",
    "import pandas as pd\n",
    "import numpy as np\n",
    "import warnings\n",
    "import time\n",
    "warnings.filterwarnings('ignore')\n",
    "from tqdm.notebook import tqdm_notebook"
   ]
  },
  {
   "cell_type": "code",
   "execution_count": 6,
   "metadata": {
    "ExecuteTime": {
     "end_time": "2020-04-15T04:36:52.863733Z",
     "start_time": "2020-04-15T04:36:52.464683Z"
    }
   },
   "outputs": [],
   "source": [
    "symbols = pd.read_excel('my_excel_file.xlsx')\n",
    "symbols = np.array(symbols['Label'])\n",
    "ti = TechIndicators(key='OEIN6GZJL0VKBPVD', output_format='pandas')"
   ]
  },
  {
   "cell_type": "code",
   "execution_count": 14,
   "metadata": {
    "ExecuteTime": {
     "end_time": "2020-04-15T07:51:28.571412Z",
     "start_time": "2020-04-15T07:51:28.550469Z"
    }
   },
   "outputs": [],
   "source": [
    "obv_ind = pd.DataFrame(columns=['obv_hist_4_36', 'obv_hist_8_36', 'obv_hist_12_36', \n",
    "                           'obv_hist_4_24','obv_hist_8_24', 'obv_hist_12_24', 'label'])"
   ]
  },
  {
   "cell_type": "code",
   "execution_count": 15,
   "metadata": {
    "ExecuteTime": {
     "end_time": "2020-04-15T08:18:10.410638Z",
     "start_time": "2020-04-15T07:51:31.236286Z"
    }
   },
   "outputs": [
    {
     "data": {
      "application/vnd.jupyter.widget-view+json": {
       "model_id": "a23ed73fe9584972a4f300fdada48449",
       "version_major": 2,
       "version_minor": 0
      },
      "text/plain": [
       "HBox(children=(IntProgress(value=0, max=98), HTML(value='')))"
      ]
     },
     "metadata": {},
     "output_type": "display_data"
    },
    {
     "name": "stdout",
     "output_type": "stream",
     "text": [
      "\n",
      "Wall time: 26min 39s\n"
     ]
    }
   ],
   "source": [
    "%%time\n",
    "\n",
    "for symbol in  tqdm_notebook(symbols[345:]):    \n",
    "    data, meta_data = ti.get_obv(symbol=symbol, interval='weekly')\n",
    "    data.sort_index(inplace = True)\n",
    "    \n",
    "    data['rolling_mean_s'] = data.OBV.rolling(window = 4).mean()\n",
    "    data['rolling_mean_l'] = data.OBV.rolling(window = 36).mean()\n",
    "    data['macd_obv'] = data['rolling_mean_s'] - data['rolling_mean_l']\n",
    "    data['signal_obv'] = data.macd_obv.rolling(window = 4).mean()\n",
    "    data['obv_hist_4_36'] = data['macd_obv'] - data['signal_obv']\n",
    "    \n",
    "    data['rolling_mean_s'] = data.OBV.rolling(window = 8).mean()\n",
    "    data['rolling_mean_l'] = data.OBV.rolling(window = 36).mean()\n",
    "    data['macd_obv'] = data['rolling_mean_s'] - data['rolling_mean_l']\n",
    "    data['signal_obv'] = data.macd_obv.rolling(window = 4).mean()\n",
    "    data['obv_hist_8_36'] = data['macd_obv'] - data['signal_obv']   \n",
    "    \n",
    "    data['rolling_mean_s'] = data.OBV.rolling(window = 12).mean()\n",
    "    data['rolling_mean_l'] = data.OBV.rolling(window = 36).mean()\n",
    "    data['macd_obv'] = data['rolling_mean_s'] - data['rolling_mean_l']\n",
    "    data['signal_obv'] = data.macd_obv.rolling(window = 4).mean()\n",
    "    data['obv_hist_12_36'] = data['macd_obv'] - data['signal_obv']\n",
    "    \n",
    "    data['rolling_mean_s'] = data.OBV.rolling(window = 4).mean()\n",
    "    data['rolling_mean_l'] = data.OBV.rolling(window = 24).mean()\n",
    "    data['macd_obv'] = data['rolling_mean_s'] - data['rolling_mean_l']\n",
    "    data['signal_obv'] = data.macd_obv.rolling(window = 4).mean()\n",
    "    data['obv_hist_4_24'] = data['macd_obv'] - data['signal_obv']\n",
    "    \n",
    "    data['rolling_mean_s'] = data.OBV.rolling(window = 8).mean()\n",
    "    data['rolling_mean_l'] = data.OBV.rolling(window = 24).mean()\n",
    "    data['macd_obv'] = data['rolling_mean_s'] - data['rolling_mean_l']\n",
    "    data['signal_obv'] = data.macd_obv.rolling(window = 4).mean()\n",
    "    data['obv_hist_8_24'] = data['macd_obv'] - data['signal_obv']   \n",
    "    \n",
    "    data['rolling_mean_s'] = data.OBV.rolling(window = 12).mean()\n",
    "    data['rolling_mean_l'] = data.OBV.rolling(window = 24).mean()\n",
    "    data['macd_obv'] = data['rolling_mean_s'] - data['rolling_mean_l']\n",
    "    data['signal_obv'] = data.macd_obv.rolling(window = 4).mean()\n",
    "    data['obv_hist_12_24'] = data['macd_obv'] - data['signal_obv']\n",
    "    data['label'] = symbol\n",
    "    data = data.iloc[:, 5:]\n",
    "    data.dropna(inplace = True)\n",
    "    obv_ind = pd.concat([obv_ind,data])\n",
    "    time.sleep(15)"
   ]
  },
  {
   "cell_type": "code",
   "execution_count": 16,
   "metadata": {
    "ExecuteTime": {
     "end_time": "2020-04-15T08:18:28.970445Z",
     "start_time": "2020-04-15T08:18:10.438429Z"
    }
   },
   "outputs": [],
   "source": [
    "obv_ind.to_excel('vol_ind_345_500.xlsx')"
   ]
  }
 ],
 "metadata": {
  "kernelspec": {
   "display_name": "Python 3",
   "language": "python",
   "name": "python3"
  },
  "language_info": {
   "codemirror_mode": {
    "name": "ipython",
    "version": 3
   },
   "file_extension": ".py",
   "mimetype": "text/x-python",
   "name": "python",
   "nbconvert_exporter": "python",
   "pygments_lexer": "ipython3",
   "version": "3.7.6"
  }
 },
 "nbformat": 4,
 "nbformat_minor": 2
}
