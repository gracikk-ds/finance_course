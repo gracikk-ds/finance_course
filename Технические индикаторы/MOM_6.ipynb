{
 "cells": [
  {
   "cell_type": "code",
   "execution_count": 7,
   "metadata": {
    "ExecuteTime": {
     "end_time": "2020-05-04T04:28:04.638460Z",
     "start_time": "2020-05-04T04:28:04.632479Z"
    }
   },
   "outputs": [],
   "source": [
    "from alpha_vantage.techindicators import TechIndicators\n",
    "import pandas as pd\n",
    "import numpy as np\n",
    "import warnings\n",
    "import time\n",
    "warnings.filterwarnings('ignore')\n",
    "from tqdm.notebook import tqdm_notebook"
   ]
  },
  {
   "cell_type": "code",
   "execution_count": 8,
   "metadata": {
    "ExecuteTime": {
     "end_time": "2020-05-04T04:28:05.187989Z",
     "start_time": "2020-05-04T04:28:05.082274Z"
    }
   },
   "outputs": [],
   "source": [
    "symbols = pd.read_excel('my_excel_file.xlsx')\n",
    "symbols = np.array(symbols['Label'])\n",
    "\n",
    "ti = TechIndicators(key='UKF4TSUWJC3TIMY9', output_format='pandas')"
   ]
  },
  {
   "cell_type": "code",
   "execution_count": 9,
   "metadata": {
    "ExecuteTime": {
     "end_time": "2020-05-04T04:28:05.532070Z",
     "start_time": "2020-05-04T04:28:05.524093Z"
    }
   },
   "outputs": [],
   "source": [
    "mom_ind = pd.DataFrame(columns=['mom_6', 'label'])"
   ]
  },
  {
   "cell_type": "code",
   "execution_count": 10,
   "metadata": {
    "ExecuteTime": {
     "end_time": "2020-05-04T06:25:58.125624Z",
     "start_time": "2020-05-04T04:28:06.145430Z"
    }
   },
   "outputs": [
    {
     "data": {
      "application/vnd.jupyter.widget-view+json": {
       "model_id": "a70709167065481794c46fc779d71624",
       "version_major": 2,
       "version_minor": 0
      },
      "text/plain": [
       "HBox(children=(IntProgress(value=0, max=443), HTML(value='')))"
      ]
     },
     "metadata": {},
     "output_type": "display_data"
    },
    {
     "name": "stdout",
     "output_type": "stream",
     "text": [
      "\n",
      "Wall time: 1h 57min 51s\n"
     ]
    }
   ],
   "source": [
    "%%time\n",
    "\n",
    "for symbol in tqdm_notebook(symbols): \n",
    "    data, meta_data = ti.get_mom(symbol=symbol, interval='monthly', time_period = 6)\n",
    "    data['label'] = symbol\n",
    "    data.rename(columns = {'MOM': 'mom_6'}, inplace = True)\n",
    "    mom_ind = pd.concat([mom_ind,data])\n",
    "    time.sleep(15)"
   ]
  },
  {
   "cell_type": "code",
   "execution_count": 11,
   "metadata": {
    "ExecuteTime": {
     "end_time": "2020-05-04T06:25:58.192444Z",
     "start_time": "2020-05-04T06:25:58.136561Z"
    }
   },
   "outputs": [
    {
     "data": {
      "text/html": [
       "<div>\n",
       "<style scoped>\n",
       "    .dataframe tbody tr th:only-of-type {\n",
       "        vertical-align: middle;\n",
       "    }\n",
       "\n",
       "    .dataframe tbody tr th {\n",
       "        vertical-align: top;\n",
       "    }\n",
       "\n",
       "    .dataframe thead th {\n",
       "        text-align: right;\n",
       "    }\n",
       "</style>\n",
       "<table border=\"1\" class=\"dataframe\">\n",
       "  <thead>\n",
       "    <tr style=\"text-align: right;\">\n",
       "      <th></th>\n",
       "      <th>label</th>\n",
       "      <th>mom_6</th>\n",
       "    </tr>\n",
       "  </thead>\n",
       "  <tbody>\n",
       "    <tr>\n",
       "      <td>2000-12-29</td>\n",
       "      <td>BRK</td>\n",
       "      <td>-2.8</td>\n",
       "    </tr>\n",
       "    <tr>\n",
       "      <td>2001-01-31</td>\n",
       "      <td>BRK</td>\n",
       "      <td>-1.0</td>\n",
       "    </tr>\n",
       "    <tr>\n",
       "      <td>2001-02-28</td>\n",
       "      <td>BRK</td>\n",
       "      <td>0.2</td>\n",
       "    </tr>\n",
       "    <tr>\n",
       "      <td>2001-03-30</td>\n",
       "      <td>BRK</td>\n",
       "      <td>-1.0</td>\n",
       "    </tr>\n",
       "    <tr>\n",
       "      <td>2001-04-30</td>\n",
       "      <td>BRK</td>\n",
       "      <td>-0.1</td>\n",
       "    </tr>\n",
       "  </tbody>\n",
       "</table>\n",
       "</div>"
      ],
      "text/plain": [
       "           label  mom_6\n",
       "2000-12-29   BRK   -2.8\n",
       "2001-01-31   BRK   -1.0\n",
       "2001-02-28   BRK    0.2\n",
       "2001-03-30   BRK   -1.0\n",
       "2001-04-30   BRK   -0.1"
      ]
     },
     "execution_count": 11,
     "metadata": {},
     "output_type": "execute_result"
    }
   ],
   "source": [
    "mom_ind.head()"
   ]
  },
  {
   "cell_type": "code",
   "execution_count": 12,
   "metadata": {
    "ExecuteTime": {
     "end_time": "2020-05-04T06:26:07.818743Z",
     "start_time": "2020-05-04T06:25:58.195426Z"
    }
   },
   "outputs": [],
   "source": [
    "mom_ind.to_excel('mom_6.xlsx')"
   ]
  },
  {
   "cell_type": "code",
   "execution_count": null,
   "metadata": {},
   "outputs": [],
   "source": []
  }
 ],
 "metadata": {
  "kernelspec": {
   "display_name": "Python 3",
   "language": "python",
   "name": "python3"
  },
  "language_info": {
   "codemirror_mode": {
    "name": "ipython",
    "version": 3
   },
   "file_extension": ".py",
   "mimetype": "text/x-python",
   "name": "python",
   "nbconvert_exporter": "python",
   "pygments_lexer": "ipython3",
   "version": "3.7.6"
  }
 },
 "nbformat": 4,
 "nbformat_minor": 2
}
