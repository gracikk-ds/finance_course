{
 "cells": [
  {
   "cell_type": "code",
   "execution_count": 1,
   "metadata": {
    "ExecuteTime": {
     "end_time": "2020-04-14T05:38:54.673836Z",
     "start_time": "2020-04-14T05:38:52.533482Z"
    }
   },
   "outputs": [],
   "source": [
    "import pandas as pd\n",
    "import numpy as np\n",
    "import warnings\n",
    "import time\n",
    "warnings.filterwarnings('ignore')\n",
    "from alpha_vantage.timeseries import TimeSeries\n",
    "\n",
    "from tqdm.notebook import tqdm_notebook"
   ]
  },
  {
   "cell_type": "code",
   "execution_count": 2,
   "metadata": {
    "ExecuteTime": {
     "end_time": "2020-04-14T05:38:54.829374Z",
     "start_time": "2020-04-14T05:38:54.675749Z"
    }
   },
   "outputs": [],
   "source": [
    "symbols = pd.read_excel('my_excel_file.xlsx')\n",
    "symbols = np.array(symbols['Label'])\n",
    "\n",
    "ts = TimeSeries(key='677DPA5KEBSRUU6L', output_format='pandas')"
   ]
  },
  {
   "cell_type": "code",
   "execution_count": 3,
   "metadata": {
    "ExecuteTime": {
     "end_time": "2020-04-14T05:38:54.846292Z",
     "start_time": "2020-04-14T05:38:54.832334Z"
    }
   },
   "outputs": [],
   "source": [
    "close_ind = pd.DataFrame(columns=['close_hist_4_36', 'close_hist_8_36', 'close_hist_12_36',\n",
    "       'close_hist_4_24', 'close_hist_8_24', 'close_hist_12_24', 'label'])\n",
    "\n",
    "timeseries = pd.DataFrame(columns = ['1. open', '2. high', '3. low', '4. close', '5. adjusted close',\n",
    "       '6. volume', '7. dividend amount', 'label'])\n",
    "\n",
    "i = 126"
   ]
  },
  {
   "cell_type": "code",
   "execution_count": 4,
   "metadata": {
    "ExecuteTime": {
     "end_time": "2020-04-14T06:56:36.721871Z",
     "start_time": "2020-04-14T05:38:54.850283Z"
    }
   },
   "outputs": [
    {
     "data": {
      "application/vnd.jupyter.widget-view+json": {
       "model_id": "b18ee7eb31554f6bb3534f64dbd97068",
       "version_major": 2,
       "version_minor": 0
      },
      "text/plain": [
       "HBox(children=(IntProgress(value=0, max=317), HTML(value='')))"
      ]
     },
     "metadata": {},
     "output_type": "display_data"
    },
    {
     "name": "stdout",
     "output_type": "stream",
     "text": [
      "\n"
     ]
    }
   ],
   "source": [
    "for symbol in tqdm_notebook(symbols[126:]):    \n",
    "    data_1, _ = ts.get_weekly_adjusted(symbol = symbol)\n",
    "    pd.DataFrame(data_1)\n",
    "    data_1.sort_index(inplace = True)\n",
    "    data = data_1[['5. adjusted close']]\n",
    "    data = data.rename(columns = {'5. adjusted close':'close'})\n",
    "    \n",
    "    data['rolling_mean_s'] = data.close.rolling(window = 4).mean()\n",
    "    data['rolling_mean_l'] = data.close.rolling(window = 36).mean()\n",
    "    data['macd_close'] = data['rolling_mean_s'] - data['rolling_mean_l']\n",
    "    data['signal_close'] = data.macd_close.rolling(window = 4).mean()\n",
    "    data['close_hist_4_36'] = data['macd_close'] - data['signal_close']\n",
    "    \n",
    "    data['rolling_mean_s'] = data.close.rolling(window = 8).mean()\n",
    "    data['rolling_mean_l'] = data.close.rolling(window = 36).mean()\n",
    "    data['macd_close'] = data['rolling_mean_s'] - data['rolling_mean_l']\n",
    "    data['signal_close'] = data.macd_close.rolling(window = 4).mean()\n",
    "    data['close_hist_8_36'] = data['macd_close'] - data['signal_close']   \n",
    "    \n",
    "    data['rolling_mean_s'] = data.close.rolling(window = 12).mean()\n",
    "    data['rolling_mean_l'] = data.close.rolling(window = 36).mean()\n",
    "    data['macd_close'] = data['rolling_mean_s'] - data['rolling_mean_l']\n",
    "    data['signal_close'] = data.macd_close.rolling(window = 4).mean()\n",
    "    data['close_hist_12_36'] = data['macd_close'] - data['signal_close']\n",
    "    \n",
    "    data['rolling_mean_s'] = data.close.rolling(window = 4).mean()\n",
    "    data['rolling_mean_l'] = data.close.rolling(window = 24).mean()\n",
    "    data['macd_close'] = data['rolling_mean_s'] - data['rolling_mean_l']\n",
    "    data['signal_close'] = data.macd_close.rolling(window = 4).mean()\n",
    "    data['close_hist_4_24'] = data['macd_close'] - data['signal_close']\n",
    "    \n",
    "    data['rolling_mean_s'] = data.close.rolling(window = 8).mean()\n",
    "    data['rolling_mean_l'] = data.close.rolling(window = 24).mean()\n",
    "    data['macd_close'] = data['rolling_mean_s'] - data['rolling_mean_l']\n",
    "    data['signal_close'] = data.macd_close.rolling(window = 4).mean()\n",
    "    data['close_hist_8_24'] = data['macd_close'] - data['signal_close']  \n",
    "    \n",
    "    data['rolling_mean_s'] = data.close.rolling(window = 12).mean()\n",
    "    data['rolling_mean_l'] = data.close.rolling(window = 24).mean()\n",
    "    data['macd_close'] = data['rolling_mean_s'] - data['rolling_mean_l']\n",
    "    data['signal_close'] = data.macd_close.rolling(window = 4).mean()\n",
    "    data['close_hist_12_24'] = data['macd_close'] - data['signal_close']\n",
    "    \n",
    "    data['label'] = symbol\n",
    "    data = data.iloc[:, 5:]\n",
    "    data.dropna(inplace = True)\n",
    "    close_ind = pd.concat([close_ind,data])\n",
    "    \n",
    "    data_1['label'] = symbol\n",
    "    timeseries = pd.concat([timeseries,data_1])\n",
    "    \n",
    "    time.sleep(12)\n",
    "    \n",
    "    i += 1"
   ]
  },
  {
   "cell_type": "code",
   "execution_count": 6,
   "metadata": {
    "ExecuteTime": {
     "end_time": "2020-04-14T07:21:52.742361Z",
     "start_time": "2020-04-14T07:20:56.037086Z"
    }
   },
   "outputs": [],
   "source": [
    "close_ind.to_excel('MACD_126_500.xlsx')\n",
    "timeseries.to_excel('Prices_126_500.xlsx')"
   ]
  },
  {
   "cell_type": "code",
   "execution_count": null,
   "metadata": {},
   "outputs": [],
   "source": []
  }
 ],
 "metadata": {
  "kernelspec": {
   "display_name": "Python 3",
   "language": "python",
   "name": "python3"
  },
  "language_info": {
   "codemirror_mode": {
    "name": "ipython",
    "version": 3
   },
   "file_extension": ".py",
   "mimetype": "text/x-python",
   "name": "python",
   "nbconvert_exporter": "python",
   "pygments_lexer": "ipython3",
   "version": "3.7.4"
  }
 },
 "nbformat": 4,
 "nbformat_minor": 2
}
