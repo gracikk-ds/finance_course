{
 "cells": [
  {
   "cell_type": "code",
   "execution_count": 1,
   "metadata": {},
   "outputs": [],
   "source": [
    "import pandas as pd\n",
    "import statsmodels.api as sm\n",
    "import numpy as np\n",
    "import urllib\n",
    "from datetime import datetime, timedelta\n",
    "from statsmodels.regression.linear_model import OLS\n",
    "import matplotlib.pyplot as plt\n",
    "import numpy as np\n",
    "import seaborn as sns\n",
    "%matplotlib inline\n",
    "from sklearn import linear_model"
   ]
  },
  {
   "cell_type": "code",
   "execution_count": 2,
   "metadata": {},
   "outputs": [
    {
     "data": {
      "text/plain": [
       "count    14574.000000\n",
       "mean         0.983919\n",
       "std          0.506762\n",
       "min         -0.490992\n",
       "25%          0.616894\n",
       "50%          0.951546\n",
       "75%          1.310807\n",
       "max          2.499918\n",
       "Name: beta, dtype: float64"
      ]
     },
     "execution_count": 2,
     "metadata": {},
     "output_type": "execute_result"
    }
   ],
   "source": [
    "# import firm\n",
    "d1 = pd.read_excel('11beta.xlsx')\n",
    "d1.dropna(inplace=True)\n",
    "d1.sort_values(['GVKey','DataDate'], inplace=True)\n",
    "\n",
    "\n",
    "# 31 to 1\n",
    "d1['DataDate']=d1['DataDate']-pd.offsets.MonthBegin(1)\n",
    "\n",
    "\n",
    "# %\n",
    "d1['x1'] = d1.groupby('GVKey')['MkVal'].pct_change()\n",
    "d1.dropna(inplace=True)\n",
    "\n",
    "\n",
    "# clean\n",
    "d5 = d1.loc[:, ['GVKey','DataDate','x1']]\n",
    "d5 = d5.rename(columns={'DataDate': 'Data'})\n",
    "d5 = d5[d5['x1']<0.4]\n",
    "d5 = d5[d5['x1']>-0.4]\n",
    "\n",
    "\n",
    "# dohodnosti rinka \n",
    "y= pd.read_csv('yahoo.csv',sep=',')\n",
    "y['Close1'] = y['Close'].shift(+1)\n",
    "y['x']=(y['Close']-y['Close1'])/y['Close1']\n",
    "y.dropna(inplace=True)\n",
    "y1 = y[['Date','x']]\n",
    "y1 = y1.rename(columns={'Date': 'Data'})\n",
    "y1['Data']= pd.DatetimeIndex(y1['Data'])\n",
    "\n",
    "\n",
    "# merge market + firm\n",
    "dd = d5.merge(y1)\n",
    "\n",
    "# reg 10\n",
    "z10 = ('1990-1-1','1991-1-1','1992-1-1','1993-1-1','1994-1-1',\n",
    "       '1995-1-1','1996-1-1','1997-1-1','1998-1-1',\n",
    "       '1999-1-1','2000-1-1','2001-1-1','2002-1-1',\n",
    "       '2003-1-1','2004-1-1','2005-1-1','2006-1-1',\n",
    "       '2007-1-1','2008-1-1','2009-1-1','2010-1-1',\n",
    "       '2011-1-1','2012-1-1','2013-1-1','2014-1-1',\n",
    "       '2015-1-1','2016-1-1','2017-1-1','2018-1-1',)\n",
    "\n",
    "# reg10 int 10\n",
    "res10 = pd.DataFrame({'GVKey': [1],\n",
    "                    'Beta': [1],\n",
    "                    'Year':[1]},\n",
    "                    index=[0])\n",
    "for i in range(19):\n",
    "    g = (dd[(dd['Data'] >= z10[i]) & (dd['Data'] <= z10[i+10])]\n",
    "             .groupby(['GVKey'])[['x1','x']]\n",
    "             .apply(lambda x: OLS.from_formula('x1 ~ x', x)\n",
    "                                 .fit()\n",
    "                                 .params['x'])\n",
    "             .reset_index(name='Beta'))\n",
    "    g['Year'] = 2000 + i\n",
    "    res10 = res10.append(g)\n",
    "res10.rename(columns= {'GVKey': 'FIRM'}, inplace=True)    \n",
    "\n",
    "# reg 5\n",
    "z5 = ('1995-1-1','1996-1-1','1997-1-1','1998-1-1','1999-1-1',\n",
    "      '2000-1-1','2001-1-1','2002-1-1','2003-1-1',\n",
    "      '2004-1-1','2005-1-1','2006-1-1','2007-1-1',\n",
    "      '2008-1-1','2009-1-1','2010-1-1','2011-1-1',\n",
    "      '2012-1-1','2013-1-1','2014-1-1','2015-1-1',\n",
    "      '2016-1-1','2017-1-1','2018-1-1')\n",
    "\n",
    "# reg 5 int 5\n",
    "res5 = pd.DataFrame({'GVKey': [1],\n",
    "                    'Beta': [1],\n",
    "                    'Year':[1]},\n",
    "                    index=[0])\n",
    "for i in range(19):\n",
    "    g = (dd[(dd['Data'] >= z5[i]) & (dd['Data'] <= z5[i+5])]\n",
    "             .groupby(['GVKey'])[['x1','x']]\n",
    "             .apply(lambda x: OLS.from_formula('x1 ~ x', x)\n",
    "                                 .fit()\n",
    "                                 .params['x'])\n",
    "             .reset_index(name='Beta'))\n",
    "    g['Year'] = 2000 + i\n",
    "    res5 = res5.append(g)  \n",
    "res5.rename(columns= {'GVKey': 'FIRM'}, inplace=True)\n",
    "\n",
    "# rename\n",
    "res10 = res10[['FIRM', 'Year', 'Beta']]\n",
    "res10 = res10.rename(columns = {'Beta': 'Beta10'})\n",
    "res5 = res5[['FIRM', 'Year', 'Beta']]\n",
    "res5 = res5.rename(columns = {'Beta': 'Beta5'})\n",
    "\n",
    "# itog beta\n",
    "merge_beta = res5.merge(res10)\n",
    "merge_beta = merge_beta.sort_values(['Year'])\n",
    "merge_beta = merge_beta.drop(axis=0, index = 0)\n",
    "merge_beta['beta'] = (merge_beta['Beta5'] + merge_beta['Beta10'])/2\n",
    "merge_beta = merge_beta[(merge_beta['beta']<2.5) &(merge_beta['beta']>-0.5)]\n",
    "merge_beta['beta'].describe()"
   ]
  },
  {
   "cell_type": "code",
   "execution_count": 3,
   "metadata": {},
   "outputs": [
    {
     "data": {
      "text/plain": [
       "<matplotlib.axes._subplots.AxesSubplot at 0x21d85584828>"
      ]
     },
     "execution_count": 3,
     "metadata": {},
     "output_type": "execute_result"
    },
    {
     "data": {
      "image/png": "[encoded data removed]",
      "text/plain": [
       "<Figure size 432x288 with 1 Axes>"
      ]
     },
     "metadata": {
      "needs_background": "light"
     },
     "output_type": "display_data"
    }
   ],
   "source": [
    "merge_beta['beta'].plot(style='r--', kind='hist')"
   ]
  },
  {
   "cell_type": "code",
   "execution_count": 4,
   "metadata": {},
   "outputs": [
    {
     "data": {
      "text/plain": [
       "<matplotlib.axes._subplots.AxesSubplot at 0x21d8a569828>"
      ]
     },
     "execution_count": 4,
     "metadata": {},
     "output_type": "execute_result"
    },
    {
     "data": {
      "image/png": "[encoded data removed]",
      "text/plain": [
       "<Figure size 432x288 with 1 Axes>"
      ]
     },
     "metadata": {
      "needs_background": "light"
     },
     "output_type": "display_data"
    }
   ],
   "source": [
    "# dohodnosti kompaniy\n",
    "d5.x1.hist()"
   ]
  },
  {
   "cell_type": "code",
   "execution_count": 5,
   "metadata": {},
   "outputs": [
    {
     "data": {
      "text/plain": [
       "<matplotlib.axes._subplots.AxesSubplot at 0x21d89d0bf28>"
      ]
     },
     "execution_count": 5,
     "metadata": {},
     "output_type": "execute_result"
    },
    {
     "data": {
      "image/png": "[encoded data removed]",
      "text/plain": [
       "<Figure size 432x288 with 1 Axes>"
      ]
     },
     "metadata": {
      "needs_background": "light"
     },
     "output_type": "display_data"
    }
   ],
   "source": [
    "# dohodnosti rinka\n",
    "y1.x.hist()"
   ]
  },
  {
   "cell_type": "code",
   "execution_count": 6,
   "metadata": {},
   "outputs": [
    {
     "data": {
      "text/plain": [
       "count    14574.000000\n",
       "mean         0.081927\n",
       "std          0.024639\n",
       "min         -0.007442\n",
       "25%          0.064569\n",
       "50%          0.079721\n",
       "75%          0.097147\n",
       "max          0.180741\n",
       "Name: Re, dtype: float64"
      ]
     },
     "execution_count": 6,
     "metadata": {},
     "output_type": "execute_result"
    }
   ],
   "source": [
    "# Подтягиваем табличку с премией рынка и безрисковыми доходностями\n",
    "damodaran = pd.read_excel('http://www.stern.nyu.edu/~adamodar/pc/datasets/histimpl.xls', \n",
    "                          sheet_name = 'Historical Impl Premiums', header = 5)\n",
    "year = np.arange(1961, 2019, 1)\n",
    "list = np.arange(1,59,1)\n",
    "rf = damodaran.loc[list, ['T.Bond Rate']]\n",
    "ERP = damodaran.loc[list, ['Implied Premium (FCFE)']]\n",
    "help = pd.DataFrame(np.column_stack([rf, ERP, year]), \n",
    "                               columns=['Rf', 'ERP', 'Year'])\n",
    "help_1 = help[['Year','ERP', 'Rf' ]]\n",
    "Re = merge_beta.merge(help_1)\n",
    "Re['Re'] = Re['Rf'] + Re['ERP'] * Re['beta']\n",
    "R1 = Re.sort_values(['FIRM', 'Year'])\n",
    "R1.reset_index(inplace=True)\n",
    "R1.drop('index', axis=1, inplace=True)\n",
    "R1 = R1.assign(Year=lambda d: d.pop('Year').astype('int'))\n",
    "R1['Re'].describe()"
   ]
  },
  {
   "cell_type": "code",
   "execution_count": 7,
   "metadata": {},
   "outputs": [
    {
     "data": {
      "text/plain": [
       "<matplotlib.axes._subplots.AxesSubplot at 0x21d894cf198>"
      ]
     },
     "execution_count": 7,
     "metadata": {},
     "output_type": "execute_result"
    },
    {
     "data": {
      "image/png": "[encoded data removed]",
      "text/plain": [
       "<Figure size 432x288 with 1 Axes>"
      ]
     },
     "metadata": {
      "needs_background": "light"
     },
     "output_type": "display_data"
    }
   ],
   "source": [
    "# raspredelenie Re sobstvenniy capital\n",
    "R1['Re'].plot(style='r--', kind='hist')"
   ]
  },
  {
   "cell_type": "code",
   "execution_count": 8,
   "metadata": {},
   "outputs": [
    {
     "name": "stdout",
     "output_type": "stream",
     "text": [
      "<class 'pandas.core.frame.DataFrame'>\n",
      "Int64Index: 12491 entries, 0 to 13748\n",
      "Data columns (total 3 columns):\n",
      "Year      12491 non-null int64\n",
      "FIRM      12491 non-null int64\n",
      "spread    12379 non-null float64\n",
      "dtypes: float64(1), int64(2)\n",
      "memory usage: 390.3 KB\n"
     ]
    }
   ],
   "source": [
    "xu = pd.read_excel('RRR.xlsx')\n",
    "xu.dropna(inplace=True)\n",
    "xu = xu.rename(columns = {'ICR': 'RATING'})\n",
    "xu.dropna(inplace=True)\n",
    "xu.head()\n",
    "bins = [-1000000, 0.1999,0.6499,0.7999,1.2499,1.4999,1.7499,1.9999,2.2499,2.4999,2.9999,4.2499,5.4999,6.4999,8.4999,10000000]\n",
    "labels = ['F1','F2','F3','F4','F5','F6','F7','F8','F9','F10','F11','F12','F13','F14','F15']\n",
    "xu['FORMULA'] = pd.cut(xu['RATING'], bins=bins, labels=labels, right=True)\n",
    "formulas = \"\"\"\n",
    "F15=0.006\n",
    "F14=0.008\n",
    "F13=0.01\n",
    "F12=0.011\n",
    "F11=0.0125\n",
    "F10=0.016\n",
    "F9=0.025\n",
    "F8=0.03\n",
    "F7=0.0375\n",
    "F6=0.045\n",
    "F5=0.055\n",
    "F4=0.065\n",
    "F3=0.08\n",
    "F2=0.105\n",
    "F1=0.14\n",
    "  \n",
    "\"\"\"\n",
    "x = xu.eval(formulas).dropna(subset=['FORMULA'])\n",
    "x['RES'] = x.lookup(x.index, x['FORMULA'])\n",
    "xu.loc[xu['RATING'].notna(), 'RES'] = x['RES']\n",
    "spread = xu[['DataDate','GVKey','RES']]\n",
    "spread = spread.rename(columns = {'RES': 'spread','DataDate': \"Year\",'GVKey':'FIRM' })\n",
    "spread['Year'] = pd.DatetimeIndex(spread['Year']).year\n",
    "spread.info()"
   ]
  },
  {
   "cell_type": "code",
   "execution_count": 9,
   "metadata": {},
   "outputs": [
    {
     "data": {
      "text/plain": [
       "<matplotlib.axes._subplots.AxesSubplot at 0x21d88fa0d68>"
      ]
     },
     "execution_count": 9,
     "metadata": {},
     "output_type": "execute_result"
    },
    {
     "data": {
      "image/png": "[encoded data removed]",
      "text/plain": [
       "<Figure size 432x288 with 1 Axes>"
      ]
     },
     "metadata": {
      "needs_background": "light"
     },
     "output_type": "display_data"
    }
   ],
   "source": [
    "# Spreads\n",
    "spread['spread'].plot(style='r--', kind='hist')"
   ]
  },
  {
   "cell_type": "code",
   "execution_count": 10,
   "metadata": {},
   "outputs": [
    {
     "data": {
      "text/html": [
       "<div>\n",
       "<style scoped>\n",
       "    .dataframe tbody tr th:only-of-type {\n",
       "        vertical-align: middle;\n",
       "    }\n",
       "\n",
       "    .dataframe tbody tr th {\n",
       "        vertical-align: top;\n",
       "    }\n",
       "\n",
       "    .dataframe thead th {\n",
       "        text-align: right;\n",
       "    }\n",
       "</style>\n",
       "<table border=\"1\" class=\"dataframe\">\n",
       "  <thead>\n",
       "    <tr style=\"text-align: right;\">\n",
       "      <th></th>\n",
       "      <th>FIRM</th>\n",
       "      <th>Beta5</th>\n",
       "      <th>Beta10</th>\n",
       "      <th>beta</th>\n",
       "      <th>ERP</th>\n",
       "      <th>Rf</th>\n",
       "      <th>Re</th>\n",
       "      <th>Year</th>\n",
       "      <th>spread</th>\n",
       "      <th>Rd</th>\n",
       "    </tr>\n",
       "  </thead>\n",
       "  <tbody>\n",
       "    <tr>\n",
       "      <th>count</th>\n",
       "      <td>11911.000000</td>\n",
       "      <td>11911.000000</td>\n",
       "      <td>11911.000000</td>\n",
       "      <td>11911.000000</td>\n",
       "      <td>11911.000000</td>\n",
       "      <td>11911.000000</td>\n",
       "      <td>11911.000000</td>\n",
       "      <td>11911.000000</td>\n",
       "      <td>11805.000000</td>\n",
       "      <td>11805.000000</td>\n",
       "    </tr>\n",
       "    <tr>\n",
       "      <th>mean</th>\n",
       "      <td>33306.597851</td>\n",
       "      <td>1.003633</td>\n",
       "      <td>0.969722</td>\n",
       "      <td>0.986678</td>\n",
       "      <td>0.048752</td>\n",
       "      <td>0.033205</td>\n",
       "      <td>0.082206</td>\n",
       "      <td>2009.045588</td>\n",
       "      <td>0.023820</td>\n",
       "      <td>0.057020</td>\n",
       "    </tr>\n",
       "    <tr>\n",
       "      <th>std</th>\n",
       "      <td>49424.351877</td>\n",
       "      <td>0.552983</td>\n",
       "      <td>0.486388</td>\n",
       "      <td>0.500368</td>\n",
       "      <td>0.009585</td>\n",
       "      <td>0.010471</td>\n",
       "      <td>0.024428</td>\n",
       "      <td>5.187260</td>\n",
       "      <td>0.036193</td>\n",
       "      <td>0.038452</td>\n",
       "    </tr>\n",
       "    <tr>\n",
       "      <th>min</th>\n",
       "      <td>1013.000000</td>\n",
       "      <td>-1.566773</td>\n",
       "      <td>-0.490992</td>\n",
       "      <td>-0.490992</td>\n",
       "      <td>0.028700</td>\n",
       "      <td>0.017600</td>\n",
       "      <td>-0.007349</td>\n",
       "      <td>2000.000000</td>\n",
       "      <td>0.006000</td>\n",
       "      <td>0.023600</td>\n",
       "    </tr>\n",
       "    <tr>\n",
       "      <th>25%</th>\n",
       "      <td>5680.000000</td>\n",
       "      <td>0.600461</td>\n",
       "      <td>0.613563</td>\n",
       "      <td>0.616686</td>\n",
       "      <td>0.041000</td>\n",
       "      <td>0.022700</td>\n",
       "      <td>0.064456</td>\n",
       "      <td>2005.000000</td>\n",
       "      <td>0.006000</td>\n",
       "      <td>0.032800</td>\n",
       "    </tr>\n",
       "    <tr>\n",
       "      <th>50%</th>\n",
       "      <td>10581.000000</td>\n",
       "      <td>0.972147</td>\n",
       "      <td>0.938022</td>\n",
       "      <td>0.957186</td>\n",
       "      <td>0.049600</td>\n",
       "      <td>0.032900</td>\n",
       "      <td>0.079964</td>\n",
       "      <td>2009.000000</td>\n",
       "      <td>0.008000</td>\n",
       "      <td>0.046400</td>\n",
       "    </tr>\n",
       "    <tr>\n",
       "      <th>75%</th>\n",
       "      <td>29127.000000</td>\n",
       "      <td>1.361412</td>\n",
       "      <td>1.290327</td>\n",
       "      <td>1.311659</td>\n",
       "      <td>0.057800</td>\n",
       "      <td>0.042200</td>\n",
       "      <td>0.097475</td>\n",
       "      <td>2013.000000</td>\n",
       "      <td>0.016000</td>\n",
       "      <td>0.057900</td>\n",
       "    </tr>\n",
       "    <tr>\n",
       "      <th>max</th>\n",
       "      <td>316056.000000</td>\n",
       "      <td>3.227329</td>\n",
       "      <td>2.702592</td>\n",
       "      <td>2.499918</td>\n",
       "      <td>0.064300</td>\n",
       "      <td>0.051100</td>\n",
       "      <td>0.180741</td>\n",
       "      <td>2018.000000</td>\n",
       "      <td>0.140000</td>\n",
       "      <td>0.191100</td>\n",
       "    </tr>\n",
       "  </tbody>\n",
       "</table>\n",
       "</div>"
      ],
      "text/plain": [
       "                FIRM         Beta5        Beta10          beta           ERP  \\\n",
       "count   11911.000000  11911.000000  11911.000000  11911.000000  11911.000000   \n",
       "mean    33306.597851      1.003633      0.969722      0.986678      0.048752   \n",
       "std     49424.351877      0.552983      0.486388      0.500368      0.009585   \n",
       "min      1013.000000     -1.566773     -0.490992     -0.490992      0.028700   \n",
       "25%      5680.000000      0.600461      0.613563      0.616686      0.041000   \n",
       "50%     10581.000000      0.972147      0.938022      0.957186      0.049600   \n",
       "75%     29127.000000      1.361412      1.290327      1.311659      0.057800   \n",
       "max    316056.000000      3.227329      2.702592      2.499918      0.064300   \n",
       "\n",
       "                 Rf            Re          Year        spread            Rd  \n",
       "count  11911.000000  11911.000000  11911.000000  11805.000000  11805.000000  \n",
       "mean       0.033205      0.082206   2009.045588      0.023820      0.057020  \n",
       "std        0.010471      0.024428      5.187260      0.036193      0.038452  \n",
       "min        0.017600     -0.007349   2000.000000      0.006000      0.023600  \n",
       "25%        0.022700      0.064456   2005.000000      0.006000      0.032800  \n",
       "50%        0.032900      0.079964   2009.000000      0.008000      0.046400  \n",
       "75%        0.042200      0.097475   2013.000000      0.016000      0.057900  \n",
       "max        0.051100      0.180741   2018.000000      0.140000      0.191100  "
      ]
     },
     "execution_count": 10,
     "metadata": {},
     "output_type": "execute_result"
    }
   ],
   "source": [
    "# merge Re and Spread\n",
    "WACC = R1.merge(spread)\n",
    "WACC['Rd'] = WACC['Rf'] + WACC['spread']\n",
    "WACC.describe()"
   ]
  },
  {
   "cell_type": "code",
   "execution_count": 11,
   "metadata": {},
   "outputs": [
    {
     "data": {
      "text/html": [
       "<div>\n",
       "<style scoped>\n",
       "    .dataframe tbody tr th:only-of-type {\n",
       "        vertical-align: middle;\n",
       "    }\n",
       "\n",
       "    .dataframe tbody tr th {\n",
       "        vertical-align: top;\n",
       "    }\n",
       "\n",
       "    .dataframe thead th {\n",
       "        text-align: right;\n",
       "    }\n",
       "</style>\n",
       "<table border=\"1\" class=\"dataframe\">\n",
       "  <thead>\n",
       "    <tr style=\"text-align: right;\">\n",
       "      <th></th>\n",
       "      <th>Year</th>\n",
       "      <th>FIRM</th>\n",
       "      <th>D</th>\n",
       "      <th>MkVal</th>\n",
       "      <th>dD</th>\n",
       "      <th>dE</th>\n",
       "    </tr>\n",
       "  </thead>\n",
       "  <tbody>\n",
       "    <tr>\n",
       "      <th>count</th>\n",
       "      <td>12334.000000</td>\n",
       "      <td>12334.000000</td>\n",
       "      <td>1.233400e+04</td>\n",
       "      <td>12334.000000</td>\n",
       "      <td>12334.000000</td>\n",
       "      <td>12334.000000</td>\n",
       "    </tr>\n",
       "    <tr>\n",
       "      <th>mean</th>\n",
       "      <td>2008.905546</td>\n",
       "      <td>34408.583428</td>\n",
       "      <td>8.968674e+03</td>\n",
       "      <td>20699.500434</td>\n",
       "      <td>0.222119</td>\n",
       "      <td>0.777881</td>\n",
       "    </tr>\n",
       "    <tr>\n",
       "      <th>std</th>\n",
       "      <td>5.217082</td>\n",
       "      <td>50244.423056</td>\n",
       "      <td>7.982860e+04</td>\n",
       "      <td>44252.092511</td>\n",
       "      <td>0.197587</td>\n",
       "      <td>0.197587</td>\n",
       "    </tr>\n",
       "    <tr>\n",
       "      <th>min</th>\n",
       "      <td>2000.000000</td>\n",
       "      <td>1013.000000</td>\n",
       "      <td>0.000000e+00</td>\n",
       "      <td>9.480393</td>\n",
       "      <td>0.000000</td>\n",
       "      <td>0.000439</td>\n",
       "    </tr>\n",
       "    <tr>\n",
       "      <th>25%</th>\n",
       "      <td>2004.000000</td>\n",
       "      <td>5786.000000</td>\n",
       "      <td>4.604500e+02</td>\n",
       "      <td>3557.970002</td>\n",
       "      <td>0.069963</td>\n",
       "      <td>0.667036</td>\n",
       "    </tr>\n",
       "    <tr>\n",
       "      <th>50%</th>\n",
       "      <td>2009.000000</td>\n",
       "      <td>10894.000000</td>\n",
       "      <td>1.700000e+03</td>\n",
       "      <td>8060.185815</td>\n",
       "      <td>0.170019</td>\n",
       "      <td>0.829981</td>\n",
       "    </tr>\n",
       "    <tr>\n",
       "      <th>75%</th>\n",
       "      <td>2013.000000</td>\n",
       "      <td>29649.000000</td>\n",
       "      <td>5.075250e+03</td>\n",
       "      <td>17953.933140</td>\n",
       "      <td>0.332964</td>\n",
       "      <td>0.930037</td>\n",
       "    </tr>\n",
       "    <tr>\n",
       "      <th>max</th>\n",
       "      <td>2018.000000</td>\n",
       "      <td>316056.000000</td>\n",
       "      <td>3.296298e+06</td>\n",
       "      <td>882331.517200</td>\n",
       "      <td>0.999561</td>\n",
       "      <td>1.000000</td>\n",
       "    </tr>\n",
       "  </tbody>\n",
       "</table>\n",
       "</div>"
      ],
      "text/plain": [
       "               Year           FIRM             D          MkVal            dD  \\\n",
       "count  12334.000000   12334.000000  1.233400e+04   12334.000000  12334.000000   \n",
       "mean    2008.905546   34408.583428  8.968674e+03   20699.500434      0.222119   \n",
       "std        5.217082   50244.423056  7.982860e+04   44252.092511      0.197587   \n",
       "min     2000.000000    1013.000000  0.000000e+00       9.480393      0.000000   \n",
       "25%     2004.000000    5786.000000  4.604500e+02    3557.970002      0.069963   \n",
       "50%     2009.000000   10894.000000  1.700000e+03    8060.185815      0.170019   \n",
       "75%     2013.000000   29649.000000  5.075250e+03   17953.933140      0.332964   \n",
       "max     2018.000000  316056.000000  3.296298e+06  882331.517200      0.999561   \n",
       "\n",
       "                 dE  \n",
       "count  12334.000000  \n",
       "mean       0.777881  \n",
       "std        0.197587  \n",
       "min        0.000439  \n",
       "25%        0.667036  \n",
       "50%        0.829981  \n",
       "75%        0.930037  \n",
       "max        1.000000  "
      ]
     },
     "execution_count": 11,
     "metadata": {},
     "output_type": "execute_result"
    }
   ],
   "source": [
    "# Считаем Доли долга и Доли собственного капитала\n",
    "path = \"https://drive.google.com/uc?export=download&id=10YUDn6hLfXfyZQPIgaiuN12SzHGqznQA\" \n",
    "fail = urllib.request.urlretrieve(path, \"DE.xlsx\")\n",
    "DE = pd.read_excel('DE.xlsx')\n",
    "D = DE[['Date_1', 'gvkey', 'D']]\n",
    "D = D.rename(columns = {'Date_1': 'Date'})\n",
    "E = DE[['Date_2', 'gvkey.1', 'MkVal']]\n",
    "E = E.rename(columns = {'Date_2': 'Date', 'gvkey.1': 'gvkey'})\n",
    "DE = D.merge(E)\n",
    "DE['dD'] = DE['D']/ (DE['MkVal'] + DE['D'])\n",
    "DE['dE'] = DE['MkVal']/ (DE['MkVal'] + DE['D'])\n",
    "DE = DE.rename(columns = {'Date': 'Year', 'gvkey': 'FIRM'})\n",
    "DE = DE.assign(Year=DE.Year.dt.year)\n",
    "DE.drop_duplicates(inplace=True)\n",
    "DE.dropna(inplace=True)\n",
    "DE.describe()"
   ]
  },
  {
   "cell_type": "code",
   "execution_count": 12,
   "metadata": {},
   "outputs": [
    {
     "data": {
      "text/html": [
       "<div>\n",
       "<style scoped>\n",
       "    .dataframe tbody tr th:only-of-type {\n",
       "        vertical-align: middle;\n",
       "    }\n",
       "\n",
       "    .dataframe tbody tr th {\n",
       "        vertical-align: top;\n",
       "    }\n",
       "\n",
       "    .dataframe thead th {\n",
       "        text-align: right;\n",
       "    }\n",
       "</style>\n",
       "<table border=\"1\" class=\"dataframe\">\n",
       "  <thead>\n",
       "    <tr style=\"text-align: right;\">\n",
       "      <th></th>\n",
       "      <th>Year</th>\n",
       "      <th>FIRM</th>\n",
       "      <th>D</th>\n",
       "      <th>MkVal</th>\n",
       "      <th>dD</th>\n",
       "      <th>dE</th>\n",
       "      <th>EBIT</th>\n",
       "      <th>txt</th>\n",
       "      <th>tax</th>\n",
       "    </tr>\n",
       "  </thead>\n",
       "  <tbody>\n",
       "    <tr>\n",
       "      <th>count</th>\n",
       "      <td>9878.000000</td>\n",
       "      <td>9878.000000</td>\n",
       "      <td>9.878000e+03</td>\n",
       "      <td>9878.000000</td>\n",
       "      <td>9878.000000</td>\n",
       "      <td>9878.000000</td>\n",
       "      <td>9878.000000</td>\n",
       "      <td>9878.000000</td>\n",
       "      <td>9878.000000</td>\n",
       "    </tr>\n",
       "    <tr>\n",
       "      <th>mean</th>\n",
       "      <td>2008.708038</td>\n",
       "      <td>38323.130492</td>\n",
       "      <td>5.547744e+03</td>\n",
       "      <td>12599.655897</td>\n",
       "      <td>0.225514</td>\n",
       "      <td>0.774486</td>\n",
       "      <td>2411.667775</td>\n",
       "      <td>175.237163</td>\n",
       "      <td>0.174082</td>\n",
       "    </tr>\n",
       "    <tr>\n",
       "      <th>std</th>\n",
       "      <td>5.209978</td>\n",
       "      <td>52211.224726</td>\n",
       "      <td>5.746589e+04</td>\n",
       "      <td>24119.557694</td>\n",
       "      <td>0.201176</td>\n",
       "      <td>0.201176</td>\n",
       "      <td>6357.785557</td>\n",
       "      <td>912.260569</td>\n",
       "      <td>0.237607</td>\n",
       "    </tr>\n",
       "    <tr>\n",
       "      <th>min</th>\n",
       "      <td>2000.000000</td>\n",
       "      <td>1013.000000</td>\n",
       "      <td>0.000000e+00</td>\n",
       "      <td>9.480393</td>\n",
       "      <td>0.000000</td>\n",
       "      <td>0.000439</td>\n",
       "      <td>-80053.000000</td>\n",
       "      <td>-45415.000000</td>\n",
       "      <td>0.000000</td>\n",
       "    </tr>\n",
       "    <tr>\n",
       "      <th>25%</th>\n",
       "      <td>2004.000000</td>\n",
       "      <td>6669.000000</td>\n",
       "      <td>3.649055e+02</td>\n",
       "      <td>2992.681541</td>\n",
       "      <td>0.067032</td>\n",
       "      <td>0.659742</td>\n",
       "      <td>368.137250</td>\n",
       "      <td>15.520500</td>\n",
       "      <td>0.000406</td>\n",
       "    </tr>\n",
       "    <tr>\n",
       "      <th>50%</th>\n",
       "      <td>2008.000000</td>\n",
       "      <td>12206.000000</td>\n",
       "      <td>1.285111e+03</td>\n",
       "      <td>6388.171750</td>\n",
       "      <td>0.174690</td>\n",
       "      <td>0.825310</td>\n",
       "      <td>861.400500</td>\n",
       "      <td>97.201000</td>\n",
       "      <td>0.063649</td>\n",
       "    </tr>\n",
       "    <tr>\n",
       "      <th>75%</th>\n",
       "      <td>2013.000000</td>\n",
       "      <td>31887.000000</td>\n",
       "      <td>3.872822e+03</td>\n",
       "      <td>12969.968091</td>\n",
       "      <td>0.340258</td>\n",
       "      <td>0.932968</td>\n",
       "      <td>2078.500000</td>\n",
       "      <td>239.692500</td>\n",
       "      <td>0.257129</td>\n",
       "    </tr>\n",
       "    <tr>\n",
       "      <th>max</th>\n",
       "      <td>2018.000000</td>\n",
       "      <td>316056.000000</td>\n",
       "      <td>3.160074e+06</td>\n",
       "      <td>732187.632150</td>\n",
       "      <td>0.999561</td>\n",
       "      <td>1.000000</td>\n",
       "      <td>130622.000000</td>\n",
       "      <td>24263.000000</td>\n",
       "      <td>0.999708</td>\n",
       "    </tr>\n",
       "  </tbody>\n",
       "</table>\n",
       "</div>"
      ],
      "text/plain": [
       "              Year           FIRM             D          MkVal           dD  \\\n",
       "count  9878.000000    9878.000000  9.878000e+03    9878.000000  9878.000000   \n",
       "mean   2008.708038   38323.130492  5.547744e+03   12599.655897     0.225514   \n",
       "std       5.209978   52211.224726  5.746589e+04   24119.557694     0.201176   \n",
       "min    2000.000000    1013.000000  0.000000e+00       9.480393     0.000000   \n",
       "25%    2004.000000    6669.000000  3.649055e+02    2992.681541     0.067032   \n",
       "50%    2008.000000   12206.000000  1.285111e+03    6388.171750     0.174690   \n",
       "75%    2013.000000   31887.000000  3.872822e+03   12969.968091     0.340258   \n",
       "max    2018.000000  316056.000000  3.160074e+06  732187.632150     0.999561   \n",
       "\n",
       "                dE           EBIT           txt          tax  \n",
       "count  9878.000000    9878.000000   9878.000000  9878.000000  \n",
       "mean      0.774486    2411.667775    175.237163     0.174082  \n",
       "std       0.201176    6357.785557    912.260569     0.237607  \n",
       "min       0.000439  -80053.000000 -45415.000000     0.000000  \n",
       "25%       0.659742     368.137250     15.520500     0.000406  \n",
       "50%       0.825310     861.400500     97.201000     0.063649  \n",
       "75%       0.932968    2078.500000    239.692500     0.257129  \n",
       "max       1.000000  130622.000000  24263.000000     0.999708  "
      ]
     },
     "execution_count": 12,
     "metadata": {},
     "output_type": "execute_result"
    }
   ],
   "source": [
    "tax = pd.read_excel('tax.xlsx')\n",
    "tax.dropna(inplace=True)\n",
    "tax.drop_duplicates(inplace=True)\n",
    "tax['Year'] = pd.DatetimeIndex(tax['Year']).year\n",
    "tax = tax[(tax['tax']<1)]\n",
    "tax['tax'] = np.where(tax['tax'] >= 0, tax['tax'], 0)\n",
    "DE = DE.merge(tax)\n",
    "DE.describe()"
   ]
  },
  {
   "cell_type": "code",
   "execution_count": 13,
   "metadata": {},
   "outputs": [
    {
     "data": {
      "text/plain": [
       "<matplotlib.axes._subplots.AxesSubplot at 0x21d85883fd0>"
      ]
     },
     "execution_count": 13,
     "metadata": {},
     "output_type": "execute_result"
    },
    {
     "data": {
      "image/png": "[encoded data removed]",
      "text/plain": [
       "<Figure size 720x360 with 1 Axes>"
      ]
     },
     "metadata": {
      "needs_background": "light"
     },
     "output_type": "display_data"
    }
   ],
   "source": [
    "tax['tax'].plot(style='r--', figsize = (10,5), kind = 'hist')"
   ]
  },
  {
   "cell_type": "code",
   "execution_count": 14,
   "metadata": {},
   "outputs": [
    {
     "data": {
      "text/html": [
       "<div>\n",
       "<style scoped>\n",
       "    .dataframe tbody tr th:only-of-type {\n",
       "        vertical-align: middle;\n",
       "    }\n",
       "\n",
       "    .dataframe tbody tr th {\n",
       "        vertical-align: top;\n",
       "    }\n",
       "\n",
       "    .dataframe thead th {\n",
       "        text-align: right;\n",
       "    }\n",
       "</style>\n",
       "<table border=\"1\" class=\"dataframe\">\n",
       "  <thead>\n",
       "    <tr style=\"text-align: right;\">\n",
       "      <th></th>\n",
       "      <th>Year</th>\n",
       "      <th>FIRM</th>\n",
       "      <th>WACC</th>\n",
       "      <th>D</th>\n",
       "    </tr>\n",
       "  </thead>\n",
       "  <tbody>\n",
       "    <tr>\n",
       "      <th>count</th>\n",
       "      <td>9198.000000</td>\n",
       "      <td>9198.000000</td>\n",
       "      <td>9114.000000</td>\n",
       "      <td>9.198000e+03</td>\n",
       "    </tr>\n",
       "    <tr>\n",
       "      <th>mean</th>\n",
       "      <td>2008.847032</td>\n",
       "      <td>37206.075669</td>\n",
       "      <td>0.078325</td>\n",
       "      <td>5.818966e+03</td>\n",
       "    </tr>\n",
       "    <tr>\n",
       "      <th>std</th>\n",
       "      <td>5.195344</td>\n",
       "      <td>51619.625275</td>\n",
       "      <td>0.025355</td>\n",
       "      <td>5.951564e+04</td>\n",
       "    </tr>\n",
       "    <tr>\n",
       "      <th>min</th>\n",
       "      <td>2000.000000</td>\n",
       "      <td>1013.000000</td>\n",
       "      <td>0.004392</td>\n",
       "      <td>0.000000e+00</td>\n",
       "    </tr>\n",
       "    <tr>\n",
       "      <th>25%</th>\n",
       "      <td>2004.000000</td>\n",
       "      <td>6481.750000</td>\n",
       "      <td>0.060492</td>\n",
       "      <td>4.407250e+02</td>\n",
       "    </tr>\n",
       "    <tr>\n",
       "      <th>50%</th>\n",
       "      <td>2009.000000</td>\n",
       "      <td>11636.000000</td>\n",
       "      <td>0.074407</td>\n",
       "      <td>1.409508e+03</td>\n",
       "    </tr>\n",
       "    <tr>\n",
       "      <th>75%</th>\n",
       "      <td>2013.000000</td>\n",
       "      <td>30990.000000</td>\n",
       "      <td>0.091879</td>\n",
       "      <td>4.046750e+03</td>\n",
       "    </tr>\n",
       "    <tr>\n",
       "      <th>max</th>\n",
       "      <td>2018.000000</td>\n",
       "      <td>316056.000000</td>\n",
       "      <td>0.186160</td>\n",
       "      <td>3.160074e+06</td>\n",
       "    </tr>\n",
       "  </tbody>\n",
       "</table>\n",
       "</div>"
      ],
      "text/plain": [
       "              Year           FIRM         WACC             D\n",
       "count  9198.000000    9198.000000  9114.000000  9.198000e+03\n",
       "mean   2008.847032   37206.075669     0.078325  5.818966e+03\n",
       "std       5.195344   51619.625275     0.025355  5.951564e+04\n",
       "min    2000.000000    1013.000000     0.004392  0.000000e+00\n",
       "25%    2004.000000    6481.750000     0.060492  4.407250e+02\n",
       "50%    2009.000000   11636.000000     0.074407  1.409508e+03\n",
       "75%    2013.000000   30990.000000     0.091879  4.046750e+03\n",
       "max    2018.000000  316056.000000     0.186160  3.160074e+06"
      ]
     },
     "execution_count": 14,
     "metadata": {},
     "output_type": "execute_result"
    }
   ],
   "source": [
    "# WACC \n",
    "ITOG = DE.merge(WACC)\n",
    "ITOG['WACC'] = ITOG['dD'] * ITOG['Rd']*(1-ITOG['tax'])  + ITOG['dE'] * ITOG['Re']\n",
    "WACC = ITOG.loc[:, ['Year', 'FIRM', 'WACC', 'D']]\n",
    "WACC.describe()"
   ]
  },
  {
   "cell_type": "code",
   "execution_count": 15,
   "metadata": {},
   "outputs": [
    {
     "data": {
      "text/plain": [
       "<matplotlib.axes._subplots.AxesSubplot at 0x21d8af66e10>"
      ]
     },
     "execution_count": 15,
     "metadata": {},
     "output_type": "execute_result"
    },
    {
     "data": {
      "image/png": "[encoded data removed]",
      "text/plain": [
       "<Figure size 720x360 with 1 Axes>"
      ]
     },
     "metadata": {
      "needs_background": "light"
     },
     "output_type": "display_data"
    }
   ],
   "source": [
    "WACC['WACC'].plot(style='r--', figsize = (10,5), kind = 'hist')"
   ]
  },
  {
   "cell_type": "code",
   "execution_count": 16,
   "metadata": {},
   "outputs": [
    {
     "data": {
      "text/html": [
       "<div>\n",
       "<style scoped>\n",
       "    .dataframe tbody tr th:only-of-type {\n",
       "        vertical-align: middle;\n",
       "    }\n",
       "\n",
       "    .dataframe tbody tr th {\n",
       "        vertical-align: top;\n",
       "    }\n",
       "\n",
       "    .dataframe thead th {\n",
       "        text-align: right;\n",
       "    }\n",
       "</style>\n",
       "<table border=\"1\" class=\"dataframe\">\n",
       "  <thead>\n",
       "    <tr style=\"text-align: right;\">\n",
       "      <th></th>\n",
       "      <th>Year</th>\n",
       "      <th>FIRM</th>\n",
       "      <th>FCFF</th>\n",
       "    </tr>\n",
       "  </thead>\n",
       "  <tbody>\n",
       "    <tr>\n",
       "      <th>count</th>\n",
       "      <td>13077.000000</td>\n",
       "      <td>13077.000000</td>\n",
       "      <td>13077.000000</td>\n",
       "    </tr>\n",
       "    <tr>\n",
       "      <th>mean</th>\n",
       "      <td>2009.067753</td>\n",
       "      <td>35366.001988</td>\n",
       "      <td>1091.793458</td>\n",
       "    </tr>\n",
       "    <tr>\n",
       "      <th>std</th>\n",
       "      <td>5.195931</td>\n",
       "      <td>50917.939298</td>\n",
       "      <td>4909.629028</td>\n",
       "    </tr>\n",
       "    <tr>\n",
       "      <th>min</th>\n",
       "      <td>2000.000000</td>\n",
       "      <td>1013.000000</td>\n",
       "      <td>-110560.000000</td>\n",
       "    </tr>\n",
       "    <tr>\n",
       "      <th>25%</th>\n",
       "      <td>2005.000000</td>\n",
       "      <td>5959.000000</td>\n",
       "      <td>86.709000</td>\n",
       "    </tr>\n",
       "    <tr>\n",
       "      <th>50%</th>\n",
       "      <td>2009.000000</td>\n",
       "      <td>11115.000000</td>\n",
       "      <td>351.296000</td>\n",
       "    </tr>\n",
       "    <tr>\n",
       "      <th>75%</th>\n",
       "      <td>2014.000000</td>\n",
       "      <td>29830.000000</td>\n",
       "      <td>949.000000</td>\n",
       "    </tr>\n",
       "    <tr>\n",
       "      <th>max</th>\n",
       "      <td>2018.000000</td>\n",
       "      <td>316056.000000</td>\n",
       "      <td>127491.000000</td>\n",
       "    </tr>\n",
       "  </tbody>\n",
       "</table>\n",
       "</div>"
      ],
      "text/plain": [
       "               Year           FIRM           FCFF\n",
       "count  13077.000000   13077.000000   13077.000000\n",
       "mean    2009.067753   35366.001988    1091.793458\n",
       "std        5.195931   50917.939298    4909.629028\n",
       "min     2000.000000    1013.000000 -110560.000000\n",
       "25%     2005.000000    5959.000000      86.709000\n",
       "50%     2009.000000   11115.000000     351.296000\n",
       "75%     2014.000000   29830.000000     949.000000\n",
       "max     2018.000000  316056.000000  127491.000000"
      ]
     },
     "execution_count": 16,
     "metadata": {},
     "output_type": "execute_result"
    }
   ],
   "source": [
    "# FCFF\n",
    "df4 = pd.read_excel('Fundamental_Data.xlsx')\n",
    "FC = df4.loc[:,['DataDate','GVKey Код компании','capx (Capital Expenditures) капитальные расходы','oancf (Operating Activities - Net Cash Flow) CF операционная деятельность - чистый денежный поток']]\n",
    "FC.dropna(inplace=True)\n",
    "FC['FCF']=FC['oancf (Operating Activities - Net Cash Flow) CF операционная деятельность - чистый денежный поток']-FC['capx (Capital Expenditures) капитальные расходы']\n",
    "FC = FC.rename(columns={'GVKey Код компании': 'FIRM', 'DataDate':'Year'})\n",
    "FC['Mount']=FC['Year']\n",
    "FC['Year'] = pd.DatetimeIndex(FC['Year']).year\n",
    "FC = FC.assign(Year=lambda d: d.pop('Year').astype('int'))\n",
    "FC = FC.rename(columns={'FCF':'FCFF'})\n",
    "FCFF = FC.loc[:,['Year','FIRM','FCFF','Mount']]\n",
    "FCFF.describe()"
   ]
  },
  {
   "cell_type": "code",
   "execution_count": 17,
   "metadata": {},
   "outputs": [
    {
     "data": {
      "text/plain": [
       "<matplotlib.axes._subplots.AxesSubplot at 0x21d895aeb38>"
      ]
     },
     "execution_count": 17,
     "metadata": {},
     "output_type": "execute_result"
    },
    {
     "data": {
      "image/png": "[encoded data removed]",
      "text/plain": [
       "<Figure size 720x360 with 1 Axes>"
      ]
     },
     "metadata": {
      "needs_background": "light"
     },
     "output_type": "display_data"
    }
   ],
   "source": [
    "FCFF = FCFF[(FCFF['FCFF']<4000)&(FCFF['FCFF']> -2000)]\n",
    "FCFF['FCFF'].plot(style='r--', figsize = (10,5), kind = 'hist')"
   ]
  },
  {
   "cell_type": "code",
   "execution_count": 18,
   "metadata": {},
   "outputs": [
    {
     "data": {
      "text/html": [
       "<div>\n",
       "<style scoped>\n",
       "    .dataframe tbody tr th:only-of-type {\n",
       "        vertical-align: middle;\n",
       "    }\n",
       "\n",
       "    .dataframe tbody tr th {\n",
       "        vertical-align: top;\n",
       "    }\n",
       "\n",
       "    .dataframe thead th {\n",
       "        text-align: right;\n",
       "    }\n",
       "</style>\n",
       "<table border=\"1\" class=\"dataframe\">\n",
       "  <thead>\n",
       "    <tr style=\"text-align: right;\">\n",
       "      <th></th>\n",
       "      <th>Year</th>\n",
       "      <th>FIRM</th>\n",
       "      <th>Sales</th>\n",
       "      <th>Sales_3</th>\n",
       "      <th>g_firm</th>\n",
       "    </tr>\n",
       "  </thead>\n",
       "  <tbody>\n",
       "    <tr>\n",
       "      <th>count</th>\n",
       "      <td>10883.000000</td>\n",
       "      <td>10883.000000</td>\n",
       "      <td>10883.000000</td>\n",
       "      <td>10883.000000</td>\n",
       "      <td>10883.000000</td>\n",
       "    </tr>\n",
       "    <tr>\n",
       "      <th>mean</th>\n",
       "      <td>2010.285215</td>\n",
       "      <td>35080.426169</td>\n",
       "      <td>14538.140724</td>\n",
       "      <td>13920.583906</td>\n",
       "      <td>0.057163</td>\n",
       "    </tr>\n",
       "    <tr>\n",
       "      <th>std</th>\n",
       "      <td>4.564097</td>\n",
       "      <td>51083.755557</td>\n",
       "      <td>30991.865819</td>\n",
       "      <td>29420.624038</td>\n",
       "      <td>0.141907</td>\n",
       "    </tr>\n",
       "    <tr>\n",
       "      <th>min</th>\n",
       "      <td>2003.000000</td>\n",
       "      <td>1013.000000</td>\n",
       "      <td>-1408.000000</td>\n",
       "      <td>-4234.472000</td>\n",
       "      <td>-0.380322</td>\n",
       "    </tr>\n",
       "    <tr>\n",
       "      <th>25%</th>\n",
       "      <td>2006.000000</td>\n",
       "      <td>5860.000000</td>\n",
       "      <td>2369.528500</td>\n",
       "      <td>2200.922500</td>\n",
       "      <td>-0.015854</td>\n",
       "    </tr>\n",
       "    <tr>\n",
       "      <th>50%</th>\n",
       "      <td>2010.000000</td>\n",
       "      <td>10974.000000</td>\n",
       "      <td>5516.461000</td>\n",
       "      <td>5260.956000</td>\n",
       "      <td>0.048234</td>\n",
       "    </tr>\n",
       "    <tr>\n",
       "      <th>75%</th>\n",
       "      <td>2014.000000</td>\n",
       "      <td>29751.000000</td>\n",
       "      <td>13144.706500</td>\n",
       "      <td>12780.351500</td>\n",
       "      <td>0.127076</td>\n",
       "    </tr>\n",
       "    <tr>\n",
       "      <th>max</th>\n",
       "      <td>2018.000000</td>\n",
       "      <td>316056.000000</td>\n",
       "      <td>496785.000000</td>\n",
       "      <td>483521.000000</td>\n",
       "      <td>0.498634</td>\n",
       "    </tr>\n",
       "  </tbody>\n",
       "</table>\n",
       "</div>"
      ],
      "text/plain": [
       "               Year           FIRM          Sales        Sales_3        g_firm\n",
       "count  10883.000000   10883.000000   10883.000000   10883.000000  10883.000000\n",
       "mean    2010.285215   35080.426169   14538.140724   13920.583906      0.057163\n",
       "std        4.564097   51083.755557   30991.865819   29420.624038      0.141907\n",
       "min     2003.000000    1013.000000   -1408.000000   -4234.472000     -0.380322\n",
       "25%     2006.000000    5860.000000    2369.528500    2200.922500     -0.015854\n",
       "50%     2010.000000   10974.000000    5516.461000    5260.956000      0.048234\n",
       "75%     2014.000000   29751.000000   13144.706500   12780.351500      0.127076\n",
       "max     2018.000000  316056.000000  496785.000000  483521.000000      0.498634"
      ]
     },
     "execution_count": 18,
     "metadata": {},
     "output_type": "execute_result"
    }
   ],
   "source": [
    "#G_firm\n",
    "g_firm = pd.read_excel('sales.xlsx')\n",
    "g_firm[\"Sales_3\"] = g_firm['Sales'].shift(+3)\n",
    "g_firm['g_firm'] = (g_firm['Sales'] - g_firm['Sales_3'])/g_firm['Sales_3']\n",
    "g_firm['g_firm'] = g_firm['g_firm']/3\n",
    "g_firm = g_firm[(g_firm['Year']>'2002-12-31')]\n",
    "g_firm['Year'] = pd.DatetimeIndex(g_firm['Year']).year\n",
    "g_firm = g_firm[(g_firm['g_firm']<0.5)&(g_firm['g_firm']> -0.5)]\n",
    "g_firm.describe()"
   ]
  },
  {
   "cell_type": "code",
   "execution_count": 19,
   "metadata": {},
   "outputs": [
    {
     "data": {
      "text/plain": [
       "<matplotlib.axes._subplots.AxesSubplot at 0x21d86f48be0>"
      ]
     },
     "execution_count": 19,
     "metadata": {},
     "output_type": "execute_result"
    },
    {
     "data": {
      "image/png": "[encoded data removed]",
      "text/plain": [
       "<Figure size 720x360 with 1 Axes>"
      ]
     },
     "metadata": {
      "needs_background": "light"
     },
     "output_type": "display_data"
    }
   ],
   "source": [
    "g_firm['g_firm'].plot(style='r--', figsize = (10,5), kind = 'hist')"
   ]
  },
  {
   "cell_type": "code",
   "execution_count": 20,
   "metadata": {},
   "outputs": [
    {
     "data": {
      "text/html": [
       "<div>\n",
       "<style scoped>\n",
       "    .dataframe tbody tr th:only-of-type {\n",
       "        vertical-align: middle;\n",
       "    }\n",
       "\n",
       "    .dataframe tbody tr th {\n",
       "        vertical-align: top;\n",
       "    }\n",
       "\n",
       "    .dataframe thead th {\n",
       "        text-align: right;\n",
       "    }\n",
       "</style>\n",
       "<table border=\"1\" class=\"dataframe\">\n",
       "  <thead>\n",
       "    <tr style=\"text-align: right;\">\n",
       "      <th></th>\n",
       "      <th>Year</th>\n",
       "      <th>FIRM</th>\n",
       "      <th>Sales</th>\n",
       "      <th>Sales_3</th>\n",
       "      <th>g_firm</th>\n",
       "      <th>g_sec</th>\n",
       "    </tr>\n",
       "  </thead>\n",
       "  <tbody>\n",
       "    <tr>\n",
       "      <th>count</th>\n",
       "      <td>10883.000000</td>\n",
       "      <td>10883.000000</td>\n",
       "      <td>10883.000000</td>\n",
       "      <td>10883.000000</td>\n",
       "      <td>10883.000000</td>\n",
       "      <td>10841.000000</td>\n",
       "    </tr>\n",
       "    <tr>\n",
       "      <th>mean</th>\n",
       "      <td>2010.285215</td>\n",
       "      <td>35080.426169</td>\n",
       "      <td>14538.140724</td>\n",
       "      <td>13920.583906</td>\n",
       "      <td>0.057163</td>\n",
       "      <td>0.057776</td>\n",
       "    </tr>\n",
       "    <tr>\n",
       "      <th>std</th>\n",
       "      <td>4.564097</td>\n",
       "      <td>51083.755557</td>\n",
       "      <td>30991.865819</td>\n",
       "      <td>29420.624038</td>\n",
       "      <td>0.141907</td>\n",
       "      <td>0.060341</td>\n",
       "    </tr>\n",
       "    <tr>\n",
       "      <th>min</th>\n",
       "      <td>2003.000000</td>\n",
       "      <td>1013.000000</td>\n",
       "      <td>-1408.000000</td>\n",
       "      <td>-4234.472000</td>\n",
       "      <td>-0.380322</td>\n",
       "      <td>-0.166198</td>\n",
       "    </tr>\n",
       "    <tr>\n",
       "      <th>25%</th>\n",
       "      <td>2006.000000</td>\n",
       "      <td>5860.000000</td>\n",
       "      <td>2369.528500</td>\n",
       "      <td>2200.922500</td>\n",
       "      <td>-0.015854</td>\n",
       "      <td>0.028233</td>\n",
       "    </tr>\n",
       "    <tr>\n",
       "      <th>50%</th>\n",
       "      <td>2010.000000</td>\n",
       "      <td>10974.000000</td>\n",
       "      <td>5516.461000</td>\n",
       "      <td>5260.956000</td>\n",
       "      <td>0.048234</td>\n",
       "      <td>0.058187</td>\n",
       "    </tr>\n",
       "    <tr>\n",
       "      <th>75%</th>\n",
       "      <td>2014.000000</td>\n",
       "      <td>29751.000000</td>\n",
       "      <td>13144.706500</td>\n",
       "      <td>12780.351500</td>\n",
       "      <td>0.127076</td>\n",
       "      <td>0.095942</td>\n",
       "    </tr>\n",
       "    <tr>\n",
       "      <th>max</th>\n",
       "      <td>2018.000000</td>\n",
       "      <td>316056.000000</td>\n",
       "      <td>496785.000000</td>\n",
       "      <td>483521.000000</td>\n",
       "      <td>0.498634</td>\n",
       "      <td>0.255078</td>\n",
       "    </tr>\n",
       "  </tbody>\n",
       "</table>\n",
       "</div>"
      ],
      "text/plain": [
       "               Year           FIRM          Sales        Sales_3  \\\n",
       "count  10883.000000   10883.000000   10883.000000   10883.000000   \n",
       "mean    2010.285215   35080.426169   14538.140724   13920.583906   \n",
       "std        4.564097   51083.755557   30991.865819   29420.624038   \n",
       "min     2003.000000    1013.000000   -1408.000000   -4234.472000   \n",
       "25%     2006.000000    5860.000000    2369.528500    2200.922500   \n",
       "50%     2010.000000   10974.000000    5516.461000    5260.956000   \n",
       "75%     2014.000000   29751.000000   13144.706500   12780.351500   \n",
       "max     2018.000000  316056.000000  496785.000000  483521.000000   \n",
       "\n",
       "             g_firm         g_sec  \n",
       "count  10883.000000  10841.000000  \n",
       "mean       0.057163      0.057776  \n",
       "std        0.141907      0.060341  \n",
       "min       -0.380322     -0.166198  \n",
       "25%       -0.015854      0.028233  \n",
       "50%        0.048234      0.058187  \n",
       "75%        0.127076      0.095942  \n",
       "max        0.498634      0.255078  "
      ]
     },
     "execution_count": 20,
     "metadata": {},
     "output_type": "execute_result"
    }
   ],
   "source": [
    "g_firm['g_sec'] = g_firm.groupby([\"Sector\", 'Year'])[\"g_firm\"].transform(\"mean\")\n",
    "g_firm.describe()"
   ]
  },
  {
   "cell_type": "code",
   "execution_count": 21,
   "metadata": {},
   "outputs": [
    {
     "data": {
      "text/plain": [
       "<matplotlib.axes._subplots.AxesSubplot at 0x21d86eff2e8>"
      ]
     },
     "execution_count": 21,
     "metadata": {},
     "output_type": "execute_result"
    },
    {
     "data": {
      "image/png": "[encoded data removed]",
      "text/plain": [
       "<Figure size 720x360 with 1 Axes>"
      ]
     },
     "metadata": {
      "needs_background": "light"
     },
     "output_type": "display_data"
    }
   ],
   "source": [
    "g_firm['g_sec'].plot(style='r--', figsize = (10,5), kind = 'hist')"
   ]
  },
  {
   "cell_type": "code",
   "execution_count": 22,
   "metadata": {},
   "outputs": [
    {
     "data": {
      "text/html": [
       "<div>\n",
       "<style scoped>\n",
       "    .dataframe tbody tr th:only-of-type {\n",
       "        vertical-align: middle;\n",
       "    }\n",
       "\n",
       "    .dataframe tbody tr th {\n",
       "        vertical-align: top;\n",
       "    }\n",
       "\n",
       "    .dataframe thead th {\n",
       "        text-align: right;\n",
       "    }\n",
       "</style>\n",
       "<table border=\"1\" class=\"dataframe\">\n",
       "  <thead>\n",
       "    <tr style=\"text-align: right;\">\n",
       "      <th></th>\n",
       "      <th>Year</th>\n",
       "      <th>FIRM</th>\n",
       "      <th>WACC</th>\n",
       "      <th>D</th>\n",
       "    </tr>\n",
       "  </thead>\n",
       "  <tbody>\n",
       "    <tr>\n",
       "      <th>count</th>\n",
       "      <td>9198.000000</td>\n",
       "      <td>9198.000000</td>\n",
       "      <td>9114.000000</td>\n",
       "      <td>9.198000e+03</td>\n",
       "    </tr>\n",
       "    <tr>\n",
       "      <th>mean</th>\n",
       "      <td>2008.847032</td>\n",
       "      <td>37206.075669</td>\n",
       "      <td>0.078325</td>\n",
       "      <td>5.818966e+03</td>\n",
       "    </tr>\n",
       "    <tr>\n",
       "      <th>std</th>\n",
       "      <td>5.195344</td>\n",
       "      <td>51619.625275</td>\n",
       "      <td>0.025355</td>\n",
       "      <td>5.951564e+04</td>\n",
       "    </tr>\n",
       "    <tr>\n",
       "      <th>min</th>\n",
       "      <td>2000.000000</td>\n",
       "      <td>1013.000000</td>\n",
       "      <td>0.004392</td>\n",
       "      <td>0.000000e+00</td>\n",
       "    </tr>\n",
       "    <tr>\n",
       "      <th>25%</th>\n",
       "      <td>2004.000000</td>\n",
       "      <td>6481.750000</td>\n",
       "      <td>0.060492</td>\n",
       "      <td>4.407250e+02</td>\n",
       "    </tr>\n",
       "    <tr>\n",
       "      <th>50%</th>\n",
       "      <td>2009.000000</td>\n",
       "      <td>11636.000000</td>\n",
       "      <td>0.074407</td>\n",
       "      <td>1.409508e+03</td>\n",
       "    </tr>\n",
       "    <tr>\n",
       "      <th>75%</th>\n",
       "      <td>2013.000000</td>\n",
       "      <td>30990.000000</td>\n",
       "      <td>0.091879</td>\n",
       "      <td>4.046750e+03</td>\n",
       "    </tr>\n",
       "    <tr>\n",
       "      <th>max</th>\n",
       "      <td>2018.000000</td>\n",
       "      <td>316056.000000</td>\n",
       "      <td>0.186160</td>\n",
       "      <td>3.160074e+06</td>\n",
       "    </tr>\n",
       "  </tbody>\n",
       "</table>\n",
       "</div>"
      ],
      "text/plain": [
       "              Year           FIRM         WACC             D\n",
       "count  9198.000000    9198.000000  9114.000000  9.198000e+03\n",
       "mean   2008.847032   37206.075669     0.078325  5.818966e+03\n",
       "std       5.195344   51619.625275     0.025355  5.951564e+04\n",
       "min    2000.000000    1013.000000     0.004392  0.000000e+00\n",
       "25%    2004.000000    6481.750000     0.060492  4.407250e+02\n",
       "50%    2009.000000   11636.000000     0.074407  1.409508e+03\n",
       "75%    2013.000000   30990.000000     0.091879  4.046750e+03\n",
       "max    2018.000000  316056.000000     0.186160  3.160074e+06"
      ]
     },
     "execution_count": 22,
     "metadata": {},
     "output_type": "execute_result"
    }
   ],
   "source": [
    "WACC.describe()"
   ]
  },
  {
   "cell_type": "code",
   "execution_count": 23,
   "metadata": {},
   "outputs": [
    {
     "data": {
      "text/html": [
       "<div>\n",
       "<style scoped>\n",
       "    .dataframe tbody tr th:only-of-type {\n",
       "        vertical-align: middle;\n",
       "    }\n",
       "\n",
       "    .dataframe tbody tr th {\n",
       "        vertical-align: top;\n",
       "    }\n",
       "\n",
       "    .dataframe thead th {\n",
       "        text-align: right;\n",
       "    }\n",
       "</style>\n",
       "<table border=\"1\" class=\"dataframe\">\n",
       "  <thead>\n",
       "    <tr style=\"text-align: right;\">\n",
       "      <th></th>\n",
       "      <th>Year</th>\n",
       "      <th>FIRM</th>\n",
       "      <th>g_sec</th>\n",
       "      <th>g_firm</th>\n",
       "      <th>WACC</th>\n",
       "      <th>FCFF</th>\n",
       "    </tr>\n",
       "  </thead>\n",
       "  <tbody>\n",
       "    <tr>\n",
       "      <th>count</th>\n",
       "      <td>6102.000000</td>\n",
       "      <td>6102.000000</td>\n",
       "      <td>6088.000000</td>\n",
       "      <td>6102.000000</td>\n",
       "      <td>6047.000000</td>\n",
       "      <td>6102.000000</td>\n",
       "    </tr>\n",
       "    <tr>\n",
       "      <th>mean</th>\n",
       "      <td>2010.163061</td>\n",
       "      <td>39433.698623</td>\n",
       "      <td>0.058048</td>\n",
       "      <td>0.063748</td>\n",
       "      <td>0.076981</td>\n",
       "      <td>619.272834</td>\n",
       "    </tr>\n",
       "    <tr>\n",
       "      <th>std</th>\n",
       "      <td>4.548465</td>\n",
       "      <td>53342.207550</td>\n",
       "      <td>0.057498</td>\n",
       "      <td>0.139205</td>\n",
       "      <td>0.023227</td>\n",
       "      <td>671.796270</td>\n",
       "    </tr>\n",
       "    <tr>\n",
       "      <th>min</th>\n",
       "      <td>2003.000000</td>\n",
       "      <td>1013.000000</td>\n",
       "      <td>-0.166198</td>\n",
       "      <td>-0.380322</td>\n",
       "      <td>0.004392</td>\n",
       "      <td>0.864000</td>\n",
       "    </tr>\n",
       "    <tr>\n",
       "      <th>25%</th>\n",
       "      <td>2006.000000</td>\n",
       "      <td>6653.000000</td>\n",
       "      <td>0.028233</td>\n",
       "      <td>-0.009401</td>\n",
       "      <td>0.060597</td>\n",
       "      <td>186.597250</td>\n",
       "    </tr>\n",
       "    <tr>\n",
       "      <th>50%</th>\n",
       "      <td>2010.000000</td>\n",
       "      <td>12441.000000</td>\n",
       "      <td>0.059558</td>\n",
       "      <td>0.054770</td>\n",
       "      <td>0.074027</td>\n",
       "      <td>395.000000</td>\n",
       "    </tr>\n",
       "    <tr>\n",
       "      <th>75%</th>\n",
       "      <td>2014.000000</td>\n",
       "      <td>61409.000000</td>\n",
       "      <td>0.095942</td>\n",
       "      <td>0.133009</td>\n",
       "      <td>0.090033</td>\n",
       "      <td>776.300000</td>\n",
       "    </tr>\n",
       "    <tr>\n",
       "      <th>max</th>\n",
       "      <td>2018.000000</td>\n",
       "      <td>316056.000000</td>\n",
       "      <td>0.255078</td>\n",
       "      <td>0.498634</td>\n",
       "      <td>0.176588</td>\n",
       "      <td>3995.000000</td>\n",
       "    </tr>\n",
       "  </tbody>\n",
       "</table>\n",
       "</div>"
      ],
      "text/plain": [
       "              Year           FIRM        g_sec       g_firm         WACC  \\\n",
       "count  6102.000000    6102.000000  6088.000000  6102.000000  6047.000000   \n",
       "mean   2010.163061   39433.698623     0.058048     0.063748     0.076981   \n",
       "std       4.548465   53342.207550     0.057498     0.139205     0.023227   \n",
       "min    2003.000000    1013.000000    -0.166198    -0.380322     0.004392   \n",
       "25%    2006.000000    6653.000000     0.028233    -0.009401     0.060597   \n",
       "50%    2010.000000   12441.000000     0.059558     0.054770     0.074027   \n",
       "75%    2014.000000   61409.000000     0.095942     0.133009     0.090033   \n",
       "max    2018.000000  316056.000000     0.255078     0.498634     0.176588   \n",
       "\n",
       "              FCFF  \n",
       "count  6102.000000  \n",
       "mean    619.272834  \n",
       "std     671.796270  \n",
       "min       0.864000  \n",
       "25%     186.597250  \n",
       "50%     395.000000  \n",
       "75%     776.300000  \n",
       "max    3995.000000  "
      ]
     },
     "execution_count": 23,
     "metadata": {},
     "output_type": "execute_result"
    }
   ],
   "source": [
    "# merge tables\n",
    "res = g_firm.merge(WACC)\n",
    "res = res.merge(FCFF)\n",
    "res = res.drop_duplicates()\n",
    "res = res.sort_values(['FIRM', 'Year'])\n",
    "res.reset_index(inplace=True)\n",
    "res = res[['Year', 'Sector','FIRM','g_sec', 'g_firm', 'WACC', 'FCFF', 'Mount']]\n",
    "res = res[res['FCFF']>0]\n",
    "res.describe()"
   ]
  },
  {
   "cell_type": "code",
   "execution_count": 24,
   "metadata": {},
   "outputs": [
    {
     "data": {
      "text/html": [
       "<div>\n",
       "<style scoped>\n",
       "    .dataframe tbody tr th:only-of-type {\n",
       "        vertical-align: middle;\n",
       "    }\n",
       "\n",
       "    .dataframe tbody tr th {\n",
       "        vertical-align: top;\n",
       "    }\n",
       "\n",
       "    .dataframe thead th {\n",
       "        text-align: right;\n",
       "    }\n",
       "</style>\n",
       "<table border=\"1\" class=\"dataframe\">\n",
       "  <thead>\n",
       "    <tr style=\"text-align: right;\">\n",
       "      <th></th>\n",
       "      <th>Year</th>\n",
       "      <th>FIRM</th>\n",
       "      <th>g_sec</th>\n",
       "      <th>g_firm</th>\n",
       "      <th>WACC</th>\n",
       "      <th>FCFF</th>\n",
       "      <th>ROCE</th>\n",
       "    </tr>\n",
       "  </thead>\n",
       "  <tbody>\n",
       "    <tr>\n",
       "      <th>count</th>\n",
       "      <td>6065.000000</td>\n",
       "      <td>6065.000000</td>\n",
       "      <td>6065.000000</td>\n",
       "      <td>6065.000000</td>\n",
       "      <td>6065.000000</td>\n",
       "      <td>6065.000000</td>\n",
       "      <td>6065.000000</td>\n",
       "    </tr>\n",
       "    <tr>\n",
       "      <th>mean</th>\n",
       "      <td>2010.125474</td>\n",
       "      <td>39349.069909</td>\n",
       "      <td>0.057758</td>\n",
       "      <td>0.063341</td>\n",
       "      <td>0.077027</td>\n",
       "      <td>624.515619</td>\n",
       "      <td>0.947927</td>\n",
       "    </tr>\n",
       "    <tr>\n",
       "      <th>std</th>\n",
       "      <td>4.547672</td>\n",
       "      <td>53029.098474</td>\n",
       "      <td>0.057699</td>\n",
       "      <td>0.137930</td>\n",
       "      <td>0.023128</td>\n",
       "      <td>673.746116</td>\n",
       "      <td>4.877061</td>\n",
       "    </tr>\n",
       "    <tr>\n",
       "      <th>min</th>\n",
       "      <td>2003.000000</td>\n",
       "      <td>1013.000000</td>\n",
       "      <td>-0.166198</td>\n",
       "      <td>-0.380322</td>\n",
       "      <td>0.004392</td>\n",
       "      <td>0.864000</td>\n",
       "      <td>-139.591133</td>\n",
       "    </tr>\n",
       "    <tr>\n",
       "      <th>25%</th>\n",
       "      <td>2006.000000</td>\n",
       "      <td>6653.000000</td>\n",
       "      <td>0.028233</td>\n",
       "      <td>-0.009614</td>\n",
       "      <td>0.060797</td>\n",
       "      <td>187.688000</td>\n",
       "      <td>0.069739</td>\n",
       "    </tr>\n",
       "    <tr>\n",
       "      <th>50%</th>\n",
       "      <td>2010.000000</td>\n",
       "      <td>12441.000000</td>\n",
       "      <td>0.059558</td>\n",
       "      <td>0.054300</td>\n",
       "      <td>0.074093</td>\n",
       "      <td>400.400000</td>\n",
       "      <td>0.208841</td>\n",
       "    </tr>\n",
       "    <tr>\n",
       "      <th>75%</th>\n",
       "      <td>2014.000000</td>\n",
       "      <td>61483.000000</td>\n",
       "      <td>0.095942</td>\n",
       "      <td>0.131513</td>\n",
       "      <td>0.089961</td>\n",
       "      <td>785.363000</td>\n",
       "      <td>0.606205</td>\n",
       "    </tr>\n",
       "    <tr>\n",
       "      <th>max</th>\n",
       "      <td>2018.000000</td>\n",
       "      <td>316056.000000</td>\n",
       "      <td>0.255078</td>\n",
       "      <td>0.498634</td>\n",
       "      <td>0.176588</td>\n",
       "      <td>3995.000000</td>\n",
       "      <td>141.539135</td>\n",
       "    </tr>\n",
       "  </tbody>\n",
       "</table>\n",
       "</div>"
      ],
      "text/plain": [
       "              Year           FIRM        g_sec       g_firm         WACC  \\\n",
       "count  6065.000000    6065.000000  6065.000000  6065.000000  6065.000000   \n",
       "mean   2010.125474   39349.069909     0.057758     0.063341     0.077027   \n",
       "std       4.547672   53029.098474     0.057699     0.137930     0.023128   \n",
       "min    2003.000000    1013.000000    -0.166198    -0.380322     0.004392   \n",
       "25%    2006.000000    6653.000000     0.028233    -0.009614     0.060797   \n",
       "50%    2010.000000   12441.000000     0.059558     0.054300     0.074093   \n",
       "75%    2014.000000   61483.000000     0.095942     0.131513     0.089961   \n",
       "max    2018.000000  316056.000000     0.255078     0.498634     0.176588   \n",
       "\n",
       "              FCFF         ROCE  \n",
       "count  6065.000000  6065.000000  \n",
       "mean    624.515619     0.947927  \n",
       "std     673.746116     4.877061  \n",
       "min       0.864000  -139.591133  \n",
       "25%     187.688000     0.069739  \n",
       "50%     400.400000     0.208841  \n",
       "75%     785.363000     0.606205  \n",
       "max    3995.000000   141.539135  "
      ]
     },
     "execution_count": 24,
     "metadata": {},
     "output_type": "execute_result"
    }
   ],
   "source": [
    "ROCE = pd.read_excel('ROCE.xlsx')\n",
    "ROCE['Year'] = pd.DatetimeIndex(ROCE['Year']).year\n",
    "res = res.merge(ROCE)\n",
    "res = res.drop(['EBIT', 'E', 'LD'], axis= 1)\n",
    "res.dropna(inplace=True)\n",
    "res.drop_duplicates(inplace=True)\n",
    "res.describe()"
   ]
  },
  {
   "cell_type": "code",
   "execution_count": 25,
   "metadata": {},
   "outputs": [],
   "source": [
    "res['av_g'] = res.groupby('Year')[\"g_firm\"].transform(\"mean\")\n",
    "res['av_ROCE'] = res.groupby('Year')[\"ROCE\"].transform(\"mean\")"
   ]
  },
  {
   "cell_type": "code",
   "execution_count": 26,
   "metadata": {},
   "outputs": [],
   "source": [
    "conditions = [\n",
    "    (res['g_firm'] >= res['av_g']) & (res['ROCE'] >= res['av_ROCE']),\n",
    "    (res['g_firm'] >= res['av_g']) & (res['ROCE'] <= res['av_ROCE']),\n",
    "    (res['g_firm'] <= res['av_g']) & (res['ROCE'] >= res['av_ROCE']),\n",
    "    (res['g_firm'] <= res['av_g']) & (res['ROCE'] <= res['av_ROCE'])]\n",
    "choices = [1, 3, 2, 4]"
   ]
  },
  {
   "cell_type": "code",
   "execution_count": 27,
   "metadata": {},
   "outputs": [
    {
     "data": {
      "text/html": [
       "<div>\n",
       "<style scoped>\n",
       "    .dataframe tbody tr th:only-of-type {\n",
       "        vertical-align: middle;\n",
       "    }\n",
       "\n",
       "    .dataframe tbody tr th {\n",
       "        vertical-align: top;\n",
       "    }\n",
       "\n",
       "    .dataframe thead th {\n",
       "        text-align: right;\n",
       "    }\n",
       "</style>\n",
       "<table border=\"1\" class=\"dataframe\">\n",
       "  <thead>\n",
       "    <tr style=\"text-align: right;\">\n",
       "      <th></th>\n",
       "      <th>Year</th>\n",
       "      <th>FIRM</th>\n",
       "      <th>g_sec</th>\n",
       "      <th>g_firm</th>\n",
       "      <th>WACC</th>\n",
       "      <th>FCFF</th>\n",
       "      <th>ROCE</th>\n",
       "      <th>av_g</th>\n",
       "      <th>av_ROCE</th>\n",
       "      <th>cvadrant</th>\n",
       "    </tr>\n",
       "  </thead>\n",
       "  <tbody>\n",
       "    <tr>\n",
       "      <th>count</th>\n",
       "      <td>6065.000000</td>\n",
       "      <td>6065.000000</td>\n",
       "      <td>6065.000000</td>\n",
       "      <td>6065.000000</td>\n",
       "      <td>6065.000000</td>\n",
       "      <td>6065.000000</td>\n",
       "      <td>6065.000000</td>\n",
       "      <td>6065.000000</td>\n",
       "      <td>6065.000000</td>\n",
       "      <td>6065.000000</td>\n",
       "    </tr>\n",
       "    <tr>\n",
       "      <th>mean</th>\n",
       "      <td>2010.125474</td>\n",
       "      <td>39349.069909</td>\n",
       "      <td>0.057758</td>\n",
       "      <td>0.063341</td>\n",
       "      <td>0.077027</td>\n",
       "      <td>624.515619</td>\n",
       "      <td>0.947927</td>\n",
       "      <td>0.063341</td>\n",
       "      <td>0.947927</td>\n",
       "      <td>3.180379</td>\n",
       "    </tr>\n",
       "    <tr>\n",
       "      <th>std</th>\n",
       "      <td>4.547672</td>\n",
       "      <td>53029.098474</td>\n",
       "      <td>0.057699</td>\n",
       "      <td>0.137930</td>\n",
       "      <td>0.023128</td>\n",
       "      <td>673.746116</td>\n",
       "      <td>4.877061</td>\n",
       "      <td>0.049623</td>\n",
       "      <td>0.305755</td>\n",
       "      <td>0.937410</td>\n",
       "    </tr>\n",
       "    <tr>\n",
       "      <th>min</th>\n",
       "      <td>2003.000000</td>\n",
       "      <td>1013.000000</td>\n",
       "      <td>-0.166198</td>\n",
       "      <td>-0.380322</td>\n",
       "      <td>0.004392</td>\n",
       "      <td>0.864000</td>\n",
       "      <td>-139.591133</td>\n",
       "      <td>-0.078914</td>\n",
       "      <td>0.421695</td>\n",
       "      <td>1.000000</td>\n",
       "    </tr>\n",
       "    <tr>\n",
       "      <th>25%</th>\n",
       "      <td>2006.000000</td>\n",
       "      <td>6653.000000</td>\n",
       "      <td>0.028233</td>\n",
       "      <td>-0.009614</td>\n",
       "      <td>0.060797</td>\n",
       "      <td>187.688000</td>\n",
       "      <td>0.069739</td>\n",
       "      <td>0.036572</td>\n",
       "      <td>0.704230</td>\n",
       "      <td>3.000000</td>\n",
       "    </tr>\n",
       "    <tr>\n",
       "      <th>50%</th>\n",
       "      <td>2010.000000</td>\n",
       "      <td>12441.000000</td>\n",
       "      <td>0.059558</td>\n",
       "      <td>0.054300</td>\n",
       "      <td>0.074093</td>\n",
       "      <td>400.400000</td>\n",
       "      <td>0.208841</td>\n",
       "      <td>0.076736</td>\n",
       "      <td>0.896359</td>\n",
       "      <td>3.000000</td>\n",
       "    </tr>\n",
       "    <tr>\n",
       "      <th>75%</th>\n",
       "      <td>2014.000000</td>\n",
       "      <td>61483.000000</td>\n",
       "      <td>0.095942</td>\n",
       "      <td>0.131513</td>\n",
       "      <td>0.089961</td>\n",
       "      <td>785.363000</td>\n",
       "      <td>0.606205</td>\n",
       "      <td>0.092162</td>\n",
       "      <td>1.073048</td>\n",
       "      <td>4.000000</td>\n",
       "    </tr>\n",
       "    <tr>\n",
       "      <th>max</th>\n",
       "      <td>2018.000000</td>\n",
       "      <td>316056.000000</td>\n",
       "      <td>0.255078</td>\n",
       "      <td>0.498634</td>\n",
       "      <td>0.176588</td>\n",
       "      <td>3995.000000</td>\n",
       "      <td>141.539135</td>\n",
       "      <td>0.127700</td>\n",
       "      <td>1.580459</td>\n",
       "      <td>4.000000</td>\n",
       "    </tr>\n",
       "  </tbody>\n",
       "</table>\n",
       "</div>"
      ],
      "text/plain": [
       "              Year           FIRM        g_sec       g_firm         WACC  \\\n",
       "count  6065.000000    6065.000000  6065.000000  6065.000000  6065.000000   \n",
       "mean   2010.125474   39349.069909     0.057758     0.063341     0.077027   \n",
       "std       4.547672   53029.098474     0.057699     0.137930     0.023128   \n",
       "min    2003.000000    1013.000000    -0.166198    -0.380322     0.004392   \n",
       "25%    2006.000000    6653.000000     0.028233    -0.009614     0.060797   \n",
       "50%    2010.000000   12441.000000     0.059558     0.054300     0.074093   \n",
       "75%    2014.000000   61483.000000     0.095942     0.131513     0.089961   \n",
       "max    2018.000000  316056.000000     0.255078     0.498634     0.176588   \n",
       "\n",
       "              FCFF         ROCE         av_g      av_ROCE     cvadrant  \n",
       "count  6065.000000  6065.000000  6065.000000  6065.000000  6065.000000  \n",
       "mean    624.515619     0.947927     0.063341     0.947927     3.180379  \n",
       "std     673.746116     4.877061     0.049623     0.305755     0.937410  \n",
       "min       0.864000  -139.591133    -0.078914     0.421695     1.000000  \n",
       "25%     187.688000     0.069739     0.036572     0.704230     3.000000  \n",
       "50%     400.400000     0.208841     0.076736     0.896359     3.000000  \n",
       "75%     785.363000     0.606205     0.092162     1.073048     4.000000  \n",
       "max    3995.000000   141.539135     0.127700     1.580459     4.000000  "
      ]
     },
     "execution_count": 27,
     "metadata": {},
     "output_type": "execute_result"
    }
   ],
   "source": [
    "# rabotaeeeeett vaahhahaha\n",
    "res['cvadrant'] = np.select(conditions, choices, default=0)\n",
    "res.describe()"
   ]
  },
  {
   "cell_type": "code",
   "execution_count": 52,
   "metadata": {},
   "outputs": [
    {
     "data": {
      "text/plain": [
       "<matplotlib.axes._subplots.AxesSubplot at 0x21d8a72a5f8>"
      ]
     },
     "execution_count": 52,
     "metadata": {},
     "output_type": "execute_result"
    },
    {
     "data": {
      "image/png": "[encoded data removed]",
      "text/plain": [
       "<Figure size 720x360 with 1 Axes>"
      ]
     },
     "metadata": {},
     "output_type": "display_data"
    }
   ],
   "source": [
    "res['cvadrant'].plot(style='r--', figsize = (10,5), kind = 'hist')"
   ]
  },
  {
   "cell_type": "code",
   "execution_count": 53,
   "metadata": {},
   "outputs": [
    {
     "name": "stderr",
     "output_type": "stream",
     "text": [
      "C:\\Users\\1200596\\Anaconda3\\lib\\site-packages\\ipykernel_launcher.py:4: SettingWithCopyWarning: \n",
      "A value is trying to be set on a copy of a slice from a DataFrame.\n",
      "Try using .loc[row_indexer,col_indexer] = value instead\n",
      "\n",
      "See the caveats in the documentation: http://pandas.pydata.org/pandas-docs/stable/indexing.html#indexing-view-versus-copy\n",
      "  after removing the cwd from sys.path.\n"
     ]
    },
    {
     "data": {
      "text/html": [
       "<div>\n",
       "<style scoped>\n",
       "    .dataframe tbody tr th:only-of-type {\n",
       "        vertical-align: middle;\n",
       "    }\n",
       "\n",
       "    .dataframe tbody tr th {\n",
       "        vertical-align: top;\n",
       "    }\n",
       "\n",
       "    .dataframe thead th {\n",
       "        text-align: right;\n",
       "    }\n",
       "</style>\n",
       "<table border=\"1\" class=\"dataframe\">\n",
       "  <thead>\n",
       "    <tr style=\"text-align: right;\">\n",
       "      <th></th>\n",
       "      <th>Year</th>\n",
       "      <th>FIRM</th>\n",
       "      <th>FCFF</th>\n",
       "      <th>ev</th>\n",
       "      <th>cvadrant</th>\n",
       "    </tr>\n",
       "  </thead>\n",
       "  <tbody>\n",
       "    <tr>\n",
       "      <th>count</th>\n",
       "      <td>123.000000</td>\n",
       "      <td>123.000000</td>\n",
       "      <td>123.000000</td>\n",
       "      <td>123.000000</td>\n",
       "      <td>123.0</td>\n",
       "    </tr>\n",
       "    <tr>\n",
       "      <th>mean</th>\n",
       "      <td>2010.536585</td>\n",
       "      <td>60611.926829</td>\n",
       "      <td>320.708789</td>\n",
       "      <td>7051.570242</td>\n",
       "      <td>1.0</td>\n",
       "    </tr>\n",
       "    <tr>\n",
       "      <th>std</th>\n",
       "      <td>5.161796</td>\n",
       "      <td>67794.066045</td>\n",
       "      <td>321.775504</td>\n",
       "      <td>7339.151431</td>\n",
       "      <td>0.0</td>\n",
       "    </tr>\n",
       "    <tr>\n",
       "      <th>min</th>\n",
       "      <td>2003.000000</td>\n",
       "      <td>1230.000000</td>\n",
       "      <td>1.724000</td>\n",
       "      <td>16.650651</td>\n",
       "      <td>1.0</td>\n",
       "    </tr>\n",
       "    <tr>\n",
       "      <th>25%</th>\n",
       "      <td>2008.000000</td>\n",
       "      <td>11260.000000</td>\n",
       "      <td>129.568500</td>\n",
       "      <td>1848.463306</td>\n",
       "      <td>1.0</td>\n",
       "    </tr>\n",
       "    <tr>\n",
       "      <th>50%</th>\n",
       "      <td>2010.000000</td>\n",
       "      <td>28118.000000</td>\n",
       "      <td>240.247000</td>\n",
       "      <td>4305.210804</td>\n",
       "      <td>1.0</td>\n",
       "    </tr>\n",
       "    <tr>\n",
       "      <th>75%</th>\n",
       "      <td>2016.000000</td>\n",
       "      <td>114746.500000</td>\n",
       "      <td>401.725500</td>\n",
       "      <td>9257.607728</td>\n",
       "      <td>1.0</td>\n",
       "    </tr>\n",
       "    <tr>\n",
       "      <th>max</th>\n",
       "      <td>2018.000000</td>\n",
       "      <td>316056.000000</td>\n",
       "      <td>1904.000000</td>\n",
       "      <td>37454.535154</td>\n",
       "      <td>1.0</td>\n",
       "    </tr>\n",
       "  </tbody>\n",
       "</table>\n",
       "</div>"
      ],
      "text/plain": [
       "              Year           FIRM         FCFF            ev  cvadrant\n",
       "count   123.000000     123.000000   123.000000    123.000000     123.0\n",
       "mean   2010.536585   60611.926829   320.708789   7051.570242       1.0\n",
       "std       5.161796   67794.066045   321.775504   7339.151431       0.0\n",
       "min    2003.000000    1230.000000     1.724000     16.650651       1.0\n",
       "25%    2008.000000   11260.000000   129.568500   1848.463306       1.0\n",
       "50%    2010.000000   28118.000000   240.247000   4305.210804       1.0\n",
       "75%    2016.000000  114746.500000   401.725500   9257.607728       1.0\n",
       "max    2018.000000  316056.000000  1904.000000  37454.535154       1.0"
      ]
     },
     "execution_count": 53,
     "metadata": {},
     "output_type": "execute_result"
    }
   ],
   "source": [
    "# 1-st segment. TOP firms\n",
    "df1 = res[res['cvadrant'] == 1]\n",
    "\n",
    "df1['DIF'] = df1['WACC'] - df1['g_sec']\n",
    "df1= df1[df1['DIF']>= 0.04]\n",
    "\n",
    "df1['dif'] = (df1['g_sec'] - df1['g_firm'])/3\n",
    "df1['g1'] = (df1['g_firm'] + df1['dif']) \n",
    "df1['g2'] = (df1['g1'] + df1['dif'])\n",
    "df1['g3'] = (df1['g2'] + df1['dif'])\n",
    "\n",
    "df1['FCFF1'] = df1['FCFF'] * (1+df1['g_firm'])\n",
    "df1['FCFF2'] = df1['FCFF1'] * (1+df1['g_firm'])\n",
    "df1['FCFF3'] = df1['FCFF2'] * (1+df1['g_firm'])\n",
    "\n",
    "df1['FCFF4'] = df1['FCFF3'] * (1+df1['g1'])\n",
    "df1['FCFF5'] = df1['FCFF4'] * (1+df1['g2'])\n",
    "df1['FCFF6'] = df1['FCFF5'] * (1+df1['g3'])\n",
    "\n",
    "df1['FCFF7'] = df1['FCFF6'] * (1 + df1['g_sec'])\n",
    "\n",
    "a = df1['FCFF1']/(1+df1['WACC'])**1\n",
    "b = df1['FCFF2']/(1+df1['WACC'])**2\n",
    "c = df1['FCFF3']/(1+df1['WACC'])**3\n",
    "d = df1['FCFF4']/(1+df1['WACC'])**4\n",
    "e = df1['FCFF5']/(1+df1['WACC'])**5\n",
    "f = df1['FCFF6']/(1+df1['WACC'])**6\n",
    "\n",
    "df1['cur'] =  a + b + c + d + e + f\n",
    "\n",
    "df1['terminal'] = (df1['FCFF7']/ df1['DIF'])/(1+df1['WACC'])**7\n",
    "\n",
    "df1['ev'] = df1['terminal'] + df1['cur']\n",
    "\n",
    "df1 = df1[df1['ev']<= 40000]\n",
    "df1 = df1[['Year','Mount', 'FIRM', 'FCFF','ev', 'cvadrant']] \n",
    "\n",
    "df1.describe()\n"
   ]
  },
  {
   "cell_type": "code",
   "execution_count": 29,
   "metadata": {},
   "outputs": [
    {
     "data": {
      "text/plain": [
       "<matplotlib.axes._subplots.AxesSubplot at 0x21d895776d8>"
      ]
     },
     "execution_count": 29,
     "metadata": {},
     "output_type": "execute_result"
    },
    {
     "data": {
      "image/png": "[encoded data removed]",
      "text/plain": [
       "<Figure size 720x360 with 1 Axes>"
      ]
     },
     "metadata": {
      "needs_background": "light"
     },
     "output_type": "display_data"
    }
   ],
   "source": [
    "df1['cvadrant'].plot(style='r--', figsize = (10,5), kind = 'hist')"
   ]
  },
  {
   "cell_type": "code",
   "execution_count": 30,
   "metadata": {},
   "outputs": [
    {
     "data": {
      "text/plain": [
       "<matplotlib.axes._subplots.AxesSubplot at 0x21d8bb26320>"
      ]
     },
     "execution_count": 30,
     "metadata": {},
     "output_type": "execute_result"
    },
    {
     "data": {
      "image/png": "[encoded data removed]",
      "text/plain": [
       "<Figure size 720x360 with 1 Axes>"
      ]
     },
     "metadata": {
      "needs_background": "light"
     },
     "output_type": "display_data"
    }
   ],
   "source": [
    "df1['ev'].plot(style='r--', figsize = (10,5), kind = 'hist')"
   ]
  },
  {
   "cell_type": "code",
   "execution_count": 54,
   "metadata": {},
   "outputs": [
    {
     "name": "stderr",
     "output_type": "stream",
     "text": [
      "C:\\Users\\1200596\\Anaconda3\\lib\\site-packages\\ipykernel_launcher.py:4: SettingWithCopyWarning: \n",
      "A value is trying to be set on a copy of a slice from a DataFrame.\n",
      "Try using .loc[row_indexer,col_indexer] = value instead\n",
      "\n",
      "See the caveats in the documentation: http://pandas.pydata.org/pandas-docs/stable/indexing.html#indexing-view-versus-copy\n",
      "  after removing the cwd from sys.path.\n"
     ]
    },
    {
     "data": {
      "text/html": [
       "<div>\n",
       "<style scoped>\n",
       "    .dataframe tbody tr th:only-of-type {\n",
       "        vertical-align: middle;\n",
       "    }\n",
       "\n",
       "    .dataframe tbody tr th {\n",
       "        vertical-align: top;\n",
       "    }\n",
       "\n",
       "    .dataframe thead th {\n",
       "        text-align: right;\n",
       "    }\n",
       "</style>\n",
       "<table border=\"1\" class=\"dataframe\">\n",
       "  <thead>\n",
       "    <tr style=\"text-align: right;\">\n",
       "      <th></th>\n",
       "      <th>Year</th>\n",
       "      <th>FIRM</th>\n",
       "      <th>FCFF</th>\n",
       "      <th>ev</th>\n",
       "      <th>cvadrant</th>\n",
       "    </tr>\n",
       "  </thead>\n",
       "  <tbody>\n",
       "    <tr>\n",
       "      <th>count</th>\n",
       "      <td>229.000000</td>\n",
       "      <td>229.000000</td>\n",
       "      <td>229.000000</td>\n",
       "      <td>229.000000</td>\n",
       "      <td>229.0</td>\n",
       "    </tr>\n",
       "    <tr>\n",
       "      <th>mean</th>\n",
       "      <td>2010.388646</td>\n",
       "      <td>42734.655022</td>\n",
       "      <td>299.550074</td>\n",
       "      <td>4318.774187</td>\n",
       "      <td>2.0</td>\n",
       "    </tr>\n",
       "    <tr>\n",
       "      <th>std</th>\n",
       "      <td>5.275901</td>\n",
       "      <td>54915.435896</td>\n",
       "      <td>392.796821</td>\n",
       "      <td>6449.453369</td>\n",
       "      <td>0.0</td>\n",
       "    </tr>\n",
       "    <tr>\n",
       "      <th>min</th>\n",
       "      <td>2003.000000</td>\n",
       "      <td>1013.000000</td>\n",
       "      <td>1.206000</td>\n",
       "      <td>17.994181</td>\n",
       "      <td>2.0</td>\n",
       "    </tr>\n",
       "    <tr>\n",
       "      <th>25%</th>\n",
       "      <td>2004.000000</td>\n",
       "      <td>7409.000000</td>\n",
       "      <td>78.891000</td>\n",
       "      <td>679.187027</td>\n",
       "      <td>2.0</td>\n",
       "    </tr>\n",
       "    <tr>\n",
       "      <th>50%</th>\n",
       "      <td>2010.000000</td>\n",
       "      <td>14535.000000</td>\n",
       "      <td>178.300000</td>\n",
       "      <td>1916.251832</td>\n",
       "      <td>2.0</td>\n",
       "    </tr>\n",
       "    <tr>\n",
       "      <th>75%</th>\n",
       "      <td>2016.000000</td>\n",
       "      <td>63501.000000</td>\n",
       "      <td>329.026000</td>\n",
       "      <td>4754.995166</td>\n",
       "      <td>2.0</td>\n",
       "    </tr>\n",
       "    <tr>\n",
       "      <th>max</th>\n",
       "      <td>2018.000000</td>\n",
       "      <td>294524.000000</td>\n",
       "      <td>3363.000000</td>\n",
       "      <td>36707.947551</td>\n",
       "      <td>2.0</td>\n",
       "    </tr>\n",
       "  </tbody>\n",
       "</table>\n",
       "</div>"
      ],
      "text/plain": [
       "              Year           FIRM         FCFF            ev  cvadrant\n",
       "count   229.000000     229.000000   229.000000    229.000000     229.0\n",
       "mean   2010.388646   42734.655022   299.550074   4318.774187       2.0\n",
       "std       5.275901   54915.435896   392.796821   6449.453369       0.0\n",
       "min    2003.000000    1013.000000     1.206000     17.994181       2.0\n",
       "25%    2004.000000    7409.000000    78.891000    679.187027       2.0\n",
       "50%    2010.000000   14535.000000   178.300000   1916.251832       2.0\n",
       "75%    2016.000000   63501.000000   329.026000   4754.995166       2.0\n",
       "max    2018.000000  294524.000000  3363.000000  36707.947551       2.0"
      ]
     },
     "execution_count": 54,
     "metadata": {},
     "output_type": "execute_result"
    }
   ],
   "source": [
    "# 2-d segment. focus\n",
    "df2 = res[res['cvadrant'] == 2]\n",
    "\n",
    "df2['DIF'] = df2['WACC'] - df2['g_sec']\n",
    "df2= df2[df2['DIF']>= 0.04]\n",
    "df2['ev'] = (df2['FCFF']*(1+df2['g_firm']))/(df2['WACC']-df2['g_sec'])\n",
    "df2= df2[df2['ev']<= 40000]\n",
    "df2 = df2[['Year','Mount', 'FIRM', 'FCFF', 'ev', 'cvadrant']] \n",
    "\n",
    "df2.describe()"
   ]
  },
  {
   "cell_type": "code",
   "execution_count": 32,
   "metadata": {},
   "outputs": [
    {
     "data": {
      "text/plain": [
       "<matplotlib.axes._subplots.AxesSubplot at 0x21d86f37c50>"
      ]
     },
     "execution_count": 32,
     "metadata": {},
     "output_type": "execute_result"
    },
    {
     "data": {
      "image/png": "[encoded data removed]",
      "text/plain": [
       "<Figure size 720x360 with 1 Axes>"
      ]
     },
     "metadata": {
      "needs_background": "light"
     },
     "output_type": "display_data"
    }
   ],
   "source": [
    "df2['ev'].plot(style='r--', figsize = (10,5), kind = 'hist')"
   ]
  },
  {
   "cell_type": "code",
   "execution_count": 55,
   "metadata": {},
   "outputs": [
    {
     "name": "stderr",
     "output_type": "stream",
     "text": [
      "C:\\Users\\1200596\\Anaconda3\\lib\\site-packages\\ipykernel_launcher.py:4: SettingWithCopyWarning: \n",
      "A value is trying to be set on a copy of a slice from a DataFrame.\n",
      "Try using .loc[row_indexer,col_indexer] = value instead\n",
      "\n",
      "See the caveats in the documentation: http://pandas.pydata.org/pandas-docs/stable/indexing.html#indexing-view-versus-copy\n",
      "  after removing the cwd from sys.path.\n"
     ]
    },
    {
     "data": {
      "text/html": [
       "<div>\n",
       "<style scoped>\n",
       "    .dataframe tbody tr th:only-of-type {\n",
       "        vertical-align: middle;\n",
       "    }\n",
       "\n",
       "    .dataframe tbody tr th {\n",
       "        vertical-align: top;\n",
       "    }\n",
       "\n",
       "    .dataframe thead th {\n",
       "        text-align: right;\n",
       "    }\n",
       "</style>\n",
       "<table border=\"1\" class=\"dataframe\">\n",
       "  <thead>\n",
       "    <tr style=\"text-align: right;\">\n",
       "      <th></th>\n",
       "      <th>Year</th>\n",
       "      <th>FIRM</th>\n",
       "      <th>FCFF</th>\n",
       "      <th>ev</th>\n",
       "      <th>cvadrant</th>\n",
       "    </tr>\n",
       "  </thead>\n",
       "  <tbody>\n",
       "    <tr>\n",
       "      <th>count</th>\n",
       "      <td>543.000000</td>\n",
       "      <td>543.000000</td>\n",
       "      <td>543.000000</td>\n",
       "      <td>543.000000</td>\n",
       "      <td>543.0</td>\n",
       "    </tr>\n",
       "    <tr>\n",
       "      <th>mean</th>\n",
       "      <td>2009.534070</td>\n",
       "      <td>48185.788214</td>\n",
       "      <td>590.140133</td>\n",
       "      <td>9749.215258</td>\n",
       "      <td>3.0</td>\n",
       "    </tr>\n",
       "    <tr>\n",
       "      <th>std</th>\n",
       "      <td>5.075286</td>\n",
       "      <td>57644.910922</td>\n",
       "      <td>494.422986</td>\n",
       "      <td>8277.891586</td>\n",
       "      <td>0.0</td>\n",
       "    </tr>\n",
       "    <tr>\n",
       "      <th>min</th>\n",
       "      <td>2003.000000</td>\n",
       "      <td>1209.000000</td>\n",
       "      <td>9.000000</td>\n",
       "      <td>42.649276</td>\n",
       "      <td>3.0</td>\n",
       "    </tr>\n",
       "    <tr>\n",
       "      <th>25%</th>\n",
       "      <td>2003.000000</td>\n",
       "      <td>8045.000000</td>\n",
       "      <td>215.690500</td>\n",
       "      <td>3277.272202</td>\n",
       "      <td>3.0</td>\n",
       "    </tr>\n",
       "    <tr>\n",
       "      <th>50%</th>\n",
       "      <td>2010.000000</td>\n",
       "      <td>15521.000000</td>\n",
       "      <td>436.000000</td>\n",
       "      <td>7036.647674</td>\n",
       "      <td>3.0</td>\n",
       "    </tr>\n",
       "    <tr>\n",
       "      <th>75%</th>\n",
       "      <td>2013.000000</td>\n",
       "      <td>65609.000000</td>\n",
       "      <td>884.000000</td>\n",
       "      <td>15326.752159</td>\n",
       "      <td>3.0</td>\n",
       "    </tr>\n",
       "    <tr>\n",
       "      <th>max</th>\n",
       "      <td>2018.000000</td>\n",
       "      <td>260774.000000</td>\n",
       "      <td>3233.000000</td>\n",
       "      <td>39758.562285</td>\n",
       "      <td>3.0</td>\n",
       "    </tr>\n",
       "  </tbody>\n",
       "</table>\n",
       "</div>"
      ],
      "text/plain": [
       "              Year           FIRM         FCFF            ev  cvadrant\n",
       "count   543.000000     543.000000   543.000000    543.000000     543.0\n",
       "mean   2009.534070   48185.788214   590.140133   9749.215258       3.0\n",
       "std       5.075286   57644.910922   494.422986   8277.891586       0.0\n",
       "min    2003.000000    1209.000000     9.000000     42.649276       3.0\n",
       "25%    2003.000000    8045.000000   215.690500   3277.272202       3.0\n",
       "50%    2010.000000   15521.000000   436.000000   7036.647674       3.0\n",
       "75%    2013.000000   65609.000000   884.000000  15326.752159       3.0\n",
       "max    2018.000000  260774.000000  3233.000000  39758.562285       3.0"
      ]
     },
     "execution_count": 55,
     "metadata": {},
     "output_type": "execute_result"
    }
   ],
   "source": [
    "# 3-d segment. agressive firms\n",
    "df3 = res[res['cvadrant'] == 3]\n",
    "\n",
    "df3['DIF'] = df3['WACC'] - df3['g_sec']\n",
    "df3= df3[df3['DIF']>= 0.04]\n",
    "\n",
    "df3['dif'] = (df3['g_sec'] - df3['g_firm'])/3\n",
    "df3['g1'] = (df3['g_firm'] + df3['dif']) \n",
    "df3['g2'] = (df3['g1'] + df3['dif'])\n",
    "df3['g3'] = (df3['g2'] + df3['dif'])\n",
    "\n",
    "df3['FCFF1'] = df3['FCFF'] * (1+df3['g_firm'])\n",
    "\n",
    "df3['FCFF2'] = df3['FCFF1'] * (1+df3['g1'])\n",
    "df3['FCFF3'] = df3['FCFF2'] * (1+df3['g2'])\n",
    "df3['FCFF4'] = df3['FCFF3'] * (1+df3['g3'])\n",
    "\n",
    "df3['FCFF5'] = df3['FCFF4'] * (1 + df3['g_sec'])\n",
    "\n",
    "a = df3['FCFF1']/(1+df3['WACC'])**1\n",
    "b = df3['FCFF2']/(1+df3['WACC'])**2\n",
    "c = df3['FCFF3']/(1+df3['WACC'])**3\n",
    "d = df3['FCFF4']/(1+df3['WACC'])**4\n",
    "\n",
    "df3['cur'] =  a + b + c + d\n",
    "\n",
    "df3['terminal'] = (df3['FCFF5']/ df3['DIF'])/(1+df3['WACC'])**5\n",
    "\n",
    "df3['ev'] = df3['terminal'] + df3['cur']\n",
    "\n",
    "df3 = df3[df3['ev']<= 40000]\n",
    "df3 = df3[['Year','Mount', 'FIRM', 'FCFF', 'ev', 'cvadrant']] \n",
    "\n",
    "df3.describe()"
   ]
  },
  {
   "cell_type": "code",
   "execution_count": 34,
   "metadata": {},
   "outputs": [
    {
     "data": {
      "text/plain": [
       "<matplotlib.axes._subplots.AxesSubplot at 0x21d89d0bef0>"
      ]
     },
     "execution_count": 34,
     "metadata": {},
     "output_type": "execute_result"
    },
    {
     "data": {
      "image/png": "[encoded data removed]",
      "text/plain": [
       "<Figure size 720x360 with 1 Axes>"
      ]
     },
     "metadata": {
      "needs_background": "light"
     },
     "output_type": "display_data"
    }
   ],
   "source": [
    "df3['ev'].plot(style='r--', figsize = (10,5), kind = 'hist')"
   ]
  },
  {
   "cell_type": "code",
   "execution_count": 56,
   "metadata": {},
   "outputs": [
    {
     "name": "stderr",
     "output_type": "stream",
     "text": [
      "C:\\Users\\1200596\\Anaconda3\\lib\\site-packages\\ipykernel_launcher.py:3: SettingWithCopyWarning: \n",
      "A value is trying to be set on a copy of a slice from a DataFrame.\n",
      "Try using .loc[row_indexer,col_indexer] = value instead\n",
      "\n",
      "See the caveats in the documentation: http://pandas.pydata.org/pandas-docs/stable/indexing.html#indexing-view-versus-copy\n",
      "  This is separate from the ipykernel package so we can avoid doing imports until\n"
     ]
    },
    {
     "data": {
      "text/html": [
       "<div>\n",
       "<style scoped>\n",
       "    .dataframe tbody tr th:only-of-type {\n",
       "        vertical-align: middle;\n",
       "    }\n",
       "\n",
       "    .dataframe tbody tr th {\n",
       "        vertical-align: top;\n",
       "    }\n",
       "\n",
       "    .dataframe thead th {\n",
       "        text-align: right;\n",
       "    }\n",
       "</style>\n",
       "<table border=\"1\" class=\"dataframe\">\n",
       "  <thead>\n",
       "    <tr style=\"text-align: right;\">\n",
       "      <th></th>\n",
       "      <th>Year</th>\n",
       "      <th>FIRM</th>\n",
       "      <th>FCFF</th>\n",
       "      <th>ev</th>\n",
       "      <th>cvadrant</th>\n",
       "    </tr>\n",
       "  </thead>\n",
       "  <tbody>\n",
       "    <tr>\n",
       "      <th>count</th>\n",
       "      <td>1022.000000</td>\n",
       "      <td>1022.000000</td>\n",
       "      <td>1022.000000</td>\n",
       "      <td>1022.000000</td>\n",
       "      <td>1022.0</td>\n",
       "    </tr>\n",
       "    <tr>\n",
       "      <th>mean</th>\n",
       "      <td>2010.589041</td>\n",
       "      <td>30584.239726</td>\n",
       "      <td>576.307796</td>\n",
       "      <td>6988.485720</td>\n",
       "      <td>4.0</td>\n",
       "    </tr>\n",
       "    <tr>\n",
       "      <th>std</th>\n",
       "      <td>4.898919</td>\n",
       "      <td>48899.071601</td>\n",
       "      <td>610.666577</td>\n",
       "      <td>7717.414989</td>\n",
       "      <td>0.0</td>\n",
       "    </tr>\n",
       "    <tr>\n",
       "      <th>min</th>\n",
       "      <td>2003.000000</td>\n",
       "      <td>1013.000000</td>\n",
       "      <td>1.130000</td>\n",
       "      <td>2.990951</td>\n",
       "      <td>4.0</td>\n",
       "    </tr>\n",
       "    <tr>\n",
       "      <th>25%</th>\n",
       "      <td>2006.000000</td>\n",
       "      <td>5783.000000</td>\n",
       "      <td>166.330500</td>\n",
       "      <td>1501.248408</td>\n",
       "      <td>4.0</td>\n",
       "    </tr>\n",
       "    <tr>\n",
       "      <th>50%</th>\n",
       "      <td>2011.000000</td>\n",
       "      <td>10190.000000</td>\n",
       "      <td>376.644000</td>\n",
       "      <td>4078.220934</td>\n",
       "      <td>4.0</td>\n",
       "    </tr>\n",
       "    <tr>\n",
       "      <th>75%</th>\n",
       "      <td>2015.000000</td>\n",
       "      <td>27780.000000</td>\n",
       "      <td>761.250000</td>\n",
       "      <td>10053.762187</td>\n",
       "      <td>4.0</td>\n",
       "    </tr>\n",
       "    <tr>\n",
       "      <th>max</th>\n",
       "      <td>2018.000000</td>\n",
       "      <td>316056.000000</td>\n",
       "      <td>3910.000000</td>\n",
       "      <td>39028.739182</td>\n",
       "      <td>4.0</td>\n",
       "    </tr>\n",
       "  </tbody>\n",
       "</table>\n",
       "</div>"
      ],
      "text/plain": [
       "              Year           FIRM         FCFF            ev  cvadrant\n",
       "count  1022.000000    1022.000000  1022.000000   1022.000000    1022.0\n",
       "mean   2010.589041   30584.239726   576.307796   6988.485720       4.0\n",
       "std       4.898919   48899.071601   610.666577   7717.414989       0.0\n",
       "min    2003.000000    1013.000000     1.130000      2.990951       4.0\n",
       "25%    2006.000000    5783.000000   166.330500   1501.248408       4.0\n",
       "50%    2011.000000   10190.000000   376.644000   4078.220934       4.0\n",
       "75%    2015.000000   27780.000000   761.250000  10053.762187       4.0\n",
       "max    2018.000000  316056.000000  3910.000000  39028.739182       4.0"
      ]
     },
     "execution_count": 56,
     "metadata": {},
     "output_type": "execute_result"
    }
   ],
   "source": [
    "# 4-th segment. badly\n",
    "df4 = res[res['cvadrant'] == 4]\n",
    "df4['DIF'] = df4['WACC'] - df4['g_sec']\n",
    "df4= df4[df4['DIF']>= 0.04]\n",
    "\n",
    "df4['dif'] = (df4['g_sec'] - df4['g_firm'])/5\n",
    "df4['g1'] = (df4['g_firm'] + df4['dif']) \n",
    "df4['g2'] = (df4['g1'] + df4['dif'])\n",
    "df4['g3'] = (df4['g2'] + df4['dif'])\n",
    "df4['g4'] = (df4['g3'] + df4['dif'])\n",
    "df4['g5'] = (df4['g4'] + df4['dif'])\n",
    "\n",
    "df4['FCFF1'] = df4['FCFF'] * (1+df4['g1'])\n",
    "df4['FCFF2'] = df4['FCFF1'] * (1+df4['g2'])\n",
    "df4['FCFF3'] = df4['FCFF2'] * (1+df4['g3'])\n",
    "df4['FCFF4'] = df4['FCFF3'] * (1+df4['g4'])\n",
    "df4['FCFF5'] = df4['FCFF4'] * (1+df4['g5'])\n",
    "df4['FCFF6'] = df4['FCFF5'] * (1 + df4['g_sec'])\n",
    "\n",
    "a = df4['FCFF1']/(1+df4['WACC'])**1\n",
    "b = df4['FCFF2']/(1+df4['WACC'])**2\n",
    "c = df4['FCFF3']/(1+df4['WACC'])**3\n",
    "d = df4['FCFF4']/(1+df4['WACC'])**4\n",
    "e = df4['FCFF5']/(1+df4['WACC'])**5\n",
    "\n",
    "\n",
    "df4['cur'] =  a + b + c + d + e\n",
    "\n",
    "df4['terminal'] = (df4['FCFF6']/ df4['DIF'])/(1+df4['WACC'])**6\n",
    "\n",
    "df4['ev'] = df4['terminal'] + df4['cur']\n",
    "\n",
    "df4 = df4[df4['ev']<= 40000]\n",
    "df4 = df4[['Year','Mount', 'FIRM', 'FCFF','ev', 'cvadrant']] \n",
    "\n",
    "df4.describe()"
   ]
  },
  {
   "cell_type": "code",
   "execution_count": 36,
   "metadata": {},
   "outputs": [],
   "source": [
    "DE = pd.read_excel('DE.xlsx')\n",
    "D = DE[['Date_1', 'gvkey', 'D']]\n",
    "D = D.rename(columns = {'Date_1': 'Year', 'gvkey': 'FIRM'})\n",
    "D = D.assign(Year=D.Year.dt.year)\n",
    "\n"
   ]
  },
  {
   "cell_type": "code",
   "execution_count": 61,
   "metadata": {},
   "outputs": [
    {
     "data": {
      "text/plain": [
       "<matplotlib.axes._subplots.AxesSubplot at 0x21d8d4eb2b0>"
      ]
     },
     "execution_count": 61,
     "metadata": {},
     "output_type": "execute_result"
    },
    {
     "data": {
      "image/png": "[encoded data removed]",
      "text/plain": [
       "<Figure size 720x360 with 1 Axes>"
      ]
     },
     "metadata": {},
     "output_type": "display_data"
    }
   ],
   "source": [
    "ev = df1.append(df2)\n",
    "ev = ev.append(df3)\n",
    "ev = ev.append(df4)\n",
    "ev['ev'].plot(style='r--', figsize = (10,5), kind = 'hist')"
   ]
  },
  {
   "cell_type": "code",
   "execution_count": 38,
   "metadata": {},
   "outputs": [],
   "source": [
    "# yld market add\n",
    "dd = pd.read_excel('MkVal.xlsx')\n",
    "dd = dd[dd['MK'] < 50000]"
   ]
  },
  {
   "cell_type": "code",
   "execution_count": 58,
   "metadata": {},
   "outputs": [
    {
     "data": {
      "text/plain": [
       "<matplotlib.axes._subplots.AxesSubplot at 0x21d89fda4e0>"
      ]
     },
     "execution_count": 58,
     "metadata": {},
     "output_type": "execute_result"
    },
    {
     "data": {
      "image/png": "[encoded data removed]",
      "text/plain": [
       "<Figure size 720x360 with 1 Axes>"
      ]
     },
     "metadata": {},
     "output_type": "display_data"
    }
   ],
   "source": []
  },
  {
   "cell_type": "code",
   "execution_count": 62,
   "metadata": {},
   "outputs": [],
   "source": [
    "dd['Doxod'] = dd.groupby('FIRM')['MK'].pct_change()\n",
    "dd['Doxod3'] = dd.groupby('FIRM')['MK'].pct_change(periods=3)\n",
    "dd['Doxod12'] = dd.groupby('FIRM')['MK'].pct_change(periods=12)\n",
    "\n",
    "dd['dox1'] = dd['Doxod'].shift(-1)\n",
    "dd['dox4'] = dd['Doxod3'].shift(-3)\n",
    "dd['dox12'] = dd['Doxod12'].shift(-12)\n",
    "\n",
    "dd['dox1']=dd['dox1']*100\n",
    "dd['dox4']=dd['dox4']*100\n",
    "dd['dox12']=dd['dox12']*100\n",
    "\n",
    "dd = dd[dd['dox1']<25]\n",
    "dd= dd[dd['dox1']>-25]\n",
    "dd=dd[dd['dox12']<100]\n",
    "dd=dd[dd['dox4']<45]\n",
    "dd=dd[dd['dox4']>-27]\n",
    "\n",
    "ev = ev.merge(dd)"
   ]
  },
  {
   "cell_type": "code",
   "execution_count": 63,
   "metadata": {},
   "outputs": [
    {
     "data": {
      "text/plain": [
       "<matplotlib.axes._subplots.AxesSubplot at 0x21d866f75f8>"
      ]
     },
     "execution_count": 63,
     "metadata": {},
     "output_type": "execute_result"
    },
    {
     "data": {
      "image/png": "[encoded data removed]",
      "text/plain": [
       "<Figure size 720x360 with 1 Axes>"
      ]
     },
     "metadata": {},
     "output_type": "display_data"
    }
   ],
   "source": [
    "ev['MK'].plot(style='r--', figsize = (10,5), kind = 'hist')"
   ]
  },
  {
   "cell_type": "code",
   "execution_count": 40,
   "metadata": {},
   "outputs": [],
   "source": [
    "ev = ev.merge(D)\n",
    "ev.drop_duplicates(inplace=True)\n",
    "ev.dropna(inplace=True)\n",
    "ev['nev'] = ev['ev'] - ev['D']\n",
    "ev = ev[ev['nev'] > 0]"
   ]
  },
  {
   "cell_type": "code",
   "execution_count": 41,
   "metadata": {},
   "outputs": [
    {
     "name": "stderr",
     "output_type": "stream",
     "text": [
      "C:\\Users\\1200596\\Anaconda3\\lib\\site-packages\\scipy\\stats\\stats.py:1713: FutureWarning: Using a non-tuple sequence for multidimensional indexing is deprecated; use `arr[tuple(seq)]` instead of `arr[seq]`. In the future this will be interpreted as an array index, `arr[np.array(seq)]`, which will result either in an error or a different result.\n",
      "  return np.add.reduce(sorted[indexer] * weights, axis=axis) / sumval\n"
     ]
    },
    {
     "data": {
      "text/plain": [
       "Text(0.5,10.256,'MK')"
      ]
     },
     "execution_count": 41,
     "metadata": {},
     "output_type": "execute_result"
    },
    {
     "data": {
      "image/png": "[encoded data removed]",
      "text/plain": [
       "<Figure size 360x360 with 1 Axes>"
      ]
     },
     "metadata": {},
     "output_type": "display_data"
    }
   ],
   "source": [
    "##################################################\n",
    "\n",
    "\n",
    "\n",
    "\n",
    "ev['nedo']= ((ev['nev'] - ev['MK'])/ev['MK'])*100\n",
    "\n",
    "ev = ev.loc[:,['Mount','FIRM','MK','nev','nedo','dox1','dox4','dox12', 'cvadrant', 'Year']]\n",
    "ev.drop_duplicates(inplace=True)\n",
    "ev.dropna(inplace=True)\n",
    "\n",
    "ev = ev[ev['Year']<2018]\n",
    "\n",
    "sns.set_context(\"notebook\", font_scale=1.1)\n",
    "sns.set_style(\"ticks\")\n",
    "sns.lmplot('MK','nev', data=ev)\n",
    "plt.ylabel('nev')\n",
    "plt.xlabel('MK')"
   ]
  },
  {
   "cell_type": "code",
   "execution_count": 42,
   "metadata": {},
   "outputs": [
    {
     "data": {
      "text/html": [
       "<div>\n",
       "<style scoped>\n",
       "    .dataframe tbody tr th:only-of-type {\n",
       "        vertical-align: middle;\n",
       "    }\n",
       "\n",
       "    .dataframe tbody tr th {\n",
       "        vertical-align: top;\n",
       "    }\n",
       "\n",
       "    .dataframe thead th {\n",
       "        text-align: right;\n",
       "    }\n",
       "</style>\n",
       "<table border=\"1\" class=\"dataframe\">\n",
       "  <thead>\n",
       "    <tr style=\"text-align: right;\">\n",
       "      <th></th>\n",
       "      <th>FIRM</th>\n",
       "      <th>MK</th>\n",
       "      <th>nev</th>\n",
       "      <th>nedo</th>\n",
       "      <th>dox1</th>\n",
       "      <th>dox4</th>\n",
       "      <th>dox12</th>\n",
       "      <th>cvadrant</th>\n",
       "      <th>Year</th>\n",
       "    </tr>\n",
       "  </thead>\n",
       "  <tbody>\n",
       "    <tr>\n",
       "      <th>count</th>\n",
       "      <td>1303.000000</td>\n",
       "      <td>1303.000000</td>\n",
       "      <td>1303.000000</td>\n",
       "      <td>1303.000000</td>\n",
       "      <td>1303.000000</td>\n",
       "      <td>1303.000000</td>\n",
       "      <td>1303.000000</td>\n",
       "      <td>1303.000000</td>\n",
       "      <td>1303.000000</td>\n",
       "    </tr>\n",
       "    <tr>\n",
       "      <th>mean</th>\n",
       "      <td>42075.341520</td>\n",
       "      <td>8880.437614</td>\n",
       "      <td>7117.242271</td>\n",
       "      <td>-7.154827</td>\n",
       "      <td>2.952574</td>\n",
       "      <td>5.518283</td>\n",
       "      <td>15.785448</td>\n",
       "      <td>3.264006</td>\n",
       "      <td>2010.219493</td>\n",
       "    </tr>\n",
       "    <tr>\n",
       "      <th>std</th>\n",
       "      <td>57470.023245</td>\n",
       "      <td>8070.133261</td>\n",
       "      <td>8194.063536</td>\n",
       "      <td>95.191554</td>\n",
       "      <td>7.342891</td>\n",
       "      <td>12.999584</td>\n",
       "      <td>33.601643</td>\n",
       "      <td>0.895106</td>\n",
       "      <td>4.486644</td>\n",
       "    </tr>\n",
       "    <tr>\n",
       "      <th>min</th>\n",
       "      <td>1075.000000</td>\n",
       "      <td>252.516000</td>\n",
       "      <td>2.366717</td>\n",
       "      <td>-99.860416</td>\n",
       "      <td>-24.615385</td>\n",
       "      <td>-25.031180</td>\n",
       "      <td>-99.192231</td>\n",
       "      <td>1.000000</td>\n",
       "      <td>2003.000000</td>\n",
       "    </tr>\n",
       "    <tr>\n",
       "      <th>25%</th>\n",
       "      <td>6565.000000</td>\n",
       "      <td>3323.829750</td>\n",
       "      <td>1511.523524</td>\n",
       "      <td>-65.794592</td>\n",
       "      <td>-1.709975</td>\n",
       "      <td>-3.280545</td>\n",
       "      <td>-3.494799</td>\n",
       "      <td>3.000000</td>\n",
       "      <td>2008.000000</td>\n",
       "    </tr>\n",
       "    <tr>\n",
       "      <th>50%</th>\n",
       "      <td>12338.000000</td>\n",
       "      <td>6211.193300</td>\n",
       "      <td>4221.165510</td>\n",
       "      <td>-33.972585</td>\n",
       "      <td>2.771215</td>\n",
       "      <td>5.249827</td>\n",
       "      <td>16.116231</td>\n",
       "      <td>4.000000</td>\n",
       "      <td>2011.000000</td>\n",
       "    </tr>\n",
       "    <tr>\n",
       "      <th>75%</th>\n",
       "      <td>61676.000000</td>\n",
       "      <td>11776.606290</td>\n",
       "      <td>9192.077073</td>\n",
       "      <td>17.260908</td>\n",
       "      <td>7.706255</td>\n",
       "      <td>13.717561</td>\n",
       "      <td>37.344673</td>\n",
       "      <td>4.000000</td>\n",
       "      <td>2014.000000</td>\n",
       "    </tr>\n",
       "    <tr>\n",
       "      <th>max</th>\n",
       "      <td>316056.000000</td>\n",
       "      <td>49532.547000</td>\n",
       "      <td>46771.859693</td>\n",
       "      <td>854.188943</td>\n",
       "      <td>24.992526</td>\n",
       "      <td>44.927279</td>\n",
       "      <td>99.025811</td>\n",
       "      <td>4.000000</td>\n",
       "      <td>2017.000000</td>\n",
       "    </tr>\n",
       "  </tbody>\n",
       "</table>\n",
       "</div>"
      ],
      "text/plain": [
       "                FIRM            MK           nev         nedo         dox1  \\\n",
       "count    1303.000000   1303.000000   1303.000000  1303.000000  1303.000000   \n",
       "mean    42075.341520   8880.437614   7117.242271    -7.154827     2.952574   \n",
       "std     57470.023245   8070.133261   8194.063536    95.191554     7.342891   \n",
       "min      1075.000000    252.516000      2.366717   -99.860416   -24.615385   \n",
       "25%      6565.000000   3323.829750   1511.523524   -65.794592    -1.709975   \n",
       "50%     12338.000000   6211.193300   4221.165510   -33.972585     2.771215   \n",
       "75%     61676.000000  11776.606290   9192.077073    17.260908     7.706255   \n",
       "max    316056.000000  49532.547000  46771.859693   854.188943    24.992526   \n",
       "\n",
       "              dox4        dox12     cvadrant         Year  \n",
       "count  1303.000000  1303.000000  1303.000000  1303.000000  \n",
       "mean      5.518283    15.785448     3.264006  2010.219493  \n",
       "std      12.999584    33.601643     0.895106     4.486644  \n",
       "min     -25.031180   -99.192231     1.000000  2003.000000  \n",
       "25%      -3.280545    -3.494799     3.000000  2008.000000  \n",
       "50%       5.249827    16.116231     4.000000  2011.000000  \n",
       "75%      13.717561    37.344673     4.000000  2014.000000  \n",
       "max      44.927279    99.025811     4.000000  2017.000000  "
      ]
     },
     "execution_count": 42,
     "metadata": {},
     "output_type": "execute_result"
    }
   ],
   "source": [
    "ev.describe()"
   ]
  },
  {
   "cell_type": "code",
   "execution_count": 43,
   "metadata": {},
   "outputs": [
    {
     "data": {
      "text/plain": [
       "array([[<matplotlib.axes._subplots.AxesSubplot object at 0x0000021D8D6BEA58>,\n",
       "        <matplotlib.axes._subplots.AxesSubplot object at 0x0000021D8D71BD68>,\n",
       "        <matplotlib.axes._subplots.AxesSubplot object at 0x0000021D8D710E48>],\n",
       "       [<matplotlib.axes._subplots.AxesSubplot object at 0x0000021D8D75DE10>,\n",
       "        <matplotlib.axes._subplots.AxesSubplot object at 0x0000021D8D6FDCC0>,\n",
       "        <matplotlib.axes._subplots.AxesSubplot object at 0x0000021D8D6FD940>],\n",
       "       [<matplotlib.axes._subplots.AxesSubplot object at 0x0000021D8D737A20>,\n",
       "        <matplotlib.axes._subplots.AxesSubplot object at 0x0000021D8D7951D0>,\n",
       "        <matplotlib.axes._subplots.AxesSubplot object at 0x0000021D8D7E69B0>]],\n",
       "      dtype=object)"
      ]
     },
     "execution_count": 43,
     "metadata": {},
     "output_type": "execute_result"
    },
    {
     "data": {
      "image/png": "[encoded data removed]",
      "text/plain": [
       "<Figure size 720x720 with 9 Axes>"
      ]
     },
     "metadata": {},
     "output_type": "display_data"
    }
   ],
   "source": [
    "ev.hist(figsize=(10,10))"
   ]
  },
  {
   "cell_type": "code",
   "execution_count": 44,
   "metadata": {},
   "outputs": [
    {
     "data": {
      "text/html": [
       "<div>\n",
       "<style scoped>\n",
       "    .dataframe tbody tr th:only-of-type {\n",
       "        vertical-align: middle;\n",
       "    }\n",
       "\n",
       "    .dataframe tbody tr th {\n",
       "        vertical-align: top;\n",
       "    }\n",
       "\n",
       "    .dataframe thead th {\n",
       "        text-align: right;\n",
       "    }\n",
       "</style>\n",
       "<table border=\"1\" class=\"dataframe\">\n",
       "  <thead>\n",
       "    <tr style=\"text-align: right;\">\n",
       "      <th></th>\n",
       "      <th>FIRM</th>\n",
       "      <th>MK</th>\n",
       "      <th>nev</th>\n",
       "      <th>nedo</th>\n",
       "      <th>dox1</th>\n",
       "      <th>dox4</th>\n",
       "      <th>dox12</th>\n",
       "      <th>cvadrant</th>\n",
       "      <th>Year</th>\n",
       "    </tr>\n",
       "  </thead>\n",
       "  <tbody>\n",
       "    <tr>\n",
       "      <th>count</th>\n",
       "      <td>815.000000</td>\n",
       "      <td>815.000000</td>\n",
       "      <td>815.000000</td>\n",
       "      <td>815.000000</td>\n",
       "      <td>815.000000</td>\n",
       "      <td>815.000000</td>\n",
       "      <td>815.000000</td>\n",
       "      <td>815.000000</td>\n",
       "      <td>815.000000</td>\n",
       "    </tr>\n",
       "    <tr>\n",
       "      <th>mean</th>\n",
       "      <td>44221.992638</td>\n",
       "      <td>9135.113713</td>\n",
       "      <td>7133.529524</td>\n",
       "      <td>-19.821423</td>\n",
       "      <td>3.090776</td>\n",
       "      <td>5.156048</td>\n",
       "      <td>14.589216</td>\n",
       "      <td>3.214724</td>\n",
       "      <td>2010.734969</td>\n",
       "    </tr>\n",
       "    <tr>\n",
       "      <th>std</th>\n",
       "      <td>59448.033774</td>\n",
       "      <td>8243.080797</td>\n",
       "      <td>7214.337496</td>\n",
       "      <td>34.418099</td>\n",
       "      <td>7.137249</td>\n",
       "      <td>12.817150</td>\n",
       "      <td>34.355410</td>\n",
       "      <td>0.902783</td>\n",
       "      <td>4.415846</td>\n",
       "    </tr>\n",
       "    <tr>\n",
       "      <th>min</th>\n",
       "      <td>1075.000000</td>\n",
       "      <td>252.516000</td>\n",
       "      <td>173.421721</td>\n",
       "      <td>-69.983369</td>\n",
       "      <td>-24.232028</td>\n",
       "      <td>-25.031180</td>\n",
       "      <td>-98.358277</td>\n",
       "      <td>1.000000</td>\n",
       "      <td>2003.000000</td>\n",
       "    </tr>\n",
       "    <tr>\n",
       "      <th>25%</th>\n",
       "      <td>6547.000000</td>\n",
       "      <td>3479.317660</td>\n",
       "      <td>2514.071931</td>\n",
       "      <td>-48.509364</td>\n",
       "      <td>-1.564711</td>\n",
       "      <td>-3.620666</td>\n",
       "      <td>-4.906628</td>\n",
       "      <td>3.000000</td>\n",
       "      <td>2010.000000</td>\n",
       "    </tr>\n",
       "    <tr>\n",
       "      <th>50%</th>\n",
       "      <td>12389.000000</td>\n",
       "      <td>6481.218240</td>\n",
       "      <td>4628.165510</td>\n",
       "      <td>-26.951716</td>\n",
       "      <td>2.767776</td>\n",
       "      <td>5.249827</td>\n",
       "      <td>14.904372</td>\n",
       "      <td>3.000000</td>\n",
       "      <td>2011.000000</td>\n",
       "    </tr>\n",
       "    <tr>\n",
       "      <th>75%</th>\n",
       "      <td>63080.000000</td>\n",
       "      <td>12026.463330</td>\n",
       "      <td>9002.518645</td>\n",
       "      <td>4.384250</td>\n",
       "      <td>8.037784</td>\n",
       "      <td>13.592291</td>\n",
       "      <td>35.445690</td>\n",
       "      <td>4.000000</td>\n",
       "      <td>2015.000000</td>\n",
       "    </tr>\n",
       "    <tr>\n",
       "      <th>max</th>\n",
       "      <td>316056.000000</td>\n",
       "      <td>49532.547000</td>\n",
       "      <td>46115.459321</td>\n",
       "      <td>62.436746</td>\n",
       "      <td>24.992526</td>\n",
       "      <td>44.927279</td>\n",
       "      <td>99.025811</td>\n",
       "      <td>4.000000</td>\n",
       "      <td>2017.000000</td>\n",
       "    </tr>\n",
       "  </tbody>\n",
       "</table>\n",
       "</div>"
      ],
      "text/plain": [
       "                FIRM            MK           nev        nedo        dox1  \\\n",
       "count     815.000000    815.000000    815.000000  815.000000  815.000000   \n",
       "mean    44221.992638   9135.113713   7133.529524  -19.821423    3.090776   \n",
       "std     59448.033774   8243.080797   7214.337496   34.418099    7.137249   \n",
       "min      1075.000000    252.516000    173.421721  -69.983369  -24.232028   \n",
       "25%      6547.000000   3479.317660   2514.071931  -48.509364   -1.564711   \n",
       "50%     12389.000000   6481.218240   4628.165510  -26.951716    2.767776   \n",
       "75%     63080.000000  12026.463330   9002.518645    4.384250    8.037784   \n",
       "max    316056.000000  49532.547000  46115.459321   62.436746   24.992526   \n",
       "\n",
       "             dox4       dox12    cvadrant         Year  \n",
       "count  815.000000  815.000000  815.000000   815.000000  \n",
       "mean     5.156048   14.589216    3.214724  2010.734969  \n",
       "std     12.817150   34.355410    0.902783     4.415846  \n",
       "min    -25.031180  -98.358277    1.000000  2003.000000  \n",
       "25%     -3.620666   -4.906628    3.000000  2010.000000  \n",
       "50%      5.249827   14.904372    3.000000  2011.000000  \n",
       "75%     13.592291   35.445690    4.000000  2015.000000  \n",
       "max     44.927279   99.025811    4.000000  2017.000000  "
      ]
     },
     "execution_count": 44,
     "metadata": {},
     "output_type": "execute_result"
    }
   ],
   "source": [
    "z = ev[(ev['nedo']< 62.771869)]\n",
    "z = z[z['nedo']>-70.099094]\n",
    "z.describe()"
   ]
  },
  {
   "cell_type": "code",
   "execution_count": 45,
   "metadata": {},
   "outputs": [
    {
     "name": "stderr",
     "output_type": "stream",
     "text": [
      "C:\\Users\\1200596\\Anaconda3\\lib\\site-packages\\scipy\\stats\\stats.py:1713: FutureWarning: Using a non-tuple sequence for multidimensional indexing is deprecated; use `arr[tuple(seq)]` instead of `arr[seq]`. In the future this will be interpreted as an array index, `arr[np.array(seq)]`, which will result either in an error or a different result.\n",
      "  return np.add.reduce(sorted[indexer] * weights, axis=axis) / sumval\n"
     ]
    },
    {
     "data": {
      "text/plain": [
       "Text(0.5,10.256,'MK')"
      ]
     },
     "execution_count": 45,
     "metadata": {},
     "output_type": "execute_result"
    },
    {
     "data": {
      "image/png": "[encoded data removed]",
      "text/plain": [
       "<Figure size 360x360 with 1 Axes>"
      ]
     },
     "metadata": {},
     "output_type": "display_data"
    }
   ],
   "source": [
    "sns.set_context(\"notebook\", font_scale=1.1)\n",
    "sns.set_style(\"ticks\")\n",
    "sns.lmplot('MK','nev', data=z)\n",
    "plt.ylabel('nev')\n",
    "plt.xlabel('MK')"
   ]
  },
  {
   "cell_type": "code",
   "execution_count": 46,
   "metadata": {},
   "outputs": [
    {
     "name": "stderr",
     "output_type": "stream",
     "text": [
      "C:\\Users\\1200596\\Anaconda3\\lib\\site-packages\\scipy\\stats\\stats.py:1713: FutureWarning: Using a non-tuple sequence for multidimensional indexing is deprecated; use `arr[tuple(seq)]` instead of `arr[seq]`. In the future this will be interpreted as an array index, `arr[np.array(seq)]`, which will result either in an error or a different result.\n",
      "  return np.add.reduce(sorted[indexer] * weights, axis=axis) / sumval\n"
     ]
    },
    {
     "data": {
      "text/plain": [
       "Text(0.5,10.256,'nedo')"
      ]
     },
     "execution_count": 46,
     "metadata": {},
     "output_type": "execute_result"
    },
    {
     "data": {
      "image/png": "[encoded data removed]",
      "text/plain": [
       "<Figure size 360x360 with 1 Axes>"
      ]
     },
     "metadata": {},
     "output_type": "display_data"
    }
   ],
   "source": [
    "import matplotlib.pyplot as plt\n",
    "import numpy as np\n",
    "import seaborn as sns\n",
    "%matplotlib inline\n",
    "from sklearn import linear_model\n",
    "sns.set_context(\"notebook\", font_scale=1.1)\n",
    "sns.set_style(\"ticks\")\n",
    "sns.lmplot('nedo','dox1', data=z)\n",
    "plt.ylabel('dox1')\n",
    "plt.xlabel('nedo')"
   ]
  },
  {
   "cell_type": "code",
   "execution_count": 47,
   "metadata": {},
   "outputs": [
    {
     "name": "stderr",
     "output_type": "stream",
     "text": [
      "C:\\Users\\1200596\\Anaconda3\\lib\\site-packages\\scipy\\stats\\stats.py:1713: FutureWarning: Using a non-tuple sequence for multidimensional indexing is deprecated; use `arr[tuple(seq)]` instead of `arr[seq]`. In the future this will be interpreted as an array index, `arr[np.array(seq)]`, which will result either in an error or a different result.\n",
      "  return np.add.reduce(sorted[indexer] * weights, axis=axis) / sumval\n"
     ]
    },
    {
     "data": {
      "text/plain": [
       "Text(0.5,10.256,'nedo')"
      ]
     },
     "execution_count": 47,
     "metadata": {},
     "output_type": "execute_result"
    },
    {
     "data": {
      "image/png": "[encoded data removed]",
      "text/plain": [
       "<Figure size 360x360 with 1 Axes>"
      ]
     },
     "metadata": {},
     "output_type": "display_data"
    }
   ],
   "source": [
    "sns.set_context(\"notebook\", font_scale=1.1)\n",
    "sns.set_style(\"ticks\")\n",
    "sns.lmplot('nedo','dox4', data=z)\n",
    "plt.ylabel('dox4')\n",
    "plt.xlabel('nedo')"
   ]
  },
  {
   "cell_type": "code",
   "execution_count": 48,
   "metadata": {},
   "outputs": [
    {
     "name": "stderr",
     "output_type": "stream",
     "text": [
      "C:\\Users\\1200596\\Anaconda3\\lib\\site-packages\\scipy\\stats\\stats.py:1713: FutureWarning: Using a non-tuple sequence for multidimensional indexing is deprecated; use `arr[tuple(seq)]` instead of `arr[seq]`. In the future this will be interpreted as an array index, `arr[np.array(seq)]`, which will result either in an error or a different result.\n",
      "  return np.add.reduce(sorted[indexer] * weights, axis=axis) / sumval\n"
     ]
    },
    {
     "data": {
      "text/plain": [
       "Text(0.5,10.256,'nedo')"
      ]
     },
     "execution_count": 48,
     "metadata": {},
     "output_type": "execute_result"
    },
    {
     "data": {
      "image/png": "[encoded data removed]",
      "text/plain": [
       "<Figure size 360x360 with 1 Axes>"
      ]
     },
     "metadata": {},
     "output_type": "display_data"
    }
   ],
   "source": [
    "sns.set_context(\"notebook\", font_scale=1.1)\n",
    "sns.set_style(\"ticks\")\n",
    "sns.lmplot('nedo','dox12', data=z)\n",
    "plt.ylabel('dox12')\n",
    "plt.xlabel('nedo')"
   ]
  },
  {
   "cell_type": "code",
   "execution_count": 80,
   "metadata": {},
   "outputs": [
    {
     "data": {
      "text/html": [
       "<div>\n",
       "<style scoped>\n",
       "    .dataframe tbody tr th:only-of-type {\n",
       "        vertical-align: middle;\n",
       "    }\n",
       "\n",
       "    .dataframe tbody tr th {\n",
       "        vertical-align: top;\n",
       "    }\n",
       "\n",
       "    .dataframe thead th {\n",
       "        text-align: right;\n",
       "    }\n",
       "</style>\n",
       "<table border=\"1\" class=\"dataframe\">\n",
       "  <thead>\n",
       "    <tr style=\"text-align: right;\">\n",
       "      <th></th>\n",
       "      <th>FIRM</th>\n",
       "      <th>MK</th>\n",
       "      <th>nev</th>\n",
       "      <th>nedo</th>\n",
       "      <th>dox1</th>\n",
       "      <th>dox4</th>\n",
       "      <th>dox12</th>\n",
       "      <th>cvadrant</th>\n",
       "      <th>Year</th>\n",
       "    </tr>\n",
       "  </thead>\n",
       "  <tbody>\n",
       "    <tr>\n",
       "      <th>FIRM</th>\n",
       "      <td>1.000000</td>\n",
       "      <td>0.149908</td>\n",
       "      <td>0.137001</td>\n",
       "      <td>0.011871</td>\n",
       "      <td>0.109055</td>\n",
       "      <td>0.025222</td>\n",
       "      <td>0.000114</td>\n",
       "      <td>-0.148284</td>\n",
       "      <td>0.094068</td>\n",
       "    </tr>\n",
       "    <tr>\n",
       "      <th>MK</th>\n",
       "      <td>0.149908</td>\n",
       "      <td>1.000000</td>\n",
       "      <td>0.553120</td>\n",
       "      <td>-0.146924</td>\n",
       "      <td>-0.028360</td>\n",
       "      <td>-0.075094</td>\n",
       "      <td>-0.195744</td>\n",
       "      <td>0.095044</td>\n",
       "      <td>0.197979</td>\n",
       "    </tr>\n",
       "    <tr>\n",
       "      <th>nev</th>\n",
       "      <td>0.137001</td>\n",
       "      <td>0.553120</td>\n",
       "      <td>1.000000</td>\n",
       "      <td>0.498720</td>\n",
       "      <td>-0.008249</td>\n",
       "      <td>-0.102962</td>\n",
       "      <td>-0.146055</td>\n",
       "      <td>-0.005048</td>\n",
       "      <td>0.229843</td>\n",
       "    </tr>\n",
       "    <tr>\n",
       "      <th>nedo</th>\n",
       "      <td>0.011871</td>\n",
       "      <td>-0.146924</td>\n",
       "      <td>0.498720</td>\n",
       "      <td>1.000000</td>\n",
       "      <td>0.043047</td>\n",
       "      <td>-0.057268</td>\n",
       "      <td>-0.016947</td>\n",
       "      <td>-0.084146</td>\n",
       "      <td>0.088988</td>\n",
       "    </tr>\n",
       "    <tr>\n",
       "      <th>dox1</th>\n",
       "      <td>0.109055</td>\n",
       "      <td>-0.028360</td>\n",
       "      <td>-0.008249</td>\n",
       "      <td>0.043047</td>\n",
       "      <td>1.000000</td>\n",
       "      <td>0.394058</td>\n",
       "      <td>0.218616</td>\n",
       "      <td>-0.033598</td>\n",
       "      <td>0.058686</td>\n",
       "    </tr>\n",
       "    <tr>\n",
       "      <th>dox4</th>\n",
       "      <td>0.025222</td>\n",
       "      <td>-0.075094</td>\n",
       "      <td>-0.102962</td>\n",
       "      <td>-0.057268</td>\n",
       "      <td>0.394058</td>\n",
       "      <td>1.000000</td>\n",
       "      <td>0.405915</td>\n",
       "      <td>-0.041689</td>\n",
       "      <td>-0.233060</td>\n",
       "    </tr>\n",
       "    <tr>\n",
       "      <th>dox12</th>\n",
       "      <td>0.000114</td>\n",
       "      <td>-0.195744</td>\n",
       "      <td>-0.146055</td>\n",
       "      <td>-0.016947</td>\n",
       "      <td>0.218616</td>\n",
       "      <td>0.405915</td>\n",
       "      <td>1.000000</td>\n",
       "      <td>-0.052621</td>\n",
       "      <td>-0.291288</td>\n",
       "    </tr>\n",
       "    <tr>\n",
       "      <th>cvadrant</th>\n",
       "      <td>-0.148284</td>\n",
       "      <td>0.095044</td>\n",
       "      <td>-0.005048</td>\n",
       "      <td>-0.084146</td>\n",
       "      <td>-0.033598</td>\n",
       "      <td>-0.041689</td>\n",
       "      <td>-0.052621</td>\n",
       "      <td>1.000000</td>\n",
       "      <td>0.032606</td>\n",
       "    </tr>\n",
       "    <tr>\n",
       "      <th>Year</th>\n",
       "      <td>0.094068</td>\n",
       "      <td>0.197979</td>\n",
       "      <td>0.229843</td>\n",
       "      <td>0.088988</td>\n",
       "      <td>0.058686</td>\n",
       "      <td>-0.233060</td>\n",
       "      <td>-0.291288</td>\n",
       "      <td>0.032606</td>\n",
       "      <td>1.000000</td>\n",
       "    </tr>\n",
       "  </tbody>\n",
       "</table>\n",
       "</div>"
      ],
      "text/plain": [
       "              FIRM        MK       nev      nedo      dox1      dox4  \\\n",
       "FIRM      1.000000  0.149908  0.137001  0.011871  0.109055  0.025222   \n",
       "MK        0.149908  1.000000  0.553120 -0.146924 -0.028360 -0.075094   \n",
       "nev       0.137001  0.553120  1.000000  0.498720 -0.008249 -0.102962   \n",
       "nedo      0.011871 -0.146924  0.498720  1.000000  0.043047 -0.057268   \n",
       "dox1      0.109055 -0.028360 -0.008249  0.043047  1.000000  0.394058   \n",
       "dox4      0.025222 -0.075094 -0.102962 -0.057268  0.394058  1.000000   \n",
       "dox12     0.000114 -0.195744 -0.146055 -0.016947  0.218616  0.405915   \n",
       "cvadrant -0.148284  0.095044 -0.005048 -0.084146 -0.033598 -0.041689   \n",
       "Year      0.094068  0.197979  0.229843  0.088988  0.058686 -0.233060   \n",
       "\n",
       "             dox12  cvadrant      Year  \n",
       "FIRM      0.000114 -0.148284  0.094068  \n",
       "MK       -0.195744  0.095044  0.197979  \n",
       "nev      -0.146055 -0.005048  0.229843  \n",
       "nedo     -0.016947 -0.084146  0.088988  \n",
       "dox1      0.218616 -0.033598  0.058686  \n",
       "dox4      0.405915 -0.041689 -0.233060  \n",
       "dox12     1.000000 -0.052621 -0.291288  \n",
       "cvadrant -0.052621  1.000000  0.032606  \n",
       "Year     -0.291288  0.032606  1.000000  "
      ]
     },
     "execution_count": 80,
     "metadata": {},
     "output_type": "execute_result"
    }
   ],
   "source": [
    "ev.corr()"
   ]
  }
 ],
 "metadata": {
  "kernelspec": {
   "display_name": "Python 3",
   "language": "python",
   "name": "python3"
  },
  "language_info": {
   "codemirror_mode": {
    "name": "ipython",
    "version": 3
   },
   "file_extension": ".py",
   "mimetype": "text/x-python",
   "name": "python",
   "nbconvert_exporter": "python",
   "pygments_lexer": "ipython3",
   "version": "3.7.4"
  }
 },
 "nbformat": 4,
 "nbformat_minor": 2
}
