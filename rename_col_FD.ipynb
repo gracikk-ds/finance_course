{
 "cells": [
  {
   "cell_type": "code",
   "execution_count": 2,
   "metadata": {},
   "outputs": [],
   "source": [
    "import pandas as pd\n",
    "import numpy as np\n",
    "import seaborn as sbs\n",
    "import matplotlib.pyplot as plt\n",
    "import warnings \n",
    "warnings.filterwarnings('ignore')\n",
    "%matplotlib inline\n",
    "#увеличим дефолтный размер графиков\n",
    "from pylab import rcParams\n",
    "rcParams['figure.figsize'] = 8, 5"
   ]
  },
  {
   "cell_type": "code",
   "execution_count": null,
   "metadata": {},
   "outputs": [],
   "source": [
    "#графики в svg выглядят более четкими\n",
    "%config InlineBackend.figure_format = 'svg' "
   ]
  },
  {
   "cell_type": "code",
   "execution_count": 3,
   "metadata": {},
   "outputs": [],
   "source": [
    "df = pd.read_excel('Fundamental Data.xlsx')"
   ]
  },
  {
   "cell_type": "code",
   "execution_count": 4,
   "metadata": {},
   "outputs": [],
   "source": [
    "# удаляем нулевые стобцы\n",
    "null_columns = np.array(df.count()[df.count()<9000].index)\n",
    "df.drop(columns=null_columns, inplace=True)"
   ]
  },
  {
   "cell_type": "code",
   "execution_count": 5,
   "metadata": {},
   "outputs": [],
   "source": [
    "df.rename(columns={'act': 'cur_assets', 'ap': 'acc_payable', 'at': 'total_assets', 'bkvlps': 'book_value_per_share',\n",
    "                   'capx': 'capex', 'ceq': 'equity', 'ceqt': 'tangible_equity', 'ch': 'cash', 'dlc': 'STD',\n",
    "                   'dltt': 'LTD', 'dp': 'amort', 'dvt': 'dividends', 'emp': 'employees', 'icapt': 'Invested_capital', \n",
    "                   'intan': 'intangible_assets', 'intpn': 'interests_paid_net', 'invt': 'inventories', 'lo': 'other_liabilities',\n",
    "                   'lt': 'liabilities_total', 'mib': 'minority_interests', 'mibt': 'noncontrolling_interests', 'msa': 'marketable_sec',\n",
    "                   'ni': 'net_income', 'oancf': 'op_act_net_CF', 'oiadp': 'op_inc_after_dep', 'oibdp': 'op_in_before_dep', \n",
    "                   'pstk': 'preference_stock', 're': 'Retained Earnings', 'rect': 'acc_receivables', 'sale': 'sales', \n",
    "                   'seq': 'stockholders_equity', 'txditc': 'deferred_taxes', 'txfed': 'deferred_taxes_fed', 'txfo': 'deferred_taxes_foreign',\n",
    "                   'txt': 'income_taxes', 'wcap': 'working_cap', 'xint': 'int_exp', 'xintopt': 'Implied Option Expense'}, inplace=True)\n",
    "\n",
    "df['COGS'] = df['sales'] * (1 - df['GrossMargin']/100)\n",
    "df['Other_exp'] = df['sales'] - df['COGS'] - df['ebit']\n",
    "df['tax'] = df['ebit'] - df['interests_paid_net'] - df['net_income']"
   ]
  },
  {
   "cell_type": "code",
   "execution_count": 26,
   "metadata": {},
   "outputs": [],
   "source": [
    "Liabilities = df[['DataDate', 'GVKey','Iid','Sector',\n",
    "                  'STD', 'LTD', 'other_liabilities',\n",
    "                  'acc_payable','int_exp', 'liabilities_total']]\n",
    "\n",
    "Equity = df[['DataDate', 'GVKey','Iid','Sector',\n",
    "             'equity', 'Retained Earnings', 'stockholders_equity',\n",
    "             'tangible_equity','book_value_per_share', \n",
    "             'Invested_capital', 'preference_stock' ]]\n",
    "\n",
    "Assets = df[['DataDate', 'GVKey','Iid','Sector',\n",
    "             'cur_assets', 'total_assets','cash', \n",
    "             'intangible_assets', 'inventories', 'acc_receivables']]\n",
    "\n",
    "PL = df[['DataDate', 'GVKey','Iid','Sector',\n",
    "         'sales', 'COGS', 'amort','Other_exp', 'ebit', \n",
    "         'interests_paid_net','tax', 'deferred_taxes', \n",
    "         'deferred_taxes_fed','deferred_taxes_foreign', 'income_taxes' ]]\n",
    "\n",
    "CF = df[['DataDate', 'GVKey','Iid','Sector',\n",
    "         'capex', 'dividends', 'op_act_net_CF', \n",
    "         'op_inc_after_dep', 'op_in_before_dep']]\n",
    "\n",
    "other = df[['DataDate', 'GVKey','Iid','Sector',\n",
    "            'employees', 'minority_interests', \n",
    "            'noncontrolling_interests', 'marketable_sec', \n",
    "            'working_cap', 'mii', 'Implied Option Expense']]\n",
    "\n",
    "Coef_tab = df[['DataDate', 'GVKey','Iid','Sector',\n",
    "               'EarningsYld', 'EpsGrowth1Yr', 'GrossMargin', \n",
    "               'OperatingMargin','PriceBook', 'ROA', 'ROE', \n",
    "               'SalesGrowth1Yr', 'SalesGrowth5Yr', 'SalesYld' ]]"
   ]
  }
 ],
 "metadata": {
  "kernelspec": {
   "display_name": "Python 3",
   "language": "python",
   "name": "python3"
  },
  "language_info": {
   "codemirror_mode": {
    "name": "ipython",
    "version": 3
   },
   "file_extension": ".py",
   "mimetype": "text/x-python",
   "name": "python",
   "nbconvert_exporter": "python",
   "pygments_lexer": "ipython3",
   "version": "3.7.4"
  }
 },
 "nbformat": 4,
 "nbformat_minor": 2
}
